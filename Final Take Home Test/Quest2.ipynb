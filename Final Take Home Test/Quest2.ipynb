{
 "cells": [
  {
   "cell_type": "code",
   "execution_count": null,
   "id": "99ba7039",
   "metadata": {},
   "outputs": [],
   "source": [
    "import pandas as pd\n",
    "\n",
    "date = \"2025-04-27\"\n",
    "Base = \"IDR\"\n",
    "df = pd.read_json(\"./Rates/{date}_exchange_rates_{base}.json\")"
   ]
  },
  {
   "cell_type": "code",
   "execution_count": null,
   "id": "fbf5a031",
   "metadata": {},
   "outputs": [],
   "source": []
  }
 ],
 "metadata": {
  "kernelspec": {
   "display_name": "Python 3",
   "language": "python",
   "name": "python3"
  },
  "language_info": {
   "name": "python",
   "version": "3.11.9"
  }
 },
 "nbformat": 4,
 "nbformat_minor": 5
}
