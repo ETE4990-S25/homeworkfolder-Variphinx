{
 "cells": [
  {
   "cell_type": "code",
   "execution_count": 1,
   "id": "dd98248d",
   "metadata": {},
   "outputs": [],
   "source": [
    "import Quest1 \n",
    "\n",
    "Quest1.main() ## Success!!!"
   ]
  },
  {
   "cell_type": "code",
   "execution_count": 4,
   "id": "3715a24e",
   "metadata": {},
   "outputs": [
    {
     "name": "stdout",
     "output_type": "stream",
     "text": [
      "5124\n",
      "5124\n"
     ]
    }
   ],
   "source": [
    "import os\n",
    "dates = Quest1.listofDates()\n",
    "expected_dates = len(dates)\n",
    "print(expected_dates)\n",
    "\n",
    "\n",
    "actual_dates = len([f for f in os.listdir(\"Rates\")])\n",
    "print(actual_dates)\n",
    "\n",
    "## All files downloaded successfully\n",
    "## The scrolls have been obtained!!"
   ]
  }
 ],
 "metadata": {
  "kernelspec": {
   "display_name": "Python 3",
   "language": "python",
   "name": "python3"
  },
  "language_info": {
   "codemirror_mode": {
    "name": "ipython",
    "version": 3
   },
   "file_extension": ".py",
   "mimetype": "text/x-python",
   "name": "python",
   "nbconvert_exporter": "python",
   "pygments_lexer": "ipython3",
   "version": "3.11.9"
  }
 },
 "nbformat": 4,
 "nbformat_minor": 5
}
