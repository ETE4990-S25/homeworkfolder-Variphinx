{
 "cells": [
  {
   "cell_type": "code",
   "execution_count": 9,
   "id": "dd98248d",
   "metadata": {},
   "outputs": [],
   "source": [
    "import Quest1 \n",
    "\n",
    "Quest1.main() ## Success!!!"
   ]
  },
  {
   "cell_type": "code",
   "execution_count": 11,
   "id": "3715a24e",
   "metadata": {},
   "outputs": [
    {
     "name": "stdout",
     "output_type": "stream",
     "text": [
      "5126\n",
      "5123\n"
     ]
    }
   ],
   "source": [
    "import os\n",
    "dates = Quest1.listofDates()\n",
    "expected_dates = len(dates)\n",
    "print(expected_dates)\n",
    "\n",
    "base = \"BND\"  ##Change here to check   !!!\n",
    "\n",
    "actual_dates = len([f for f in os.listdir(f\"Rates/{base}\")])\n",
    "print(actual_dates)\n",
    "\n",
    "## All files downloaded successfully\n",
    "## The scrolls have been obtained!!"
   ]
  },
  {
   "cell_type": "code",
   "execution_count": null,
   "id": "22fc8fef",
   "metadata": {},
   "outputs": [],
   "source": [
    "import os  ##Testing creating folders\n",
    "\n",
    "os.makedirs(\"Rates/USD\", exist_ok=True)"
   ]
  },
  {
   "cell_type": "code",
   "execution_count": null,
   "id": "0d1a605a",
   "metadata": {},
   "outputs": [],
   "source": []
  }
 ],
 "metadata": {
  "kernelspec": {
   "display_name": "Python 3",
   "language": "python",
   "name": "python3"
  },
  "language_info": {
   "codemirror_mode": {
    "name": "ipython",
    "version": 3
   },
   "file_extension": ".py",
   "mimetype": "text/x-python",
   "name": "python",
   "nbconvert_exporter": "python",
   "pygments_lexer": "ipython3",
   "version": "3.11.9"
  }
 },
 "nbformat": 4,
 "nbformat_minor": 5
}
