{
 "cells": [
  {
   "cell_type": "markdown",
   "metadata": {},
   "source": [
    "## 1st step, determine what needs to be tested. Most methods only print something\n",
    "- Production() Make()\n",
    "- Helping DefendFarm()\n",
    "- Wild AttackFarm()\n",
    "- Any animal to Dead animal\n",
    "- Dead animals cannot do anything"
   ]
  },
  {
   "cell_type": "code",
   "execution_count": null,
   "metadata": {},
   "outputs": [
    {
     "name": "stderr",
     "output_type": "stream",
     "text": [
      ".....\n",
      "----------------------------------------------------------------------\n",
      "Ran 5 tests in 0.001s\n",
      "\n",
      "OK\n"
     ]
    },
    {
     "name": "stdout",
     "output_type": "stream",
     "text": [
      "['Animals', 'Dead', 'Helping', 'Production', 'Products', 'Wild', '__builtins__', '__cached__', '__doc__', '__file__', '__loader__', '__name__', '__package__', '__spec__']\n",
      "Bessie made Milk!\n",
      "Bessie made Milk!\n",
      "Bessie made Milk!\n",
      "Bessie made Milk!\n",
      "Bessie made Milk!\n",
      "Bessie made Milk!\n",
      "Bessie made Milk!\n",
      "Bessie made Milk!\n",
      "Bessie made Milk!\n",
      "Luna took 30 damage from Fido and now has 60 health\n",
      "Luna took 30 damage from Fido and now has 30 health\n",
      "Luna died and Fido saved the farm\n",
      "Bessie took 40 damage from Luna and now has 60 health \n",
      "Bessie took 40 damage from Luna and now has 20 health \n",
      "Bessie died at the hands of Luna\n",
      "Bessie has died at the age of 5 and can't make any more Milk\n",
      "Luna took 30 damage from Fido and now has 60 health\n",
      "Bessie took 40 damage from Luna and now has 60 health \n"
     ]
    },
    {
     "ename": "SystemExit",
     "evalue": "False",
     "output_type": "error",
     "traceback": [
      "An exception has occurred, use %tb to see the full traceback.\n",
      "\u001b[1;31mSystemExit\u001b[0m\u001b[1;31m:\u001b[0m False\n"
     ]
    },
    {
     "name": "stderr",
     "output_type": "stream",
     "text": [
      "C:\\Users\\David\\AppData\\Local\\Packages\\PythonSoftwareFoundation.Python.3.11_qbz5n2kfra8p0\\LocalCache\\local-packages\\Python311\\site-packages\\IPython\\core\\interactiveshell.py:3587: UserWarning: To exit: use 'exit', 'quit', or Ctrl-D.\n",
      "  warn(\"To exit: use 'exit', 'quit', or Ctrl-D.\", stacklevel=1)\n"
     ]
    }
   ],
   "source": [
    "import unittest\n",
    "import Lab5_David_Long as Farm\n",
    "print(dir(Farm))\n",
    "class TestFarm(unittest.TestCase):\n",
    "\n",
    "    def setUp(self):\n",
    "        self.cow = Farm.Production(\"Bessie\", 5, 100, \"Milk\")\n",
    "        self.sheepdog = Farm.Helping(\"Fido\", 3, 70, \"herding\", 30)\n",
    "        self.wolf = Farm.Wild(\"Luna\", 4, 90, 40)\n",
    "\n",
    "    def test_inits(self):\n",
    "        self.assertEqual(self.cow.name, \"Bessie\")\n",
    "        self.assertEqual(self.wolf.damage, 40)\n",
    "        self.assertEqual(self.sheepdog.role, \"herding\")\n",
    "        self.assertEqual(self.sheepdog.get_health(), 70)\n",
    "\n",
    "    def test_Make(self):\n",
    "        Farm.Products = {}\n",
    "        for i in range(1,10):\n",
    "            self.cow.Make()\n",
    "            self.assertEqual(Farm.Products[\"Milk\"], i)\n",
    "\n",
    "    def test_helping(self):\n",
    "        self.assertEqual(self.sheepdog.damage, 30)\n",
    "        self.assertEqual(self.sheepdog.role, \"herding\")\n",
    "        StartingHealth = self.wolf.get_health()\n",
    "        self.sheepdog.DefendFarm(self.wolf)\n",
    "        self.assertEqual(self.wolf.get_health(), StartingHealth - self.sheepdog.damage)\n",
    "\n",
    "    def test_wild(self):\n",
    "        self.assertEqual(self.wolf.damage, 40)\n",
    "        self.assertEqual(self.wolf.name, \"Luna\")\n",
    "        StartingHealth = self.cow.get_health()\n",
    "        self.wolf.AttackFarm(self.cow)\n",
    "        self.assertEqual(self.cow.get_health(), StartingHealth - self.wolf.damage)\n",
    "\n",
    "    def test_animal_dead(self):\n",
    "        self.sheepdog.DefendFarm(self.wolf)\n",
    "        self.sheepdog.DefendFarm(self.wolf)\n",
    "        self.sheepdog.DefendFarm(self.wolf)\n",
    "                                            ## wolf should be dead\n",
    "        self.assertEqual(self.wolf.__class__, Farm.Dead)\n",
    "        self.assertEqual(self.wolf.get_health(), 0)\n",
    "\n",
    "        self.wolf = Farm.Wild(\"Luna\", 4, 90, 40)  ## Re innit wolf\n",
    "        self.wolf.AttackFarm(self.cow)\n",
    "        self.wolf.AttackFarm(self.cow)\n",
    "        self.wolf.AttackFarm(self.cow)\n",
    "                                            ## cow should be dead\n",
    "        self.assertEqual(self.cow.__class__, Farm.Dead)\n",
    "        self.assertEqual(self.cow.get_health(), 0)\n",
    "        self.cow.Make()\n",
    "        self.assertEqual(Farm.Products[\"Milk\"], 9) ## Still 9 Milk even after another make\n",
    "        \n",
    "\n",
    "if __name__ == '__main__':\n",
    "    unittest.main(argv=['first-arg-is-ignored'])\n"
   ]
  },
  {
   "cell_type": "code",
   "execution_count": null,
   "metadata": {},
   "outputs": [],
   "source": []
  }
 ],
 "metadata": {
  "kernelspec": {
   "display_name": "Python 3",
   "language": "python",
   "name": "python3"
  },
  "language_info": {
   "codemirror_mode": {
    "name": "ipython",
    "version": 3
   },
   "file_extension": ".py",
   "mimetype": "text/x-python",
   "name": "python",
   "nbconvert_exporter": "python",
   "pygments_lexer": "ipython3",
   "version": "3.11.9"
  }
 },
 "nbformat": 4,
 "nbformat_minor": 2
}
