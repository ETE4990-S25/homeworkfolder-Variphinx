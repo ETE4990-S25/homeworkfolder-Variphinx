{
 "cells": [
  {
   "cell_type": "markdown",
   "id": "5e447dac-da84-4169-8796-3917ed6d8103",
   "metadata": {},
   "source": [
    "# Lab 10\n",
    "Understanding Docker Networks\n",
    "\n",
    "What is Container Networking?\n",
    "Container networking also called Software Defined Networking (SDN) is what allows Docker networkgin subsystems to work. \n",
    "\n",
    "Some defalt Docker Netwrok drivers are:\n",
    "- Bridge\n",
    "    - a Network that is User-defined to allow for all containers connected on the same network to communicate with eachother. \n",
    "- Host\n",
    "    - a container is attahed to a Docker host. Any traffic routed to the container must be routed from the host system.\n",
    "- Overlay\n",
    "    - Created in a network spanning multiple docker hosts. Think each of your docker containers in the lab talking to eachother\n",
    "- Macvlan\n",
    "    - used in complicated networking to assing logical addresses based on MAC addresses to the virtual network interfaces making it apear as if the container has a physical network interaface connected to the network. Used in legacy applications.\n",
    "- None\n",
    "    -  the container only has a loopback interface so it can talk to itself.\n",
    "\n"
   ]
  },
  {
   "cell_type": "markdown",
   "id": "6c1971a0-cbb0-4889-bf10-59d6f08cb1ec",
   "metadata": {},
   "source": [
    "# Part 1 - Setup"
   ]
  },
  {
   "cell_type": "code",
   "execution_count": null,
   "id": "6acffbb4-8220-4bf2-bed2-15113dad9621",
   "metadata": {},
   "outputs": [],
   "source": [
    "!docker run -d --name nginx --network=none -p 81:81 nginx"
   ]
  },
  {
   "cell_type": "markdown",
   "id": "7c2e897d",
   "metadata": {},
   "source": [
    "## Note:\n",
    "**If you get this error:**\n",
    "\n",
    "*docker: permission denied while trying to connect to the Docker daemon ...*\n",
    "\n",
    "run this in wsl: \n",
    "``` bash\n",
    "sudo usermod -aG docker $USER\n",
    "newgrp docker\n",
    "sudo systemctl restart docker\n",
    "```\n",
    "Run it again....\n",
    "\n",
    "you should get a hash number YAY!\n",
    "\n",
    "`cbb2f01cd1b...`\n",
    "\n",
    "--------------------------------------\n",
    "If you are still getting the error\n",
    "\n",
    "\n",
    "run this:\n",
    "``` bash\n",
    "sudo chmod 666 /usr/docker.sock\n",
    "```\n",
    "--------------------------------------\n",
    "**If you get this error you did things right**\n",
    "\n",
    "docker: Error response from daemon: Conflict. The container name \"/nginx\n",
    "\n",
    "--------------------------------------\n"
   ]
  },
  {
   "cell_type": "markdown",
   "id": "2d98e870-0a17-4c39-bd13-01e33efb6968",
   "metadata": {},
   "source": [
    "## we now have an nginx container \n",
    "\n",
    "NGINX serves static content (like HTML, CSS, JavaScript, images) efficiently, improving website performance."
   ]
  },
  {
   "cell_type": "code",
   "execution_count": null,
   "id": "bf176171-5f9f-4ac7-9286-425a76eb8305",
   "metadata": {},
   "outputs": [],
   "source": [
    "!curl localhost\n",
    "\n",
    "#the curl command should fail on our system "
   ]
  },
  {
   "cell_type": "markdown",
   "id": "5b36335c",
   "metadata": {},
   "source": [
    "Lets run it on the docker container "
   ]
  },
  {
   "cell_type": "code",
   "execution_count": null,
   "id": "7d5e5d9d-447c-42fe-8001-32558b74c99f",
   "metadata": {},
   "outputs": [],
   "source": [
    "!docker exec -it nginx2 /bin/sh -c \"curl google.com\"\n",
    "\n"
   ]
  },
  {
   "cell_type": "markdown",
   "id": "9ce3c2a3-94d5-4a41-9ade-d7547f0bf620",
   "metadata": {},
   "source": [
    "* curl:(6) Could not resolve host: google.com\n",
    "\n",
    "As you can see the nginx container can not talk to google.com"
   ]
  },
  {
   "cell_type": "markdown",
   "id": "350ca9e3",
   "metadata": {},
   "source": [
    "# Part 2 - Understanding the network \n",
    "Docker comes with a subcommand for handling Docker networks."
   ]
  },
  {
   "cell_type": "code",
   "execution_count": null,
   "id": "525d321d-03b1-40d5-900a-dea58424f8c7",
   "metadata": {},
   "outputs": [],
   "source": [
    "!docker network"
   ]
  },
  {
   "cell_type": "markdown",
   "id": "520215d5",
   "metadata": {},
   "source": [
    "running `docker network ls` will show us all the names of the networks.\n"
   ]
  },
  {
   "cell_type": "code",
   "execution_count": null,
   "id": "0b43ead8-1577-43d7-b877-f6e3868e861f",
   "metadata": {},
   "outputs": [],
   "source": [
    "!docker network ls "
   ]
  },
  {
   "cell_type": "markdown",
   "id": "1e1283e9",
   "metadata": {},
   "source": [
    "In the above you can see that there is a none network. \n",
    "\n",
    "When we setup the docker nginx server we did not give it a network\n",
    "\n",
    "lets look for the nginx server"
   ]
  },
  {
   "cell_type": "code",
   "execution_count": null,
   "id": "42b70960-d6ad-45b7-90ec-086ecfaa3fcf",
   "metadata": {},
   "outputs": [],
   "source": [
    "!docker network inspect none "
   ]
  },
  {
   "cell_type": "markdown",
   "id": "c447bfd3",
   "metadata": {},
   "source": [
    "## OK Enough of that nonsense\n",
    "Lets install docker and use the API to do some work this is a python class after all"
   ]
  },
  {
   "cell_type": "code",
   "execution_count": null,
   "id": "b59cdbbe",
   "metadata": {},
   "outputs": [],
   "source": [
    "!pip install docker"
   ]
  },
  {
   "cell_type": "code",
   "execution_count": null,
   "id": "df37d71d",
   "metadata": {},
   "outputs": [],
   "source": [
    "import docker\n",
    "\n",
    "client = docker.from_env()\n",
    "\n",
    "print(\"Docker version:\", client.version()['Version'])\n"
   ]
  },
  {
   "cell_type": "markdown",
   "id": "2f463d0d",
   "metadata": {},
   "source": [
    "Lets create a quick code to list the containers using the docker client"
   ]
  },
  {
   "cell_type": "code",
   "execution_count": null,
   "id": "eb64257a",
   "metadata": {},
   "outputs": [],
   "source": [
    "def list_running_containers():\n",
    "    containers = client.containers.list(all=True)# list all containers\n",
    "    #containers = client.containers.list() #list only running containers\n",
    "    for container in containers:\n",
    "        print(f\"{container.name} - {container.status}\")\n",
    "\n",
    "list_running_containers()"
   ]
  },
  {
   "cell_type": "markdown",
   "id": "18c4ee6c",
   "metadata": {},
   "source": [
    "Here you can see the running container and no surprise it is the nginx we started before\n"
   ]
  },
  {
   "cell_type": "code",
   "execution_count": null,
   "id": "32e42e0a",
   "metadata": {},
   "outputs": [],
   "source": [
    "#lest identify the network of the nginx container\n",
    "def show_container_ip(container_name):\n",
    "    container = client.containers.get(container_name)\n",
    "    networks = container.attrs['NetworkSettings']['Networks']\n",
    "    \n",
    "    for net_name, net_data in networks.items():\n",
    "        print(f\"{container_name} in network '{net_name}' has IP: {net_data['IPAddress']}\")\n",
    "\n",
    "\n",
    "show_container_ip(\"nginx\")\n"
   ]
  },
  {
   "cell_type": "markdown",
   "id": "1748a68f",
   "metadata": {},
   "source": [
    "again no surprise there is no IP address as it does not have a network. "
   ]
  },
  {
   "cell_type": "markdown",
   "id": "27f669c9",
   "metadata": {},
   "source": [
    "### ok I lied back to creating more stuff though the CLI"
   ]
  },
  {
   "cell_type": "code",
   "execution_count": null,
   "id": "8689fe8e-6afa-48a1-9c86-e05cf5f0ad51",
   "metadata": {},
   "outputs": [],
   "source": [
    "#setup another container for mysql\n",
    "!docker run -d --name mysql -p 3306:3306 -e MYSQL_ROOT_PASSWORD=1 mysql:8\n",
    "#Note the -d means detached mode so no container is using created just the MySQL database "
   ]
  },
  {
   "cell_type": "markdown",
   "id": "b312951a-708d-4e69-80b7-9d37b5bd10fc",
   "metadata": {},
   "source": [
    "## The following needs to be run in the terminal"
   ]
  },
  {
   "cell_type": "code",
   "execution_count": null,
   "id": "c1b77a0a-53a2-44a7-af22-8a4113d80666",
   "metadata": {},
   "outputs": [],
   "source": [
    "!docker run -d --name adminer -p 8080:8080 adminer\n"
   ]
  },
  {
   "cell_type": "markdown",
   "id": "814b761c",
   "metadata": {},
   "source": [
    "Run the following each in there own terminal\n",
    "\n",
    "``` bash\n",
    "docker logs -f mysql\n",
    "docker logs -f adminer\n",
    "```"
   ]
  },
  {
   "cell_type": "code",
   "execution_count": null,
   "id": "d3295ddc-40c8-4dc3-bac5-f449cedd6a1c",
   "metadata": {},
   "outputs": [],
   "source": [
    "!docker inspect mysql | grep -n1 \"IPAddress\\\":\"\n",
    "# or\n",
    "print(\"-\"*30)\n",
    "show_container_ip(\"mysql\")\n"
   ]
  },
  {
   "cell_type": "code",
   "execution_count": null,
   "id": "d245598f-5982-448f-826b-dcf2a02ea142",
   "metadata": {},
   "outputs": [],
   "source": [
    "!docker inspect adminer| grep  -n1 \"IPAddress\\\":\"\n",
    "# or\n",
    "print(\"-\"*30)\n",
    "show_container_ip(\"adminer\")\n"
   ]
  },
  {
   "cell_type": "markdown",
   "id": "0e8d4efa",
   "metadata": {},
   "source": [
    "### Lets do a bit of cleanup \n",
    "\n",
    "``` bash\n",
    "#lets remove our old container\n",
    "!docker stop adminer\n",
    "!docker rm adminer\n",
    "!docker stop mysql\n",
    "!docker rm mysql\n",
    "!docker stop nginx \n",
    "!docker rm nginx\n",
    "```"
   ]
  },
  {
   "cell_type": "code",
   "execution_count": null,
   "id": "8b58f533",
   "metadata": {},
   "outputs": [],
   "source": [
    "def clean_containers():\n",
    "    containers = client.containers.list(all=True)\n",
    "    if not containers:\n",
    "        print(\"No containers to clean.\")\n",
    "        return\n",
    "    \n",
    "    for container in containers:\n",
    "        container.stop()\n",
    "        print(f\"Waiting for {container.name} to stop...\")\n",
    "        while container.status != 'exited':\n",
    "            pass\n",
    "        \n",
    "        container.reload()\n",
    "        if container.status == 'exited':\n",
    "            print(f\"Removing {container.name}\")\n",
    "            container.remove()\n",
    "\n",
    "list_running_containers()\n",
    "\n",
    "clean_containers()\n"
   ]
  },
  {
   "cell_type": "markdown",
   "id": "083fe448-2d62-42cc-a4bc-f9b96343bd0f",
   "metadata": {},
   "source": [
    "## Setting up the network"
   ]
  },
  {
   "cell_type": "code",
   "execution_count": null,
   "id": "9c67866b-8c5a-4d3f-8616-23981e020e7e",
   "metadata": {},
   "outputs": [],
   "source": [
    "# Create a network called yourNetwork using the following command\n",
    "\n",
    "!docker network create yourNetwork"
   ]
  },
  {
   "cell_type": "code",
   "execution_count": null,
   "id": "98f9b37a-eeca-4c94-b793-67be3c732783",
   "metadata": {},
   "outputs": [],
   "source": [
    "!docker network inspect yourNetwork"
   ]
  },
  {
   "cell_type": "code",
   "execution_count": null,
   "id": "c60b5acb-99e9-42dd-83ff-5f808a1c7223",
   "metadata": {},
   "outputs": [],
   "source": [
    "!docker run -d --network yourNetwork --name mysql -p 3306:3306 -e MYSQL_ROOT_PASSWORD=1 mysql:8\n"
   ]
  },
  {
   "cell_type": "code",
   "execution_count": null,
   "id": "071b6c18-6c25-45ee-bddb-2745386107a7",
   "metadata": {},
   "outputs": [],
   "source": [
    "!docker run -d --network yourNetwork --name adminer -p 8080:8080 adminer"
   ]
  },
  {
   "cell_type": "code",
   "execution_count": null,
   "id": "a5fc6246-b507-4b1f-8b58-1e6f9994177c",
   "metadata": {},
   "outputs": [],
   "source": [
    "#Now lets connect the adminer\n",
    "!docker network connect yourNetwork adminer"
   ]
  },
  {
   "cell_type": "code",
   "execution_count": null,
   "id": "7cf0eb53-203c-4492-b5d6-2a79a70b1880",
   "metadata": {},
   "outputs": [],
   "source": [
    "!docker inspect mysql |grep -C2 \" \\\"Networks\\\"\"\n",
    "!docker inspect mysql |grep -A9 \" \\\"Networks\\\"\"| grep \" \\\"IPAddress\\\"\"\n",
    "#or\n",
    "print(\"-\"*30)\n",
    "show_container_ip(\"mysql\")"
   ]
  },
  {
   "cell_type": "code",
   "execution_count": null,
   "id": "b992ac2d-0dd7-4111-b7be-b174de9c6bec",
   "metadata": {},
   "outputs": [],
   "source": [
    "!docker inspect adminer| grep -A2 \" \\\"Networks\\\"\"\n",
    "!docker inspect adminer| grep -A9 \" \\\"Networks\\\"\"| grep \" \\\"IPAddress\\\"\"\n",
    "!ping -c 1 172.18.0.3\n",
    "#or\n",
    "print(\"-\"*30)\n",
    "show_container_ip(\"adminer\")"
   ]
  },
  {
   "cell_type": "markdown",
   "id": "b6371541-7400-4de9-8274-4784ce7ca815",
   "metadata": {},
   "source": [
    "# LAB \n",
    "As a reminder you should be submitting to me 2 files. \n",
    "- _YourName_Lab 09.ipynb\n",
    "    - this is your lab report\n",
    "- _YourName__\\<name of your script\\>.py\n",
    "\n",
    "## Part 1 - warm up\n",
    "\n",
    "Now that you have 2 containers up and running and know there connected. Create a python script that will check to see if the IP addresses of the containers are up and running. \n",
    "\n"
   ]
  },
  {
   "cell_type": "code",
   "execution_count": 24,
   "id": "c7dd0f35",
   "metadata": {},
   "outputs": [
    {
     "name": "stdout",
     "output_type": "stream",
     "text": [
      "172.17.0.3\n",
      "172.17.0.2\n"
     ]
    }
   ],
   "source": [
    "import docker\n",
    "\n",
    "container_names = ['adminer', 'mysql']\n",
    "\n",
    "\n",
    "for name in container_names:\n",
    "    container = docker.from_env().containers.get(name)\n",
    "    if container.status == 'running':\n",
    "        container.reload()\n",
    "        ip_address = container.attrs['NetworkSettings']['IPAddress']\n",
    "        print(ip_address)"
   ]
  },
  {
   "cell_type": "markdown",
   "id": "8118578f",
   "metadata": {},
   "source": [
    "\n",
    "## Part 2\n",
    "Continue with the above code and create a script that will:\n",
    "- Relaunch a container if it is ever shutdown. \n",
    "- Perform a maintenance restart after 1 day has passed. \n",
    "- Monitor the log files and outputs errors and warnings.\n",
    "\n",
    "your python file does not need to be in a docker container\n",
    "\n",
    "\n",
    "https://docs.docker.com/engine/api/sdk/examples/\n",
    "\n"
   ]
  },
  {
   "cell_type": "code",
   "execution_count": 28,
   "id": "da809287-9d9a-4c74-8608-98eeef8a4924",
   "metadata": {},
   "outputs": [
    {
     "name": "stdout",
     "output_type": "stream",
     "text": [
      "172.17.0.3\n",
      "172.17.0.2\n"
     ]
    },
    {
     "ename": "TypeError",
     "evalue": "a bytes-like object is required, not 'str'",
     "output_type": "error",
     "traceback": [
      "\u001b[1;31m---------------------------------------------------------------------------\u001b[0m",
      "\u001b[1;31mTypeError\u001b[0m                                 Traceback (most recent call last)",
      "Cell \u001b[1;32mIn[28], line 33\u001b[0m\n\u001b[0;32m     31\u001b[0m running()\n\u001b[0;32m     32\u001b[0m check()\n\u001b[1;32m---> 33\u001b[0m \u001b[43moutput\u001b[49m\u001b[43m(\u001b[49m\u001b[43m)\u001b[49m\n\u001b[0;32m     34\u001b[0m time\u001b[38;5;241m.\u001b[39msleep(\u001b[38;5;241m10\u001b[39m)\n",
      "Cell \u001b[1;32mIn[28], line 26\u001b[0m, in \u001b[0;36moutput\u001b[1;34m()\u001b[0m\n\u001b[0;32m     24\u001b[0m logs \u001b[38;5;241m=\u001b[39m container\u001b[38;5;241m.\u001b[39mlogs()\n\u001b[0;32m     25\u001b[0m \u001b[38;5;28;01mfor\u001b[39;00m line \u001b[38;5;129;01min\u001b[39;00m logs\u001b[38;5;241m.\u001b[39msplitlines(): \u001b[38;5;66;03m##splitlines from chatgpt to seperate logs by line\u001b[39;00m\n\u001b[1;32m---> 26\u001b[0m     \u001b[38;5;28;01mif\u001b[39;00m \u001b[38;5;124;43m'\u001b[39;49m\u001b[38;5;124;43merror\u001b[39;49m\u001b[38;5;124;43m'\u001b[39;49m\u001b[43m \u001b[49m\u001b[38;5;129;43;01min\u001b[39;49;00m\u001b[43m \u001b[49m\u001b[43mline\u001b[49m\u001b[38;5;241;43m.\u001b[39;49m\u001b[43mlower\u001b[49m\u001b[43m(\u001b[49m\u001b[43m)\u001b[49m \u001b[38;5;129;01mor\u001b[39;00m \u001b[38;5;124m'\u001b[39m\u001b[38;5;124mwarning\u001b[39m\u001b[38;5;124m'\u001b[39m \u001b[38;5;129;01min\u001b[39;00m line\u001b[38;5;241m.\u001b[39mlower():\n\u001b[0;32m     27\u001b[0m         \u001b[38;5;28mprint\u001b[39m(line)\n",
      "\u001b[1;31mTypeError\u001b[0m: a bytes-like object is required, not 'str'"
     ]
    }
   ],
   "source": [
    "import time\n",
    "import docker\n",
    "\n",
    "\n",
    "container_names = ['adminer', 'mysql']\n",
    "\n",
    "def check():\n",
    "    for name in container_names:\n",
    "        container = docker.from_env().containers.get(name)\n",
    "        if container.status == 'running':\n",
    "            container.reload()\n",
    "            ip_address = container.attrs['NetworkSettings']['IPAddress']\n",
    "            print(ip_address)\n",
    "\n",
    "\n",
    "def running():\n",
    "    for name in container_names:\n",
    "        if container.status != 'running':\n",
    "            container.start()\n",
    "\n",
    "def output():\n",
    "    for name in container_names:\n",
    "        container = docker.from_env().containers.get(name)\n",
    "        logs = container.logs()\n",
    "        for line in logs.splitlines(): ##splitlines from chatgpt to seperate logs by line\n",
    "            if 'error' in line.lower() or 'warning' in line.lower():\n",
    "                print(line)\n",
    "\n",
    "if __name__ == \"__main__\":\n",
    "    while True:\n",
    "        running()\n",
    "        check()\n",
    "        output()\n",
    "        time.sleep(10)\n",
    "\n"
   ]
  },
  {
   "cell_type": "code",
   "execution_count": null,
   "id": "1a655a83",
   "metadata": {},
   "outputs": [],
   "source": []
  }
 ],
 "metadata": {
  "kernelspec": {
   "display_name": "Python 3",
   "language": "python",
   "name": "python3"
  },
  "language_info": {
   "codemirror_mode": {
    "name": "ipython",
    "version": 3
   },
   "file_extension": ".py",
   "mimetype": "text/x-python",
   "name": "python",
   "nbconvert_exporter": "python",
   "pygments_lexer": "ipython3",
   "version": "3.11.9"
  }
 },
 "nbformat": 4,
 "nbformat_minor": 5
}
