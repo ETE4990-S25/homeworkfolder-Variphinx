{
 "cells": [
  {
   "cell_type": "code",
   "execution_count": 1,
   "id": "624a8595-f762-4198-9b28-66db83d39830",
   "metadata": {},
   "outputs": [
    {
     "name": "stdout",
     "output_type": "stream",
     "text": [
      "The Dice Game\n",
      "Enter 0 to stop\n",
      "You rolled: [1, 6, 3, 5, 5, 4]\n",
      "Which add to: 24\n",
      "\n",
      " \n",
      "\n",
      "You rolled: [6, 4, 2, 2, 1, 3]\n",
      "Which add to: 18\n",
      "\n",
      " \n",
      "\n",
      "You rolled: [4, 2, 6, 1, 1, 3]\n",
      "Which add to: 17\n",
      "\n",
      " \n",
      "\n",
      "You rolled: [4, 4, 4, 5, 3, 4]\n",
      "Which add to: 24\n",
      "\n",
      " \n",
      "\n",
      "You rolled: [6, 6, 1, 5, 2, 6]\n",
      "Which add to: 26\n",
      "\n",
      " \n",
      "\n",
      "\n",
      "\n",
      "Nice rolls!! Here are your stats:\n",
      "Amount of rolls:  5\n",
      "All dice added up:  109\n",
      "All dice rolls:  [1, 6, 3, 5, 5, 4, 6, 4, 2, 2, 1, 3, 4, 2, 6, 1, 1, 3, 4, 4, 4, 5, 3, 4, 6, 6, 1, 5, 2, 6]\n"
     ]
    }
   ],
   "source": [
    "## David Long\n",
    "\n",
    "import random\n",
    "print(\"The Dice Game\")\n",
    "print(\"Enter 0 to stop\")\n",
    "tally = 0\n",
    "GrandTotal = 0\n",
    "DiceRolls = [0,0,0,0,0,0]\n",
    "while(True):\n",
    "    \n",
    "    power = int(input(\"Press 1 to roll the dice:\"))\n",
    "    if(power == 0):\n",
    "        print(\"\\n\\nNice rolls!! Here are your stats:\")\n",
    "        print(\"Amount of rolls: \", tally)\n",
    "        print(\"All dice added up: \", GrandTotal)\n",
    "        print(\"All dice rolls: \", DiceRolls)\n",
    "        break\n",
    "    D0 = random.randint(1,6)\n",
    "    D1 = random.randint(1,6)\n",
    "    D2 = random.randint(1,6)\n",
    "    D3 = random.randint(1,6)\n",
    "    D4 = random.randint(1,6)\n",
    "    D5 = random.randint(1,6)\n",
    "    Dice = [D0, D1, D2, D3, D4, D5]\n",
    "\n",
    "    \n",
    "    print(\"You rolled:\", Dice)\n",
    "    total = D0+D1+D2+D3+D4+D5\n",
    "    print(\"Which add to:\", total)\n",
    "    print(\"\\n \\n\")\n",
    "    if tally == 0:\n",
    "        DiceRolls = Dice\n",
    "        GrandTotal = total\n",
    "        tally = 1\n",
    "    else:\n",
    "        DiceRolls.append(D0)\n",
    "        DiceRolls.append(D1)\n",
    "        DiceRolls.append(D2)\n",
    "        DiceRolls.append(D3)\n",
    "        DiceRolls.append(D4)\n",
    "        DiceRolls.append(D5)\n",
    "        GrandTotal = sum(DiceRolls)\n",
    "        tally = tally + 1\n",
    "\n",
    "    if(total == 36):\n",
    "        print(\"High Score!!!\")\n",
    "    elif(total == 6):\n",
    "        print(\"Wow thats rough buddy\")\n",
    "    "
   ]
  },
  {
   "cell_type": "code",
   "execution_count": 44,
   "id": "76fe7ad5-eebb-405d-bdf7-26adc4573dfe",
   "metadata": {},
   "outputs": [
    {
     "name": "stdout",
     "output_type": "stream",
     "text": [
      "\n",
      "Here are the computer's stats:\n",
      "The computer rolled  34  times with a total of  683\n",
      "The total rolls were:  [3, 5, 2, 1, 3, 6, 3, 1, 6, 4, 1, 1, 2, 5, 3, 4, 4, 4, 4, 2, 5, 4, 5, 2, 6, 2, 5, 4, 4, 5, 6, 6, 3, 6, 2, 1, 6, 1, 3, 2, 2, 2, 5, 6, 6, 5, 1, 6, 1, 4, 6, 6, 5, 1, 3, 5, 1, 4, 2, 1, 5, 6, 2, 1, 3, 2, 1, 5, 5, 2, 1, 5, 1, 3, 6, 6, 2, 2, 4, 5, 6, 4, 5, 6, 4, 3, 2, 1, 4, 2, 4, 3, 4, 3, 2, 3, 2, 4, 2, 2, 6, 5, 3, 2, 4, 4, 1, 5, 2, 1, 2, 3, 1, 5, 6, 5, 4, 4, 4, 1, 4, 3, 6, 3, 2, 1, 3, 1, 5, 4, 1, 4, 1, 5, 4, 3, 2, 4, 6, 3, 4, 6, 1, 6, 1, 4, 2, 4, 1, 1, 1, 1, 5, 1, 4, 6, 4, 3, 3, 2, 4, 2, 5, 6, 1, 1, 3, 5, 3, 4, 3, 2, 2, 6, 6, 4, 3, 4, 3, 4, 2, 6, 1, 5, 3, 2, 2, 1, 1, 5, 6, 2, 2, 6, 4, 4, 2, 2, 6, 5, 1, 1, 1, 2]\n",
      "Wow you beat the machine, I hope you feel reaaaal proud...\n"
     ]
    }
   ],
   "source": [
    "#Compare score to computer\n",
    "Rolls = 0\n",
    "ComputerTotal = 0\n",
    "ComputerDice = [0, 0, 0, 0, 0, 0]\n",
    "while Rolls != tally:\n",
    "    Rolls = Rolls + 1\n",
    "    C0 = random.randint(1,6)\n",
    "    C1 = random.randint(1,6)\n",
    "    C2 = random.randint(1,6)\n",
    "    C3 = random.randint(1,6)\n",
    "    C4 = random.randint(1,6)\n",
    "    C5 = random.randint(1,6)\n",
    "    ComputerDice = [C0, C1, C2, C3, C4, C5]\n",
    "    if Rolls == 1:\n",
    "        ComputerDiceTotal = ComputerDice\n",
    "        ComputerTotal = sum(ComputerDice)\n",
    "    else:\n",
    "        ComputerDiceTotal.append(C0)\n",
    "        ComputerDiceTotal.append(C1)\n",
    "        ComputerDiceTotal.append(C2)\n",
    "        ComputerDiceTotal.append(C3)\n",
    "        ComputerDiceTotal.append(C4)\n",
    "        ComputerDiceTotal.append(C5)\n",
    "        ComputerTotal = sum(ComputerDiceTotal)\n",
    "\n",
    "\n",
    "print(\"\\nHere are the computer's stats:\")\n",
    "print(\"The computer rolled \", Rolls, \" times with a total of \", ComputerTotal)\n",
    "print(\"The total rolls were: \", ComputerDiceTotal)\n",
    "\n",
    "if ComputerTotal > GrandTotal:\n",
    "    print(\"HAHA YOU GOT BEAT BY A MACHINE\")\n",
    "elif ComputerTotal == GrandTotal:\n",
    "    print(\"Damn y'all tied, pretty embarrassing...\")\n",
    "elif ComputerTotal < GrandTotal:\n",
    "    print(\"Wow you beat the machine, I hope you feel reaaaal proud...\")"
   ]
  },
  {
   "cell_type": "code",
   "execution_count": 43,
   "id": "bc946940-83c8-4f6c-bbdd-91a0fe68484e",
   "metadata": {},
   "outputs": [
    {
     "name": "stdout",
     "output_type": "stream",
     "text": [
      "6\n"
     ]
    }
   ],
   "source": [
    "import random\n",
    "D0 = random.randint(1, 6)\n",
    "print(D0)"
   ]
  },
  {
   "cell_type": "code",
   "execution_count": null,
   "id": "f8e1e64a-ac7e-4ce2-9037-50fdd90e5e9f",
   "metadata": {},
   "outputs": [],
   "source": [
    "\n",
    "var = [3, 5, 6, 2]\n",
    "var.append(4, 5, 3, 6)\n",
    "print(var)"
   ]
  },
  {
   "cell_type": "code",
   "execution_count": null,
   "id": "e5be2195-4462-4a00-a661-dbda5ad8406b",
   "metadata": {},
   "outputs": [],
   "source": [
    "print(sum(DiceRolls))\n",
    "print(DiceRolls)\n"
   ]
  },
  {
   "cell_type": "code",
   "execution_count": null,
   "id": "1e931c0d-4557-411f-a5e0-81a24d4e7555",
   "metadata": {},
   "outputs": [],
   "source": [
    "int DiceRoll.randint(1,6)"
   ]
  },
  {
   "cell_type": "code",
   "execution_count": 63,
   "id": "3333e3c1-c690-4a26-8c14-7a3fedef83d6",
   "metadata": {},
   "outputs": [
    {
     "name": "stdout",
     "output_type": "stream",
     "text": [
      "23\n"
     ]
    }
   ],
   "source": [
    "print(total)"
   ]
  },
  {
   "cell_type": "code",
   "execution_count": 62,
   "id": "c3a5dd20-bb66-400e-ad1a-c61aaa94d2b3",
   "metadata": {},
   "outputs": [
    {
     "name": "stdout",
     "output_type": "stream",
     "text": [
      "31\n"
     ]
    }
   ],
   "source": [
    "print(ComputerTotal)"
   ]
  },
  {
   "cell_type": "code",
   "execution_count": 45,
   "id": "21dedbd7-5f4a-4757-981e-b4e970c07cca",
   "metadata": {},
   "outputs": [
    {
     "name": "stdout",
     "output_type": "stream",
     "text": [
      "Rock, Paper, Scissors, Shoot!: paper\n"
     ]
    },
    {
     "name": "stdout",
     "output_type": "stream",
     "text": [
      "Scissors beats paper, ur bad\n"
     ]
    },
    {
     "name": "stdout",
     "output_type": "stream",
     "text": [
      "Rock, Paper, Scissors, Shoot!: scissors\n"
     ]
    },
    {
     "name": "stdout",
     "output_type": "stream",
     "text": [
      "Rock beats scissors, ur bad\n"
     ]
    },
    {
     "name": "stdout",
     "output_type": "stream",
     "text": [
      "Rock, Paper, Scissors, Shoot!: rock\n"
     ]
    },
    {
     "name": "stdout",
     "output_type": "stream",
     "text": [
      "You both picked  Rock , try again\n"
     ]
    },
    {
     "name": "stdout",
     "output_type": "stream",
     "text": [
      "Rock, Paper, Scissors, Shoot!: rock\n"
     ]
    },
    {
     "name": "stdout",
     "output_type": "stream",
     "text": [
      "You both picked  Rock , try again\n"
     ]
    },
    {
     "name": "stdout",
     "output_type": "stream",
     "text": [
      "Rock, Paper, Scissors, Shoot!: rock\n"
     ]
    },
    {
     "name": "stdout",
     "output_type": "stream",
     "text": [
      "Rock beats scissors! Nice!!\n"
     ]
    }
   ],
   "source": [
    "#Rock Paper Scissors\n",
    "\n",
    "computer_choice = \"\"\n",
    "import random\n",
    "tally = 1\n",
    "while(tally == 1 or tally == 2):\n",
    "    while(tally == 1):\n",
    "        user_choice = input(\"Rock, Paper, Scissors, Shoot!:\")\n",
    "        if user_choice.lower() not in [\"rock\", \"paper\", \"scissors\"]:\n",
    "            print(\"Incorrect input, try again\")\n",
    "        else:\n",
    "            tally = 2\n",
    "    \n",
    "    computer_choice = CompFunction()\n",
    "        \n",
    "    if computer_choice.lower() == user_choice.lower():\n",
    "        print(\"You both picked \", computer_choice, \", try again\")\n",
    "        tally = 1\n",
    "    elif computer_choice.lower() == \"scissors\" and user_choice.lower() == \"rock\":\n",
    "        print(\"Rock beats scissors! Nice!!\")\n",
    "        break\n",
    "    elif computer_choice.lower() == \"paper\" and user_choice.lower() == \"scissors\":\n",
    "        print(\"Scissors beats paper! Nice!!\")\n",
    "        break\n",
    "    elif computer_choice.lower() == \"rock\" and user_choice.lower() == \"paper\":\n",
    "        print(\"Paper beats Rock! Nice!!\")\n",
    "        break\n",
    "    elif computer_choice.lower() == \"scissors\" and user_choice.lower() == \"paper\":\n",
    "        print(\"Scissors beats paper, ur bad\")\n",
    "        tally = 1\n",
    "    elif computer_choice.lower() == \"paper\" and user_choice.lower() == \"rock\":\n",
    "        print(\"Paper beats rock, ur bad\")\n",
    "        tally = 1\n",
    "    elif computer_choice.lower() == \"rock\" and user_choice.lower() == \"scissors\":\n",
    "        print(\"Rock beats scissors, ur bad\")\n",
    "        tally = 1"
   ]
  },
  {
   "cell_type": "code",
   "execution_count": 14,
   "id": "f22cb17b-28bf-4ac0-a2e8-6a7a23584774",
   "metadata": {},
   "outputs": [],
   "source": [
    "def CompFunction():\n",
    "    comp_num = random.randint(1,3)\n",
    "    if comp_num == 1:\n",
    "        computer_choice = \"Rock\"\n",
    "    elif comp_num == 2:\n",
    "        computer_choice = \"Paper\"\n",
    "    elif comp_num == 3:\n",
    "        computer_choice = \"Scissors\"\n",
    "    return(computer_choice)"
   ]
  },
  {
   "cell_type": "code",
   "execution_count": null,
   "id": "44b3de02-4f66-4e4f-a46e-f4c8d0ebb7a3",
   "metadata": {},
   "outputs": [],
   "source": []
  }
 ],
 "metadata": {
  "kernelspec": {
   "display_name": "Python 3",
   "language": "python",
   "name": "python3"
  },
  "language_info": {
   "codemirror_mode": {
    "name": "ipython",
    "version": 3
   },
   "file_extension": ".py",
   "mimetype": "text/x-python",
   "name": "python",
   "nbconvert_exporter": "python",
   "pygments_lexer": "ipython3",
   "version": "3.13.1"
  }
 },
 "nbformat": 4,
 "nbformat_minor": 5
}
