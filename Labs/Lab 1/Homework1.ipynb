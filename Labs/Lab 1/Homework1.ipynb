{
 "cells": [
  {
   "cell_type": "code",
   "execution_count": 2,
   "id": "1a0feaa7-0458-45fb-9f94-19f56782e08d",
   "metadata": {},
   "outputs": [
    {
     "name": "stdout",
     "output_type": "stream",
     "text": [
      "Hello World!\n"
     ]
    }
   ],
   "source": [
    "print(\"Hello World!\")\n"
   ]
  },
  {
   "cell_type": "code",
   "execution_count": 4,
   "id": "1b7c7b89-df7a-4379-9018-a66f7926556e",
   "metadata": {},
   "outputs": [
    {
     "name": "stdin",
     "output_type": "stream",
     "text": [
      "enter the score: 5\n"
     ]
    },
    {
     "name": "stdout",
     "output_type": "stream",
     "text": [
      "Score is greater than 4 and is  5\n"
     ]
    }
   ],
   "source": [
    "score = int(input(\"enter the score:\"))\n",
    "if score > 4:\n",
    "    print(\"Score is greater than 4 and is \", score) \n",
    "else:\n",
    "    print(\"It is!!\")"
   ]
  },
  {
   "cell_type": "code",
   "execution_count": 32,
   "id": "a2fd1484-382f-4653-8063-5aa4af9cc4f6",
   "metadata": {},
   "outputs": [
    {
     "name": "stdin",
     "output_type": "stream",
     "text": [
      "Change your name? no\n"
     ]
    },
    {
     "name": "stdout",
     "output_type": "stream",
     "text": [
      "not valid input, try again\n"
     ]
    },
    {
     "name": "stdin",
     "output_type": "stream",
     "text": [
      "Change your name? yes\n",
      "Change name to what?: balogni\n"
     ]
    },
    {
     "name": "stdout",
     "output_type": "stream",
     "text": [
      "new name is \n",
      "balogni\n"
     ]
    }
   ],
   "source": [
    "name = \"David\"\n",
    "name_last = \"Long\"\n",
    "tab = 1\n",
    "while tab == 1:\n",
    "    if input(\"Change your name?\") == \"yes\":\n",
    "        tab=0\n",
    "        name = input(\"Change name to what?:\")\n",
    "        print(\"new name is \") \n",
    "        print(name)\n",
    "    else:\n",
    "        print(\"not valid input, try again\")"
   ]
  },
  {
   "cell_type": "code",
   "execution_count": 52,
   "id": "cf0152e2-f007-45ab-b30e-b7c5b3e97dd3",
   "metadata": {},
   "outputs": [
    {
     "name": "stdout",
     "output_type": "stream",
     "text": [
      "True\n",
      "Dragonfruit\n",
      "True\n"
     ]
    }
   ],
   "source": [
    "Fruits = [\"Apple\", \"Banana\", \"Pear\", \"Orange\", \"Watermelon\", \"Lemon\", \"Guava\", \"Dragonfruit\"]\n",
    "print(\"Dragonfruit\" in Fruits)\n",
    "print(Fruits[7])\n",
    "print(\"fruit\" not in Fruits)"
   ]
  },
  {
   "cell_type": "code",
   "execution_count": 76,
   "id": "8ef0787d-c5f5-4b65-9bfa-40d3d71f36e9",
   "metadata": {},
   "outputs": [
    {
     "name": "stdout",
     "output_type": "stream",
     "text": [
      "['Apple', 'Banana', 'Pear', 'Orange', 'Pineapple', 'Pumpkin', 'Pumpkin', 'Watermelon', 'Lemon', 'Guava', 'Dragonfruit', 'date']\n"
     ]
    }
   ],
   "source": [
    "Fruits.insert(5, \"Pumpkin\")\n",
    "print(Fruits)"
   ]
  },
  {
   "cell_type": "code",
   "execution_count": 75,
   "id": "b1377ac9-6054-4151-85e8-aa297d93cacc",
   "metadata": {},
   "outputs": [],
   "source": [
    "Fruits.append(\"date\")"
   ]
  },
  {
   "cell_type": "code",
   "execution_count": null,
   "id": "570a341d-f4d0-4b38-a46a-ea9ebc875e88",
   "metadata": {},
   "outputs": [],
   "source": []
  }
 ],
 "metadata": {
  "kernelspec": {
   "display_name": "Python 3 (ipykernel)",
   "language": "python",
   "name": "python3"
  },
  "language_info": {
   "codemirror_mode": {
    "name": "ipython",
    "version": 3
   },
   "file_extension": ".py",
   "mimetype": "text/x-python",
   "name": "python",
   "nbconvert_exporter": "python",
   "pygments_lexer": "ipython3",
   "version": "3.12.7"
  }
 },
 "nbformat": 4,
 "nbformat_minor": 5
}
