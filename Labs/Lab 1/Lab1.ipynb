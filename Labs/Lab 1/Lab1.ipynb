{
 "cells": [
  {
   "cell_type": "code",
   "execution_count": 17,
   "id": "44152b5b-848b-45ec-9465-36438a847715",
   "metadata": {},
   "outputs": [
    {
     "name": "stdin",
     "output_type": "stream",
     "text": [
      "Make a guess: 5\n",
      "Guess again: 4\n"
     ]
    },
    {
     "name": "stdout",
     "output_type": "stream",
     "text": [
      "Success!!\n"
     ]
    }
   ],
   "source": [
    "secretNumber = 4\n",
    "guess = int(input(\"Make a guess:\"))\n",
    "while(True):\n",
    "    if guess == secretNumber:\n",
    "        print(\"Success!!\")\n",
    "        break\n",
    "    else:\n",
    "        (\"Guess again:\")\n",
    "        guess = int(input(\"Guess again:\"))"
   ]
  },
  {
   "cell_type": "markdown",
   "id": "86aef636-81e4-4a6a-a926-0da5954defb2",
   "metadata": {},
   "source": [
    "#### "
   ]
  }
 ],
 "metadata": {
  "kernelspec": {
   "display_name": "Python 3 (ipykernel)",
   "language": "python",
   "name": "python3"
  },
  "language_info": {
   "codemirror_mode": {
    "name": "ipython",
    "version": 3
   },
   "file_extension": ".py",
   "mimetype": "text/x-python",
   "name": "python",
   "nbconvert_exporter": "python",
   "pygments_lexer": "ipython3",
   "version": "3.12.7"
  }
 },
 "nbformat": 4,
 "nbformat_minor": 5
}
