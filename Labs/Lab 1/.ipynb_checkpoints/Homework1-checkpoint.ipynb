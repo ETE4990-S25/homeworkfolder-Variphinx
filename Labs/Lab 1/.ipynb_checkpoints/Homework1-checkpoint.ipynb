{
 "cells": [
  {
   "cell_type": "code",
   "execution_count": 2,
   "id": "1a0feaa7-0458-45fb-9f94-19f56782e08d",
   "metadata": {},
   "outputs": [
    {
     "name": "stdout",
     "output_type": "stream",
     "text": [
      "Hello World!\n"
     ]
    }
   ],
   "source": [
    "print(\"Hello World!\")\n"
   ]
  },
  {
   "cell_type": "code",
   "execution_count": 3,
   "id": "1b7c7b89-df7a-4379-9018-a66f7926556e",
   "metadata": {},
   "outputs": [
    {
     "name": "stdin",
     "output_type": "stream",
     "text": [
      "enter the score: 3\n"
     ]
    },
    {
     "name": "stdout",
     "output_type": "stream",
     "text": [
      "It is!!\n"
     ]
    }
   ],
   "source": [
    "score = int(input(\"enter the score:\"))\n",
    "if score > 4:\n",
    "    print(\"Score is greater than 4 and is \") \n",
    "    print(score)\n",
    "else:\n",
    "    print(\"It is!!\")"
   ]
  },
  {
   "cell_type": "code",
   "execution_count": 32,
   "id": "a2fd1484-382f-4653-8063-5aa4af9cc4f6",
   "metadata": {},
   "outputs": [
    {
     "name": "stdin",
     "output_type": "stream",
     "text": [
      "Change your name? no\n"
     ]
    },
    {
     "name": "stdout",
     "output_type": "stream",
     "text": [
      "not valid input, try again\n"
     ]
    },
    {
     "name": "stdin",
     "output_type": "stream",
     "text": [
      "Change your name? yes\n",
      "Change name to what?: balogni\n"
     ]
    },
    {
     "name": "stdout",
     "output_type": "stream",
     "text": [
      "new name is \n",
      "balogni\n"
     ]
    }
   ],
   "source": [
    "name = \"David\"\n",
    "name_last = \"Long\"\n",
    "tab = 1\n",
    "while tab == 1:\n",
    "    if input(\"Change your name?\") == \"yes\":\n",
    "        tab=0\n",
    "        name = input(\"Change name to what?:\")\n",
    "        print(\"new name is \") \n",
    "        print(name)\n",
    "    else:\n",
    "        print(\"not valid input, try again\")"
   ]
  },
  {
   "cell_type": "code",
   "execution_count": 39,
   "id": "cf0152e2-f007-45ab-b30e-b7c5b3e97dd3",
   "metadata": {},
   "outputs": [
    {
     "data": {
      "text/plain": [
       "'Orange'"
      ]
     },
     "execution_count": 39,
     "metadata": {},
     "output_type": "execute_result"
    }
   ],
   "source": [
    "Fruits = [\"Apple\", \"Banana\", \"Pear\", \"Orange\", \"Watermelon\", \"Lemon\", \"Guava\", \"Dragonfruit\"]\n",
    "\"Dragonfruit\" in Fruits\n",
    "Fruits[3]"
   ]
  },
  {
   "cell_type": "code",
   "execution_count": null,
   "id": "9065a232-e0c0-4958-b251-941f8d6b1e27",
   "metadata": {},
   "outputs": [],
   "source": []
  }
 ],
 "metadata": {
  "kernelspec": {
   "display_name": "Python 3 (ipykernel)",
   "language": "python",
   "name": "python3"
  },
  "language_info": {
   "codemirror_mode": {
    "name": "ipython",
    "version": 3
   },
   "file_extension": ".py",
   "mimetype": "text/x-python",
   "name": "python",
   "nbconvert_exporter": "python",
   "pygments_lexer": "ipython3",
   "version": "3.12.7"
  }
 },
 "nbformat": 4,
 "nbformat_minor": 5
}
