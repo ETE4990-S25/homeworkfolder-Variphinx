{
 "cells": [
  {
   "cell_type": "markdown",
   "metadata": {},
   "source": [
    "# Valentine's Day Lab Assignment\n",
    "Picking a Romantic Movie\n",
    "\n",
    "## Instructions:\n",
    "1. Download a dataset of romantic movies from a public dataset repository (e.g., Kaggle).\n",
    "   - Example dataset: \"Romantic Movies Dataset\" (ensure it's in JSON format).\n",
    "2. Load the dataset from the JSON file.\n",
    "3. Create a function that helps pick a romantic movie based on user preferences.\n",
    "4. Display the selected movie details.\n",
    "5. Verify the JSON file content\n",
    "\n"
   ]
  },
  {
   "cell_type": "code",
   "execution_count": null,
   "metadata": {},
   "outputs": [],
   "source": [
    "# Sample Code:\n",
    "min_rating = float(input(\"Enter the minimum rating (0-10): \"))\n",
    "max_year = int(input(\"Enter the latest release year: \"))\n",
    "\n",
    "selected_movie = pick_movie(data, min_rating, max_year)\n",
    "\n",
    "if isinstance(selected_movie, str):\n",
    "    print(selected_movie)\n",
    "else:\n",
    "    print(f\"Selected Movie: {selected_movie['Title']}\")\n",
    "    print(f\"Year: {selected_movie['Year']}\")\n",
    "    print(f\"Rating: {selected_movie['Rating']}\")\n",
    "    print(f\"Box Office: ${selected_movie['BoxOffice']} million\")"
   ]
  },
  {
   "cell_type": "markdown",
   "metadata": {},
   "source": [
    "Pick Movie, Get Values and Get Genres functions\n"
   ]
  },
  {
   "cell_type": "code",
   "execution_count": null,
   "metadata": {},
   "outputs": [],
   "source": [
    "\n",
    "\n",
    "import json\n",
    "\n",
    "\n",
    "with open('Movies.json') as f:\n",
    "    Movies = json.load(f)\n",
    "    \n",
    "    def PickMovie(minimum_rating, latest_year, genre):\n",
    "\n",
    "        print(\"The movies that allign with your specifications include:\")\n",
    "\n",
    "        for item in Movies:\n",
    "            if minimum_rating <= float(item[\"imdb_rating\"]) and latest_year < int(item[\"year\"]):\n",
    "                print (f\"{item['name']}   Released in   {item['year']}\")\n",
    "\n",
    "    def GetGenres():\n",
    "        genre_list = []\n",
    "\n",
    "        with open('Movies.json') as f:\n",
    "            Movies = json.load(f)\n",
    "            for item in Movies:\n",
    "                genres = item[\"genres\"].split(\" , \")   ##chatgpt to help split genre string from json into individual genres\n",
    "                for genre in genres:\n",
    "                    if genre not in genre_list:    \n",
    "                        genre_list.append(genre)\n",
    "        return genre_list\n",
    "    \n",
    "\n",
    "genre_list = GetGenres()                                                       ##Get Genres Immediately \n",
    "\n",
    "\n",
    "def GetValues():\n",
    "\n",
    "    flag = True\n",
    "    while flag == True:                                                                  ##Get a correct Minimum Rating\n",
    "        minimum_rating = float(input(\"Minimum Rating from 0-10: \"))\n",
    "        if minimum_rating >= 0 and minimum_rating <= 10:\n",
    "            flag = False\n",
    "        else:\n",
    "            print(\"invalid input\")\n",
    "\n",
    "\n",
    "\n",
    "    flag = True\n",
    "    while flag == True:                                                                  ##Get a correct Year\n",
    "        latest_year = int(input(\"Latest year released: \"))\n",
    "        if latest_year >= 1900 and latest_year <= 2021:\n",
    "            flag = False\n",
    "        else:\n",
    "            print(\"invalid input\")\n",
    "\n",
    "\n",
    "\n",
    "    flag = True\n",
    "    while flag == True:                                                                 ##Get a correct Genre\n",
    "        genre = input(\"Pick a genre (enter 1 for list of genres): \")\n",
    "        if genre == \"1\":\n",
    "            print(f\"genres include: {genre_list}\")\n",
    "        elif genre in genre_list:\n",
    "            flag = False\n",
    "        else:\n",
    "            print(\"invalid input\")\n",
    "    return [minimum_rating, latest_year, genre]"
   ]
  },
  {
   "cell_type": "markdown",
   "metadata": {},
   "source": [
    "Run here to Pick Movie\n"
   ]
  },
  {
   "cell_type": "code",
   "execution_count": null,
   "metadata": {},
   "outputs": [],
   "source": [
    "temp = GetValues()                       ## warning, can output a LOT of movies\n",
    "PickMovie(temp[0], temp[1], temp[2])"
   ]
  },
  {
   "cell_type": "code",
   "execution_count": null,
   "metadata": {},
   "outputs": [],
   "source": []
  }
 ],
 "metadata": {
  "kernelspec": {
   "display_name": "Python 3",
   "language": "python",
   "name": "python3"
  },
  "language_info": {
   "codemirror_mode": {
    "name": "ipython",
    "version": 3
   },
   "file_extension": ".py",
   "mimetype": "text/x-python",
   "name": "python",
   "nbconvert_exporter": "python",
   "pygments_lexer": "ipython3",
   "version": "3.11.9"
  }
 },
 "nbformat": 4,
 "nbformat_minor": 2
}
