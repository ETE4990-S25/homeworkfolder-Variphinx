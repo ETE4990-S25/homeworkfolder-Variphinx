{
 "cells": [
  {
   "cell_type": "markdown",
   "metadata": {},
   "source": [
    "# Valentine's Day Lab Assignment\n",
    "Picking a Romantic Movie\n",
    "\n",
    "## Instructions:\n",
    "1. Download a dataset of romantic movies from a public dataset repository (e.g., Kaggle).\n",
    "   - Example dataset: \"Romantic Movies Dataset\" (ensure it's in JSON format).\n",
    "2. Load the dataset from the JSON file.\n",
    "3. Create a function that helps pick a romantic movie based on user preferences.\n",
    "4. Display the selected movie details.\n",
    "5. Verify the JSON file content\n",
    "\n"
   ]
  },
  {
   "cell_type": "code",
   "execution_count": null,
   "metadata": {},
   "outputs": [
    {
     "data": {
      "text/plain": [
       "Traceback (most recent call last):\n",
       "  File \"c:\\Users\\dllong\\.vscode\\extensions\\ms-python.python-2025.0.0-win32-x64\\python_files\\python_server.py\", line 133, in exec_user_input\n",
       "    retval = callable_(user_input, user_globals)\n",
       "  File \"<string>\", line 5, in <module>\n",
       "NameError: name 'pick_movie' is not defined\n",
       "\n"
      ]
     },
     "metadata": {},
     "output_type": "display_data"
    }
   ],
   "source": [
    "# Sample Code:\n",
    "min_rating = float(input(\"Enter the minimum rating (0-10): \"))\n",
    "max_year = int(input(\"Enter the latest release year: \"))\n",
    "\n",
    "selected_movie = pick_movie(data, min_rating, max_year)\n",
    "\n",
    "if isinstance(selected_movie, str):\n",
    "    print(selected_movie)\n",
    "else:\n",
    "    print(f\"Selected Movie: {selected_movie['Title']}\")\n",
    "    print(f\"Year: {selected_movie['Year']}\")\n",
    "    print(f\"Rating: {selected_movie['Rating']}\")\n",
    "    print(f\"Box Office: ${selected_movie['BoxOffice']} million\")"
   ]
  }
 ],
 "metadata": {
  "language_info": {
   "name": "python"
  }
 },
 "nbformat": 4,
 "nbformat_minor": 2
}
