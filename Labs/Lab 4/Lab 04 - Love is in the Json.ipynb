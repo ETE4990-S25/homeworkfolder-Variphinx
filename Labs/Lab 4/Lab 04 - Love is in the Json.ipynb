{
 "cells": [
  {
   "cell_type": "markdown",
   "metadata": {},
   "source": [
    "# Valentine's Day Lab Assignment\n",
    "Picking a Romantic Movie\n",
    "\n",
    "## Instructions:\n",
    "1. Download a dataset of romantic movies from a public dataset repository (e.g., Kaggle).\n",
    "   - Example dataset: \"Romantic Movies Dataset\" (ensure it's in JSON format).\n",
    "2. Load the dataset from the JSON file.\n",
    "3. Create a function that helps pick a romantic movie based on user preferences.\n",
    "4. Display the selected movie details.\n",
    "5. Verify the JSON file content\n",
    "\n"
   ]
  },
  {
   "cell_type": "code",
   "execution_count": null,
   "metadata": {},
   "outputs": [],
   "source": [
    "# Sample Code:\n",
    "min_rating = float(input(\"Enter the minimum rating (0-10): \"))\n",
    "max_year = int(input(\"Enter the latest release year: \"))\n",
    "\n",
    "selected_movie = pick_movie(data, min_rating, max_year)\n",
    "\n",
    "if isinstance(selected_movie, str):\n",
    "    print(selected_movie)\n",
    "else:\n",
    "    print(f\"Selected Movie: {selected_movie['Title']}\")\n",
    "    print(f\"Year: {selected_movie['Year']}\")\n",
    "    print(f\"Rating: {selected_movie['Rating']}\")\n",
    "    print(f\"Box Office: ${selected_movie['BoxOffice']} million\")"
   ]
  },
  {
   "cell_type": "markdown",
   "metadata": {},
   "source": [
    "Pick Movie, Get Values and Get Genres functions\n"
   ]
  },
  {
   "cell_type": "code",
   "execution_count": 1,
   "metadata": {},
   "outputs": [],
   "source": [
    "\n",
    "\n",
    "import json\n",
    "\n",
    "\n",
    "with open('Movies.json') as f:\n",
    "    Movies = json.load(f)\n",
    "    \n",
    "    def PickMovie(minimum_rating, latest_year, genre):\n",
    "\n",
    "        print(\"The movies that allign with your specifications include:\")\n",
    "\n",
    "        for item in Movies:\n",
    "            if minimum_rating <= float(item[\"imdb_rating\"]) and latest_year < int(item[\"year\"]):\n",
    "                print (f\"{item['name']}   Released in   {item['year']}\")\n",
    "\n",
    "    def GetGenres():\n",
    "        genre_list = []\n",
    "\n",
    "        with open('Movies.json') as f:\n",
    "            Movies = json.load(f)\n",
    "            for item in Movies:\n",
    "                genres = item[\"genres\"].split(\" , \")   ##chatgpt to help split genre string from json into individual genres\n",
    "                for genre in genres:\n",
    "                    if genre not in genre_list:    \n",
    "                        genre_list.append(genre)\n",
    "        return genre_list\n",
    "    \n",
    "\n",
    "genre_list = GetGenres()                                                       ##Get Genres Immediately \n",
    "\n",
    "\n",
    "def GetValues():\n",
    "\n",
    "    flag = True\n",
    "    while flag == True:                                                                  ##Get a correct Minimum Rating\n",
    "        minimum_rating = float(input(\"Minimum Rating from 0-10: \"))\n",
    "        if minimum_rating >= 0 and minimum_rating <= 10:\n",
    "            flag = False\n",
    "        else:\n",
    "            print(\"invalid input\")\n",
    "\n",
    "\n",
    "\n",
    "    flag = True\n",
    "    while flag == True:                                                                  ##Get a correct Year\n",
    "        latest_year = int(input(\"Latest year released: \"))\n",
    "        if latest_year >= 1900 and latest_year <= 2021:\n",
    "            flag = False\n",
    "        else:\n",
    "            print(\"invalid input\")\n",
    "\n",
    "\n",
    "\n",
    "    flag = True\n",
    "    while flag == True:                                                                 ##Get a correct Genre\n",
    "        genre = input(\"Pick a genre (enter 1 for list of genres): \")\n",
    "        if genre == \"1\":\n",
    "            print(f\"genres include: {genre_list}\")\n",
    "        elif genre in genre_list:\n",
    "            flag = False\n",
    "        else:\n",
    "            print(\"invalid input\")\n",
    "    return [minimum_rating, latest_year, genre]"
   ]
  },
  {
   "cell_type": "markdown",
   "metadata": {},
   "source": [
    "Run here to Pick Movie\n"
   ]
  },
  {
   "cell_type": "code",
   "execution_count": 4,
   "metadata": {},
   "outputs": [
    {
     "ename": "ValueError",
     "evalue": "invalid literal for int() with base 10: ''",
     "output_type": "error",
     "traceback": [
      "\u001b[1;31m---------------------------------------------------------------------------\u001b[0m",
      "\u001b[1;31mValueError\u001b[0m                                Traceback (most recent call last)",
      "Cell \u001b[1;32mIn[4], line 1\u001b[0m\n\u001b[1;32m----> 1\u001b[0m temp \u001b[38;5;241m=\u001b[39m \u001b[43mGetValues\u001b[49m\u001b[43m(\u001b[49m\u001b[43m)\u001b[49m                       \u001b[38;5;66;03m## warning, can output a LOT of movies\u001b[39;00m\n\u001b[0;32m      2\u001b[0m PickMovie(temp[\u001b[38;5;241m0\u001b[39m], temp[\u001b[38;5;241m1\u001b[39m], temp[\u001b[38;5;241m2\u001b[39m])\n",
      "Cell \u001b[1;32mIn[1], line 45\u001b[0m, in \u001b[0;36mGetValues\u001b[1;34m()\u001b[0m\n\u001b[0;32m     43\u001b[0m flag \u001b[38;5;241m=\u001b[39m \u001b[38;5;28;01mTrue\u001b[39;00m\n\u001b[0;32m     44\u001b[0m \u001b[38;5;28;01mwhile\u001b[39;00m flag \u001b[38;5;241m==\u001b[39m \u001b[38;5;28;01mTrue\u001b[39;00m:                                                                  \u001b[38;5;66;03m##Get a correct Year\u001b[39;00m\n\u001b[1;32m---> 45\u001b[0m     latest_year \u001b[38;5;241m=\u001b[39m \u001b[38;5;28;43mint\u001b[39;49m\u001b[43m(\u001b[49m\u001b[38;5;28;43minput\u001b[39;49m\u001b[43m(\u001b[49m\u001b[38;5;124;43m\"\u001b[39;49m\u001b[38;5;124;43mLatest year released: \u001b[39;49m\u001b[38;5;124;43m\"\u001b[39;49m\u001b[43m)\u001b[49m\u001b[43m)\u001b[49m\n\u001b[0;32m     46\u001b[0m     \u001b[38;5;28;01mif\u001b[39;00m latest_year \u001b[38;5;241m>\u001b[39m\u001b[38;5;241m=\u001b[39m \u001b[38;5;241m1900\u001b[39m \u001b[38;5;129;01mand\u001b[39;00m latest_year \u001b[38;5;241m<\u001b[39m\u001b[38;5;241m=\u001b[39m \u001b[38;5;241m2021\u001b[39m:\n\u001b[0;32m     47\u001b[0m         flag \u001b[38;5;241m=\u001b[39m \u001b[38;5;28;01mFalse\u001b[39;00m\n",
      "\u001b[1;31mValueError\u001b[0m: invalid literal for int() with base 10: ''"
     ]
    }
   ],
   "source": [
    "temp = GetValues()                       ## warning, can output a LOT of movies\n",
    "PickMovie(temp[0], temp[1], temp[2])"
   ]
  },
  {
   "cell_type": "code",
   "execution_count": 6,
   "metadata": {},
   "outputs": [
    {
     "name": "stdout",
     "output_type": "stream",
     "text": [
      "{'name': 'Spider-Man: Into the Spider-Verse', 'year': '2018', 'imdb_rating': '8.4', 'movie_poster': None, 'genres': 'Action , Adventure , Animation , Family , Sci-Fi', 'directors': 'Bob Persichetti', 'cast': [{'Cast_0': ['Chris Pine']}, {'Cast_1': ['Mahershala Ali']}, {'Cast_2': ['Oscar Isaac']}, {'Cast_3': ['Jake Johnson']}], 'similar_movies': [{'Movie_0': 'Along Came a Spider (2001)'}, {'Movie_1': 'Spider-Man 2 (2004)'}, {'Movie_2': 'Spider-Man (2002)'}, {'Movie_3': 'Spider-Man 3 (2007)'}]}\n",
      "{'name': 'Spider-Man: Far from Home', 'year': '2019', 'imdb_rating': '7.5', 'movie_poster': None, 'genres': 'Action , Adventure , Sci-Fi', 'directors': 'Jon Watts', 'cast': [{'Cast_0': ['Marisa Tomei']}, {'Cast_1': ['Cobie Smulders']}, {'Cast_2': ['Ben Mendelsohn']}, {'Cast_3': ['Samuel L. Jackson']}], 'similar_movies': [{'Movie_0': 'Spider-Man (2002)'}, {'Movie_1': 'Spider-Man 3 (2007)'}, {'Movie_2': 'Spider-Man: Into the Spider-Verse (2018)'}, {'Movie_3': 'Spider in the Web (2019)'}]}\n",
      "{'name': 'Spider-Man: Homecoming', 'year': '2017', 'imdb_rating': '7.4', 'movie_poster': None, 'genres': 'Action , Adventure , Sci-Fi', 'directors': 'Jon Watts', 'cast': [{'Cast_0': ['Marisa Tomei']}, {'Cast_1': ['J.J. Totah']}, {'Cast_2': ['Michael Keaton']}, {'Cast_3': ['Donald Glover']}], 'similar_movies': [{'Movie_0': 'Bloody Homecoming (2013)'}, {'Movie_1': 'Spider-Man (2002)'}, {'Movie_2': 'Spider-Man 3 (2007)'}, {'Movie_3': 'Stomp the Yard 2: Homecoming (2010)'}]}\n",
      "{'name': 'The Amazing Spider-Man 2', 'year': '2014', 'imdb_rating': '6.6', 'movie_poster': None, 'genres': 'Action , Adventure , Fantasy , Sci-Fi', 'directors': 'Marc Webb', 'cast': [{'Cast_0': ['Felicity Jones']}, {'Cast_1': ['Emma Stone']}, {'Cast_2': ['Sarah Gadon']}, {'Cast_3': ['Jamie Foxx']}], 'similar_movies': [{'Movie_0': 'Along Came a Spider (2001)'}, {'Movie_1': 'The Amazing Spider-Man (2012)'}, {'Movie_2': 'These Amazing Shadows (2011)'}, {'Movie_3': 'Amazing Grace (2006)'}]}\n",
      "{'name': 'Spider-Man 3', 'year': '2007', 'imdb_rating': '6.2', 'movie_poster': None, 'genres': 'Action , Adventure , Romance , Sci-Fi', 'directors': 'Sam Raimi', 'cast': [{'Cast_0': ['James Franco']}, {'Cast_1': ['Kirsten Dunst']}, {'Cast_2': ['James Cromwell']}, {'Cast_3': ['Tobey Maguire']}], 'similar_movies': [{'Movie_0': 'Along Came a Spider (2001)'}, {'Movie_1': 'Big Ass Spider! (2013)'}, {'Movie_2': 'Spider-Man 2 (2004)'}, {'Movie_3': 'Spider-Man (2002)'}]}\n",
      "{'name': 'The Amazing Spider-Man', 'year': '2012', 'imdb_rating': '6.9', 'movie_poster': None, 'genres': 'Action , Adventure , Fantasy , Sci-Fi', 'directors': 'Marc Webb', 'cast': [{'Cast_0': ['Kelsey Asbille']}, {'Cast_1': ['Emma Stone']}, {'Cast_2': ['Zoey Deutch']}, {'Cast_3': ['Andrew Garfield']}], 'similar_movies': [{'Movie_0': 'Along Came a Spider (2001)'}, {'Movie_1': 'The Amazing Spider-Man 2 (2014)'}, {'Movie_2': 'These Amazing Shadows (2011)'}, {'Movie_3': 'Amazing Grace (2006)'}]}\n",
      "{'name': 'Spider-Man', 'year': '2002', 'imdb_rating': '7.3', 'movie_poster': None, 'genres': 'Action , Adventure , Fantasy , Romance , Sci-Fi', 'directors': 'Sam Raimi', 'cast': [{'Cast_0': ['James Franco']}, {'Cast_1': ['Kirsten Dunst']}, {'Cast_2': ['Tobey Maguire']}, {'Cast_3': ['Willem Dafoe']}], 'similar_movies': [{'Movie_0': 'Along Came a Spider (2001)'}, {'Movie_1': 'Big Ass Spider! (2013)'}, {'Movie_2': 'Spider-Man 2 (2004)'}, {'Movie_3': 'Spider-Man 3 (2007)'}]}\n",
      "{'name': 'Spider-Man 2', 'year': '2004', 'imdb_rating': '7.3', 'movie_poster': None, 'genres': 'Action , Adventure , Fantasy , Romance , Sci-Fi', 'directors': 'Sam Raimi', 'cast': [{'Cast_0': ['James Franco']}, {'Cast_1': ['Kirsten Dunst']}, {'Cast_2': ['Tobey Maguire']}, {'Cast_3': ['Willem Dafoe']}], 'similar_movies': [{'Movie_0': 'Along Came a Spider (2001)'}, {'Movie_1': 'Big Ass Spider! (2013)'}, {'Movie_2': 'Spider-Man (2002)'}, {'Movie_3': 'Spider-Man 3 (2007)'}]}\n"
     ]
    }
   ],
   "source": [
    "with open('Movies.json') as f:             ## To search Json to find a certain movie\n",
    "            Movies = json.load(f)\n",
    "            for item in Movies:\n",
    "                Name = item[\"name\"]   \n",
    "                if \"Spider-Man\" in Name:    \n",
    "                   print (item)"
   ]
  },
  {
   "cell_type": "code",
   "execution_count": null,
   "metadata": {},
   "outputs": [],
   "source": []
  }
 ],
 "metadata": {
  "kernelspec": {
   "display_name": "Python 3",
   "language": "python",
   "name": "python3"
  },
  "language_info": {
   "codemirror_mode": {
    "name": "ipython",
    "version": 3
   },
   "file_extension": ".py",
   "mimetype": "text/x-python",
   "name": "python",
   "nbconvert_exporter": "python",
   "pygments_lexer": "ipython3",
   "version": "3.13.1"
  }
 },
 "nbformat": 4,
 "nbformat_minor": 2
}
