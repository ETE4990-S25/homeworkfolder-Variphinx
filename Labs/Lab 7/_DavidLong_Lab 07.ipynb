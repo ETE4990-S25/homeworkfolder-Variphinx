{
 "cells": [
  {
   "cell_type": "markdown",
   "metadata": {},
   "source": [
    "Your name goes here Pleaese"
   ]
  },
  {
   "cell_type": "markdown",
   "metadata": {},
   "source": [
    "## Lab Objective:\n",
    "Create a Python script that recursively searches a file system for files with identical names. Perform a comparison on files and output the file paths of identical files.\n",
    "\n",
    "## Required tasks\n",
    "1. A menu\n",
    "    - this should be fairly easy seeing as your games (should) already have a menu system\n",
    "2. Recursive Search\n",
    "    - a recursive search is a search that will travle into a folder and back out.\n",
    "3. Comparison\n",
    "    - I recomend using a check sum comparison operation like MD5 or SHA-256\n",
    "4. Output\n",
    "    - the program will output files and there directories \n",
    "        - this can be done live or after\n",
    "\n",
    "## Instructions:\n",
    "Submit the file as a .py show it running in a .ipynb file\n",
    "\n",
    "\n",
    "Please find some sample code below to get you started\n",
    "\n"
   ]
  },
  {
   "cell_type": "code",
   "execution_count": 2,
   "metadata": {},
   "outputs": [
    {
     "name": "stdout",
     "output_type": "stream",
     "text": [
      "\n",
      "--- File Duplicate Finder ---\n",
      "1. Enter directory to search\n",
      "2. Exit\n",
      "\n",
      "Duplicates Found:\n",
      "Checksum: bd1fc9172b1df4d187e233178c7c3e55\n",
      " - D:\\David\\School\\Python Coding\\Submit Git Folder\\homeworkfolder-Variphinx\\.git\\ORIG_HEAD\n",
      " - D:\\David\\School\\Python Coding\\Submit Git Folder\\homeworkfolder-Variphinx\\.git\\refs\\heads\\main\n",
      " - D:\\David\\School\\Python Coding\\Submit Git Folder\\homeworkfolder-Variphinx\\.git\\refs\\remotes\\origin\\main\n",
      "Checksum: 2fc8e3e5c6d4a8efc7a19c5708617a80\n",
      " - D:\\David\\School\\Python Coding\\Submit Git Folder\\homeworkfolder-Variphinx\\.git\\logs\\HEAD\n",
      " - D:\\David\\School\\Python Coding\\Submit Git Folder\\homeworkfolder-Variphinx\\.git\\logs\\refs\\heads\\main\n",
      "Checksum: d41d8cd98f00b204e9800998ecf8427e\n",
      " - D:\\David\\School\\Python Coding\\Submit Git Folder\\homeworkfolder-Variphinx\\Homework\\Homework 1\\Homework1.ipynb\n",
      " - D:\\David\\School\\Python Coding\\Submit Git Folder\\homeworkfolder-Variphinx\\Labs\\Lab 7\\test.txt\n",
      " - D:\\David\\School\\Python Coding\\Submit Git Folder\\homeworkfolder-Variphinx\\Labs\\Lab 7\\Duplicates\\Test.txt\n",
      " - D:\\David\\School\\Python Coding\\Submit Git Folder\\homeworkfolder-Variphinx\\Labs\\Lab 7\\Duplicates\\Testa.txt\n",
      "Checksum: c2d6287ba22f2b582f6c1cee914e1408\n",
      " - D:\\David\\School\\Python Coding\\Submit Git Folder\\homeworkfolder-Variphinx\\Labs\\Lab 1\\Lab 1 - Lists.ipynb\n",
      " - D:\\David\\School\\Python Coding\\Submit Git Folder\\homeworkfolder-Variphinx\\Labs\\Lab 1\\.ipynb_checkpoints\\Lab 1 - Lists-checkpoint.ipynb\n",
      "Checksum: 007520df12ca6f8538d906983a17ecc4\n",
      " - D:\\David\\School\\Python Coding\\Submit Git Folder\\homeworkfolder-Variphinx\\Labs\\Lab 1\\.ipynb_checkpoints\\Lab1-checkpoint.ipynb\n",
      " - D:\\David\\School\\Python Coding\\Submit Git Folder\\homeworkfolder-Variphinx\\Practice\\.ipynb_checkpoints\\Lecture4notes-checkpoint.ipynb\n",
      " - D:\\David\\School\\Python Coding\\Submit Git Folder\\homeworkfolder-Variphinx\\Practice\\.ipynb_checkpoints\\Untitled-checkpoint.ipynb\n",
      "Checksum: 309a3a8f43474db98d49edce106becd3\n",
      " - D:\\David\\School\\Python Coding\\Submit Git Folder\\homeworkfolder-Variphinx\\Lectures\\.ipynb_checkpoints\\Lecture 3 - Lists-checkpoint.ipynb\n",
      " - D:\\David\\School\\Python Coding\\Submit Git Folder\\homeworkfolder-Variphinx\\Lectures\\Lecture 3\\Lecture 3 - Lists.ipynb\n",
      "Checksum: 0b185dae880ee69e713c1a205530bdbe\n",
      " - D:\\David\\School\\Python Coding\\Submit Git Folder\\homeworkfolder-Variphinx\\Lectures\\Lecture 10\\Dagger.py\n",
      " - D:\\David\\School\\Python Coding\\Submit Git Folder\\homeworkfolder-Variphinx\\Lectures\\Lecture 9\\Dagger.py\n",
      "Checksum: 28aedc6fbf162bb88ed4b2d7f1ed6b9b\n",
      " - D:\\David\\School\\Python Coding\\Submit Git Folder\\homeworkfolder-Variphinx\\Lectures\\Lecture 6\\superheros.json\n",
      " - D:\\David\\School\\Python Coding\\Submit Git Folder\\homeworkfolder-Variphinx\\Lectures\\Lecture 7\\superheros (1).json\n",
      "\n",
      "--- File Duplicate Finder ---\n",
      "1. Enter directory to search\n",
      "2. Exit\n"
     ]
    }
   ],
   "source": [
    "import Lab7 \n",
    "\n",
    "Lab7.menu()"
   ]
  },
  {
   "cell_type": "code",
   "execution_count": 4,
   "metadata": {},
   "outputs": [
    {
     "name": "stdout",
     "output_type": "stream",
     "text": [
      "5d41402abc4b2a76b9719d911017c592\n",
      "2cf24dba5fb0a30e26e83b2ac5b9e29e1b161e5c1fa7425e73043362938b9824\n",
      "d41d8cd98f00b204e9800998ecf8427e\n",
      "e3b0c44298fc1c149afbf4c8996fb92427ae41e4649b934ca495991b7852b855\n"
     ]
    }
   ],
   "source": [
    "import hashlib\n",
    "\n",
    "print(hashlib.md5(\"hello\".encode()).hexdigest())\n",
    "print(hashlib.sha256(\"hello\".encode()).hexdigest())\n",
    "print(hashlib.md5(open(\"test.txt\", \"rb\").read()).hexdigest()) ## Will change depending on whats in the file\n",
    "print(hashlib.sha256(open(\"test.txt\", \"rb\").read()).hexdigest())"
   ]
  },
  {
   "cell_type": "code",
   "execution_count": null,
   "metadata": {},
   "outputs": [],
   "source": []
  }
 ],
 "metadata": {
  "kernelspec": {
   "display_name": "Python 3",
   "language": "python",
   "name": "python3"
  },
  "language_info": {
   "codemirror_mode": {
    "name": "ipython",
    "version": 3
   },
   "file_extension": ".py",
   "mimetype": "text/x-python",
   "name": "python",
   "nbconvert_exporter": "python",
   "pygments_lexer": "ipython3",
   "version": "3.11.9"
  }
 },
 "nbformat": 4,
 "nbformat_minor": 2
}
