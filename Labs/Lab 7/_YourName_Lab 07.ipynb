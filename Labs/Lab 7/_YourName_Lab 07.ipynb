{
 "cells": [
  {
   "cell_type": "markdown",
   "metadata": {},
   "source": [
    "Your name goes here Pleaese"
   ]
  },
  {
   "cell_type": "markdown",
   "metadata": {},
   "source": [
    "## Lab Objective:\n",
    "Create a Python script that recursively searches a file system for files with identical names. Perform a comparison on files and output the file paths of identical files.\n",
    "\n",
    "## Required tasks\n",
    "1. A menu\n",
    "    - this should be fairly easy seeing as your games (should) already have a menu system\n",
    "2. Recursive Search\n",
    "    - a recursive search is a search that will travle into a folder and back out.\n",
    "3. Comparison\n",
    "    - I recomend using a check sum comparison operation like MD5 or SHA-256\n",
    "4. Output\n",
    "    - the program will output files and there directories \n",
    "        - this can be done live or after\n",
    "\n",
    "## Instructions:\n",
    "Submit the file as a .py show it running in a .ipynb file\n",
    "\n",
    "\n",
    "Please find some sample code below to get you started\n",
    "\n"
   ]
  },
  {
   "cell_type": "code",
   "execution_count": 6,
   "metadata": {},
   "outputs": [
    {
     "name": "stdout",
     "output_type": "stream",
     "text": [
      "\n",
      "--- File Duplicate Finder ---\n",
      "1. Enter directory to search\n",
      "2. Exit\n",
      "\n",
      "Duplicates Found:\n",
      "Checksum: c2d6287ba22f2b582f6c1cee914e1408\n",
      " - D:\\David\\School\\Python Coding\\Submit Git Folder\\homeworkfolder-Variphinx\\Labs\\Lab 1\\Lab 1 - Lists.ipynb\n",
      " - D:\\David\\School\\Python Coding\\Submit Git Folder\\homeworkfolder-Variphinx\\Labs\\Lab 1\\.ipynb_checkpoints\\Lab 1 - Lists-checkpoint.ipynb\n",
      "\n",
      "--- File Duplicate Finder ---\n",
      "1. Enter directory to search\n",
      "2. Exit\n"
     ]
    }
   ],
   "source": [
    "import os\n",
    "import hashlib\n",
    "\n",
    "def menu():\n",
    "    while True:\n",
    "        print(\"\\n--- File Duplicate Finder ---\")\n",
    "        print(\"1. Enter directory to search\")\n",
    "        print(\"2. Exit\")\n",
    "        choice = input(\"Choose an option: \")\n",
    "\n",
    "        if choice == '1':\n",
    "            Folder = input(\"Enter specific directory to search:\")\n",
    "            if os.path.isdir(Folder):\n",
    "                dupes = find_duplicates(Folder)\n",
    "                if dupes:\n",
    "                    print(\"\\nDuplicates Found:\")\n",
    "                    for checksum, paths in dupes.items():\n",
    "                        if len(paths) > 1:\n",
    "                            print(f\"Checksum: {checksum}\")\n",
    "                            for path in paths:\n",
    "                                print(f\" - {path}\")\n",
    "                else:\n",
    "                    print(\"No duplicates were found\")\n",
    "\n",
    "            else:\n",
    "                print(\"Invalid Directory, Try another\")\n",
    "\n",
    "        elif choice == '2':\n",
    "            break\n",
    "\n",
    "        else:\n",
    "            print(\"Invalid\")\n",
    "\n",
    "def find_duplicates(directory):\n",
    "    # search os.walk(directory):\n",
    "    FileDict = {}\n",
    "    for root, _, files in os.walk(directory):\n",
    "        for file in files:\n",
    "            file_path = os.path.join(root, file)\n",
    "            check = get_checksum(file_path)\n",
    "            if check in FileDict:\n",
    "                FileDict[check].append(file_path)\n",
    "            else:\n",
    "                FileDict[check] = [file_path]\n",
    "    return FileDict\n",
    "    # use a dictionary to store file names and paths\n",
    "    # compare files with the same name\n",
    "\n",
    "def get_checksum(file_path):\n",
    "    hash_obj = hashlib.md5()  # Change to hashlib.sha256() if desired\n",
    "    with open(file_path, 'rb') as f:\n",
    "        while chunk := f.read(8192):\n",
    "            hash_obj.update(chunk)\n",
    "    return hash_obj.hexdigest()\n",
    "\n",
    "\n",
    "if __name__ == \"__main__\":\n",
    "    menu()"
   ]
  },
  {
   "cell_type": "code",
   "execution_count": 4,
   "metadata": {},
   "outputs": [
    {
     "name": "stdout",
     "output_type": "stream",
     "text": [
      "5d41402abc4b2a76b9719d911017c592\n",
      "2cf24dba5fb0a30e26e83b2ac5b9e29e1b161e5c1fa7425e73043362938b9824\n",
      "d41d8cd98f00b204e9800998ecf8427e\n",
      "e3b0c44298fc1c149afbf4c8996fb92427ae41e4649b934ca495991b7852b855\n"
     ]
    }
   ],
   "source": [
    "import hashlib\n",
    "\n",
    "print(hashlib.md5(\"hello\".encode()).hexdigest())\n",
    "print(hashlib.sha256(\"hello\".encode()).hexdigest())\n",
    "print(hashlib.md5(open(\"test.txt\", \"rb\").read()).hexdigest()) ## Will change depending on whats in the file\n",
    "print(hashlib.sha256(open(\"test.txt\", \"rb\").read()).hexdigest())"
   ]
  },
  {
   "cell_type": "code",
   "execution_count": null,
   "metadata": {},
   "outputs": [],
   "source": []
  }
 ],
 "metadata": {
  "kernelspec": {
   "display_name": "Python 3",
   "language": "python",
   "name": "python3"
  },
  "language_info": {
   "codemirror_mode": {
    "name": "ipython",
    "version": 3
   },
   "file_extension": ".py",
   "mimetype": "text/x-python",
   "name": "python",
   "nbconvert_exporter": "python",
   "pygments_lexer": "ipython3",
   "version": "3.11.9"
  }
 },
 "nbformat": 4,
 "nbformat_minor": 2
}
