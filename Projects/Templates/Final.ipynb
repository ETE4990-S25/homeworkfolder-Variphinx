{
 "cells": [
  {
   "cell_type": "markdown",
   "metadata": {},
   "source": [
    "## Final\n",
    "\n",
    "* section 1\n",
    "    * Open note\n",
    "\n",
    "* section 2\n",
    "    * Open note\n",
    "    * Open paper (physical form)\n",
    "    * Potentially group based\n",
    "\n",
    "section 3\n",
    "    * Take home\n",
    "    * Given Friday before finals, due Monday after finals\n",
    "\n"
   ]
  },
  {
   "cell_type": "markdown",
   "metadata": {},
   "source": []
  }
 ],
 "metadata": {
  "language_info": {
   "name": "python"
  }
 },
 "nbformat": 4,
 "nbformat_minor": 2
}
