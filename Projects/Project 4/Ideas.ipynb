{
 "cells": [
  {
   "cell_type": "markdown",
   "id": "eece522b",
   "metadata": {},
   "source": [
    "## Idea 1 ##\n",
    "    - Rewrite someones project and include EVERYTHING we have learned in class\n",
    "    - ChatGPT would be allowed\n",
    "    - Excluding asynco and only Multicore or Threading not both\n",
    "    - Every Topic (19 lectures)\n",
    "    - Potentially Jupyter Notebook with code snipits of all the topics?"
   ]
  }
 ],
 "metadata": {
  "language_info": {
   "name": "python"
  }
 },
 "nbformat": 4,
 "nbformat_minor": 5
}
