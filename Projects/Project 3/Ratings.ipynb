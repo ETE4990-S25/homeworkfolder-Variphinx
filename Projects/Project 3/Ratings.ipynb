{
 "cells": [
  {
   "cell_type": "markdown",
   "id": "cf35a138",
   "metadata": {},
   "source": [
    "# Project 3 Ratings #\n",
    "---\n",
    "## Family Pet Adventure ##\n",
    "* 14 Comments Made\n",
    "* Play-ability               6/10  \n",
    "* Readability                7/10  \n",
    "* Quality                    4/10  \n",
    "* Understanding of Python    6/10   \n",
    "* Overall                    6/10   \n",
    "    * Notes: There didnt seem to be much choice in the game, things seem to happen automatically no matter what is chosen\\\n",
    "    I think this was overly ambitious as a first project, it had potential but did not carry through\n",
    "---\n",
    "## Team Dragon Quest\n",
    "* 4 Comments Made  -  I found it very hard to find any errors or critique with this code\n",
    "* Play-ability               10/10  \n",
    "* Readability                8/10  \n",
    "* Quality                    8/10  \n",
    "* Understanding of Python    9/10  \n",
    "* Overall                    9/10  \n",
    "    * Notes: Very fun game to play even though theres only one enemy. \\\n",
    "    Code looks good and showed a good understanding of what we covered in class.\\\n",
    "---\n",
    "## Basassatron\n",
    "* 7 Comments Made  -  I felt like most lines were just print statements, which made it hard to find any code to actually critique or find flaws in\n",
    "* Play-ability               2/10  \n",
    "* Readability                6/10  \n",
    "* Quality                    3/10  \n",
    "* Understanding of Python    5/10  \n",
    "* Overall                    4/10  \n",
    "    * Notes: I could not get the game to run without editing some errors, their code is mostly print statements and a lot of elif statements.\\\n",
    "    They didnt show they had a full understanding of what we learned\n",
    "\n"
   ]
  }
 ],
 "metadata": {
  "language_info": {
   "name": "python"
  }
 },
 "nbformat": 4,
 "nbformat_minor": 5
}
