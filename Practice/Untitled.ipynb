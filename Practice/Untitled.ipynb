{
 "cells": [
  {
   "cell_type": "code",
   "execution_count": 34,
   "id": "01de57b2-0a3c-4ded-a626-df291eae7059",
   "metadata": {},
   "outputs": [],
   "source": [
    "aList = [1 ,4 ,5 ,2]"
   ]
  },
  {
   "cell_type": "code",
   "execution_count": 38,
   "id": "f531cb0c-61ad-4fe5-8a33-c7e69fe70c0c",
   "metadata": {},
   "outputs": [
    {
     "name": "stdout",
     "output_type": "stream",
     "text": [
      "[1, 4, 5, 2]\n"
     ]
    }
   ],
   "source": [
    "print(aList)"
   ]
  },
  {
   "cell_type": "code",
   "execution_count": 36,
   "id": "21e6f673-ae5d-4fd8-8efc-48f906f0d44a",
   "metadata": {},
   "outputs": [
    {
     "name": "stdout",
     "output_type": "stream",
     "text": [
      "[1, 5, 4, 2]\n"
     ]
    }
   ],
   "source": [
    "print(anotherList)"
   ]
  },
  {
   "cell_type": "code",
   "execution_count": 37,
   "id": "710311ad-f5be-4d6a-9753-98eca1357ba3",
   "metadata": {},
   "outputs": [],
   "source": [
    "anotherList = [1, 5, 4, 2]"
   ]
  },
  {
   "cell_type": "code",
   "execution_count": 30,
   "id": "2d7290f1-b27b-4f2e-9967-a43977b57046",
   "metadata": {},
   "outputs": [
    {
     "data": {
      "text/plain": [
       "False"
      ]
     },
     "execution_count": 30,
     "metadata": {},
     "output_type": "execute_result"
    }
   ],
   "source": [
    "aList == anotherList"
   ]
  },
  {
   "cell_type": "code",
   "execution_count": 31,
   "id": "2ea061e5-eb00-4716-bed5-eb2432d9cd3b",
   "metadata": {},
   "outputs": [],
   "source": [
    "aList = anotherList"
   ]
  },
  {
   "cell_type": "code",
   "execution_count": null,
   "id": "63196846-7f6c-4731-9fe6-ddd1ab145ce2",
   "metadata": {},
   "outputs": [],
   "source": []
  }
 ],
 "metadata": {
  "kernelspec": {
   "display_name": "Python 3 (ipykernel)",
   "language": "python",
   "name": "python3"
  },
  "language_info": {
   "codemirror_mode": {
    "name": "ipython",
    "version": 3
   },
   "file_extension": ".py",
   "mimetype": "text/x-python",
   "name": "python",
   "nbconvert_exporter": "python",
   "pygments_lexer": "ipython3",
   "version": "3.12.7"
  }
 },
 "nbformat": 4,
 "nbformat_minor": 5
}
