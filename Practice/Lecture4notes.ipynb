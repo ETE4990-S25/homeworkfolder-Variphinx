{
 "cells": [
  {
   "cell_type": "code",
   "execution_count": 17,
   "id": "c04225b3-aeaf-4042-a244-86fadce2c202",
   "metadata": {},
   "outputs": [],
   "source": [
    "Temp = students.items()"
   ]
  },
  {
   "cell_type": "code",
   "execution_count": 4,
   "id": "6fa759e0-7ef0-42e9-a5da-12d87616b795",
   "metadata": {},
   "outputs": [],
   "source": [
    "students = {'Class':\"senior\", 'GPA':3.2}"
   ]
  },
  {
   "cell_type": "code",
   "execution_count": 10,
   "id": "55d5de03-1cb1-4244-b801-560f7a012ab0",
   "metadata": {},
   "outputs": [
    {
     "ename": "TypeError",
     "evalue": "'dict_items' object is not subscriptable",
     "output_type": "error",
     "traceback": [
      "\u001b[1;31m---------------------------------------------------------------------------\u001b[0m",
      "\u001b[1;31mTypeError\u001b[0m                                 Traceback (most recent call last)",
      "Cell \u001b[1;32mIn[10], line 1\u001b[0m\n\u001b[1;32m----> 1\u001b[0m \u001b[38;5;28mprint\u001b[39m(Temp[\u001b[38;5;241m0\u001b[39m])\n",
      "\u001b[1;31mTypeError\u001b[0m: 'dict_items' object is not subscriptable"
     ]
    }
   ],
   "source": [
    "print(Temp[0])"
   ]
  },
  {
   "cell_type": "code",
   "execution_count": 12,
   "id": "0bd83fac-5f89-4051-96d0-5e2f29cf6663",
   "metadata": {},
   "outputs": [
    {
     "data": {
      "text/plain": [
       "dict_keys(['Class', 'GPA'])"
      ]
     },
     "execution_count": 12,
     "metadata": {},
     "output_type": "execute_result"
    }
   ],
   "source": [
    "students.keys()"
   ]
  },
  {
   "cell_type": "code",
   "execution_count": 21,
   "id": "0d7914d7-001f-4862-8a0e-33855a361fdf",
   "metadata": {},
   "outputs": [
    {
     "ename": "TypeError",
     "evalue": "'dict_values' object is not subscriptable",
     "output_type": "error",
     "traceback": [
      "\u001b[1;31m---------------------------------------------------------------------------\u001b[0m",
      "\u001b[1;31mTypeError\u001b[0m                                 Traceback (most recent call last)",
      "Cell \u001b[1;32mIn[21], line 2\u001b[0m\n\u001b[0;32m      1\u001b[0m temp \u001b[38;5;241m=\u001b[39m students\u001b[38;5;241m.\u001b[39mvalues()\n\u001b[1;32m----> 2\u001b[0m \u001b[38;5;28mprint\u001b[39m(temp[\u001b[38;5;241m1\u001b[39m])\n",
      "\u001b[1;31mTypeError\u001b[0m: 'dict_values' object is not subscriptable"
     ]
    }
   ],
   "source": [
    "temp = students.values()\n",
    "print(temp[1])"
   ]
  },
  {
   "cell_type": "code",
   "execution_count": 23,
   "id": "5b4adbff-fc96-4704-b271-25e07da1e777",
   "metadata": {},
   "outputs": [
    {
     "name": "stdout",
     "output_type": "stream",
     "text": [
      "Class\n",
      "senior\n",
      "GPA\n",
      "3.2\n"
     ]
    }
   ],
   "source": [
    "for key, value in students.items():\n",
    "    print(key)\n",
    "    print(value)"
   ]
  },
  {
   "cell_type": "code",
   "execution_count": 25,
   "id": "bab4a407-68ce-41a8-966a-06d45cb785f2",
   "metadata": {},
   "outputs": [
    {
     "name": "stdout",
     "output_type": "stream",
     "text": [
      "when\n"
     ]
    }
   ],
   "source": [
    "aTuple = (\"when\", \"now\")\n",
    "print(aTuple[0])"
   ]
  },
  {
   "cell_type": "code",
   "execution_count": 34,
   "id": "fb9726c6-8270-4cfd-9fcb-a9847e1b2986",
   "metadata": {},
   "outputs": [
    {
     "ename": "SyntaxError",
     "evalue": "invalid syntax (2533173260.py, line 16)",
     "output_type": "error",
     "traceback": [
      "\u001b[1;36m  Cell \u001b[1;32mIn[34], line 16\u001b[1;36m\u001b[0m\n\u001b[1;33m    for a, b{} in responses.items():\u001b[0m\n\u001b[1;37m            ^\u001b[0m\n\u001b[1;31mSyntaxError\u001b[0m\u001b[1;31m:\u001b[0m invalid syntax\n"
     ]
    }
   ],
   "source": [
    "def powers ():\n",
    "    active = True\n",
    "    responses = {}\n",
    "    id = 0\n",
    "    while active:\n",
    "        name = input('\\nWhat is you name:? ')\n",
    "        response = input(\"do you like donuts ? \")\n",
    "        responses[id] = {name:response}\n",
    "        id += 1\n",
    "        responses[name] = response \n",
    "        again = input(\"again? (yes/no)\")\n",
    "        if again == 'no':\n",
    "            active = False\n",
    "            print('\\n-- results --')\n",
    "            \n",
    "    for a, b in responses.items():\n",
    "        for name, response in b.items():\n",
    "            print(name + \" likes donuts \" + response)\n",
    "    print(responses)"
   ]
  },
  {
   "cell_type": "code",
   "execution_count": 33,
   "id": "5d8d324d-cf2d-4536-910f-6d048bc722c6",
   "metadata": {},
   "outputs": [
    {
     "name": "stdin",
     "output_type": "stream",
     "text": [
      "\n",
      "What is you name:?  David\n",
      "do you like donuts ?  yes\n",
      "again? (yes/no) yes\n",
      "\n",
      "What is you name:?  Andrew\n",
      "do you like donuts ?  no\n",
      "again? (yes/no) no\n"
     ]
    },
    {
     "name": "stdout",
     "output_type": "stream",
     "text": [
      "\n",
      "-- results --\n",
      "David likes donuts yes\n"
     ]
    },
    {
     "ename": "AttributeError",
     "evalue": "'str' object has no attribute 'items'",
     "output_type": "error",
     "traceback": [
      "\u001b[1;31m---------------------------------------------------------------------------\u001b[0m",
      "\u001b[1;31mAttributeError\u001b[0m                            Traceback (most recent call last)",
      "Cell \u001b[1;32mIn[33], line 1\u001b[0m\n\u001b[1;32m----> 1\u001b[0m powers()\n",
      "Cell \u001b[1;32mIn[32], line 17\u001b[0m, in \u001b[0;36mpowers\u001b[1;34m()\u001b[0m\n\u001b[0;32m     14\u001b[0m         \u001b[38;5;28mprint\u001b[39m(\u001b[38;5;124m'\u001b[39m\u001b[38;5;130;01m\\n\u001b[39;00m\u001b[38;5;124m-- results --\u001b[39m\u001b[38;5;124m'\u001b[39m)\n\u001b[0;32m     16\u001b[0m \u001b[38;5;28;01mfor\u001b[39;00m a, b \u001b[38;5;129;01min\u001b[39;00m responses\u001b[38;5;241m.\u001b[39mitems():\n\u001b[1;32m---> 17\u001b[0m     \u001b[38;5;28;01mfor\u001b[39;00m name, response \u001b[38;5;129;01min\u001b[39;00m b\u001b[38;5;241m.\u001b[39mitems():\n\u001b[0;32m     18\u001b[0m         \u001b[38;5;28mprint\u001b[39m(name \u001b[38;5;241m+\u001b[39m \u001b[38;5;124m\"\u001b[39m\u001b[38;5;124m likes donuts \u001b[39m\u001b[38;5;124m\"\u001b[39m \u001b[38;5;241m+\u001b[39m response)\n\u001b[0;32m     19\u001b[0m \u001b[38;5;28mprint\u001b[39m(responses)\n",
      "\u001b[1;31mAttributeError\u001b[0m: 'str' object has no attribute 'items'"
     ]
    }
   ],
   "source": [
    "powers()"
   ]
  },
  {
   "cell_type": "code",
   "execution_count": null,
   "id": "63b3d52c-13b0-4f45-904d-2a1bf1e9b461",
   "metadata": {},
   "outputs": [],
   "source": []
  }
 ],
 "metadata": {
  "kernelspec": {
   "display_name": "Python 3 (ipykernel)",
   "language": "python",
   "name": "python3"
  },
  "language_info": {
   "codemirror_mode": {
    "name": "ipython",
    "version": 3
   },
   "file_extension": ".py",
   "mimetype": "text/x-python",
   "name": "python",
   "nbconvert_exporter": "python",
   "pygments_lexer": "ipython3",
   "version": "3.12.7"
  }
 },
 "nbformat": 4,
 "nbformat_minor": 5
}
