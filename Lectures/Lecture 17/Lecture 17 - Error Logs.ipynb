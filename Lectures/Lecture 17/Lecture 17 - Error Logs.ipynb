{
 "cells": [
  {
   "cell_type": "markdown",
   "id": "6d766cb7",
   "metadata": {},
   "source": [
    "\n",
    "# Logging in Python: Observability and Design\n",
    "\n",
    "In production-grade software, your code is rarely run under your direct supervision. Instead, it operates within remote systems, embedded services, or cloud environments—often out of sight and in constant motion. In such contexts,\n",
    "\n",
    "When an error happens, you need to have a log that you or a software tester can capture to troubleshoot. \n",
    "\n",
    "This means using the standard output (ie. Print command) will not be useful for you or your users during runtime. So far you have been logging detailed information about internal application state, warnings, and errors that happen during program execution. \n",
    "\n",
    "> \"If code is what tells the system what to do, then logging is how the system tells *you* what it did.\"\n",
    "\n",
    "## Why Logging Matters\n",
    "\n",
    "Consider this:\n",
    "- You're not watching your program run.\n",
    "- Failures might only be discovered hours or days after they occur.\n",
    "- You need post-mortem forensic capabilities.\n",
    "\n",
    "Thus, logging isn't a luxury; it is your first line of **introspection, debugging, and accountability**.\n",
    "\n",
    "### Standard Output ≠ Logging\n",
    "\n",
    "While `print()` statements may help during early development, they fall short in reliability and configurability:\n",
    "- Cannot be easily turned off/on.\n",
    "- Cannot be redirected, filtered, or structured.\n",
    "- Do not convey severity or source.\n",
    "\n",
    "Python comes with a built-in `logging` module that provides a basic yet powerful logging system. "
   ]
  },
  {
   "cell_type": "markdown",
   "id": "b6906db4",
   "metadata": {},
   "source": [
    "### Keywords\n",
    "Each log message is associated with a **severity level**, providing a mechanism to filter and prioritize information. These are:\n",
    "\n",
    "| Level      | Description |\n",
    "|------------|-------------|\n",
    "| `CRITICAL` / `FATAL` | System is unusable. Cannot continue. |\n",
    "| `ERROR`    | Major failure. An operation failed. |\n",
    "| `WARNING`  | Anomalies that are recoverable, but notable. |\n",
    "| `INFO`     | Confirmation that things are working as expected. |\n",
    "| `DEBUG`    | Diagnostic output useful during development. |\n",
    "| `NOTSET`   | Captures everything (used for internal fallback). |"
   ]
  },
  {
   "cell_type": "code",
   "execution_count": 1,
   "id": "81ad555d-0b59-46c5-a8eb-509005037a96",
   "metadata": {},
   "outputs": [
    {
     "name": "stderr",
     "output_type": "stream",
     "text": [
      "CRITICAL:systemConfiguredLogger:OMG THE WORLD IS ENDING!!!!\n",
      "CRITICAL:systemConfiguredLogger:there is no more disk space\n",
      "ERROR:systemConfiguredLogger:file not found creating new file\n",
      "WARNING:systemConfiguredLogger:disk space is low\n"
     ]
    }
   ],
   "source": [
    "import logging\n",
    "\n",
    "logging.basicConfig()\n",
    "\n",
    "# Create the logger\n",
    "debuglog = logging.getLogger(\"systemConfiguredLogger\") ## Name it something\n",
    "\n",
    "debuglog.log(logging.CRITICAL, \"OMG THE WORLD IS ENDING!!!!\")\n",
    "\n",
    "debuglog.critical(\"there is no more disk space\")\n",
    "debuglog.error(\"file not found creating new file\")\n",
    "debuglog.warning(\"disk space is low\")\n",
    "debuglog.info(\"user logged in with correct password\")\n",
    "#notice how info is not displayed below\n",
    "#The default configuration captures messages up to the logging level of \n",
    "#WARNING level and outputs them to standard output\n"
   ]
  },
  {
   "cell_type": "code",
   "execution_count": null,
   "id": "47100f63",
   "metadata": {},
   "outputs": [
    {
     "name": "stderr",
     "output_type": "stream",
     "text": [
      "CRITICAL:my_logger:OMG THE WORLD IS ENDING!!!!\n",
      "CRITICAL:my_logger:there is no more disk space\n",
      "ERROR:my_logger:file not found creating new file\n",
      "WARNING:my_logger:disk space is low\n"
     ]
    }
   ],
   "source": [
    "import logging\n",
    "\n",
    "logging.basicConfig(level=logging.DEBUG, format='%(levelname)s: %(message)s') ##Level Debug and up should run?\n",
    "\n",
    "# Create the logger\n",
    "debuglog = logging.getLogger(\"my_logger\")\n",
    "\n",
    "debuglog.log(logging.CRITICAL, \"OMG THE WORLD IS ENDING!!!!\")\n",
    "\n",
    "debuglog.critical(\"there is no more disk space\")\n",
    "debuglog.error(\"file not found creating new file\")\n",
    "debuglog.warning(\"disk space is low\")\n",
    "debuglog.info(\"user logged in with correct password\")\n"
   ]
  },
  {
   "cell_type": "markdown",
   "id": "be263307",
   "metadata": {},
   "source": [
    "## Wait They look the same\n",
    "\n",
    "Because Jupyter notebooks persist state, if you configure logging once, it will retain the configuration. To reconfigure cleanly:\n",
    "\n",
    "```python\n",
    "import logging\n",
    "for handler in logging.root.handlers[:]:\n",
    "    logging.root.removeHandler(handler)\n",
    "```\n",
    "\n",
    "Or simply use:\n",
    "\n",
    "```python\n",
    "logging.basicConfig(..., force=True)\n",
    "```"
   ]
  },
  {
   "cell_type": "code",
   "execution_count": 4,
   "id": "b2e6c1cd",
   "metadata": {},
   "outputs": [],
   "source": [
    "# Remove all existing handlers\n",
    "for handler in logging.root.handlers[:]:\n",
    "    logging.root.removeHandler(handler)\n",
    "\n",
    "#Note:`force=True` (available in Python 3.8+):\n",
    "logging.basicConfig(level=logging.INFO, format='%(levelname)s: %(message)s')#,force=True)\n"
   ]
  },
  {
   "cell_type": "markdown",
   "id": "d48cb69c-d573-4557-82c1-3390f2d6c91e",
   "metadata": {},
   "source": [
    "### Loging types\n",
    "there a 3 built in by default log handlers they are Null, StreamHandler, FileHandler\n",
    "\n",
    "**null** - This handler does nothing\n",
    "\n",
    "**StreamHandler** - This handler emits messages to a given stream\n",
    "\n",
    "**FileHandler** - emits messages to the file specified by the filename argument\n",
    "\n",
    "### Logging handlers \n",
    "There is a long list of handelers we will not go over all of them. \n",
    "\n",
    "##Timerotating is prefered by professor"
   ]
  },
  {
   "cell_type": "code",
   "execution_count": 5,
   "id": "d7de2a92-c044-42b4-8c81-65edb48ff06c",
   "metadata": {},
   "outputs": [],
   "source": [
    "# FileHandler - timedRotating\n",
    "\n",
    "import logging.handlers\n",
    "from datetime import timedelta, datetime\n",
    "\n",
    "logger = logging.getLogger()\n",
    "\n",
    "logger.setLevel(logging.INFO) # set the logging level to INFO\n",
    "\n",
    "# create a file handler that logs to a file\n",
    "logger.addHandler(\n",
    "    logging.handlers.TimedRotatingFileHandler(\n",
    "        filename=\"archived_log.log\", #file name\n",
    "        when=\"D\", #rolls the log every day\n",
    "        backupCount=3, # only keep 3 days worth of file backups\n",
    "    )\n",
    ")\n"
   ]
  },
  {
   "cell_type": "markdown",
   "id": "d5e5b605",
   "metadata": {},
   "source": [
    "## Gu Loves his freezegun\n",
    "    Nothing is better then a freeze-gun \n",
    "The freezegun package is used to trick Python into thinking that time is passing at an increased pace and is very useful in testing"
   ]
  },
  {
   "cell_type": "code",
   "execution_count": 6,
   "id": "a637ba24-0810-4cb6-8d97-63d5b1ab1ef5",
   "metadata": {},
   "outputs": [
    {
     "name": "stdout",
     "output_type": "stream",
     "text": [
      "Collecting freezegun\n",
      "  Downloading freezegun-1.5.1-py3-none-any.whl.metadata (11 kB)\n",
      "Requirement already satisfied: python-dateutil>=2.7 in c:\\users\\dllong\\appdata\\local\\anaconda3\\lib\\site-packages (from freezegun) (2.9.0.post0)\n",
      "Requirement already satisfied: six>=1.5 in c:\\users\\dllong\\appdata\\local\\anaconda3\\lib\\site-packages (from python-dateutil>=2.7->freezegun) (1.16.0)\n",
      "Downloading freezegun-1.5.1-py3-none-any.whl (17 kB)\n",
      "Installing collected packages: freezegun\n",
      "Successfully installed freezegun-1.5.1\n"
     ]
    }
   ],
   "source": [
    "!pip install freezegun"
   ]
  },
  {
   "cell_type": "code",
   "execution_count": 7,
   "id": "c9b15de0-36cd-4887-9676-d2d86d5a1cb4",
   "metadata": {
    "scrolled": true
   },
   "outputs": [
    {
     "name": "stderr",
     "output_type": "stream",
     "text": [
      "INFO: all your base are belong to us at 2025-04-09 23:57:23.852247\n",
      "INFO: all your base are belong to us at 2025-04-10 23:57:23.852247\n",
      "INFO: all your base are belong to us at 2025-04-11 23:57:23.852247\n",
      "INFO: all your base are belong to us at 2025-04-12 23:57:23.852247\n",
      "INFO: all your base are belong to us at 2025-04-13 23:57:23.852247\n"
     ]
    }
   ],
   "source": [
    "\n",
    "from datetime import timedelta, datetime\n",
    "import time\n",
    "import logging\n",
    "import freezegun\n",
    "\n",
    "logger = logging.getLogger() #use the logger created above\n",
    "\n",
    "def main():\n",
    "    with freezegun.freeze_time() as frozen:\n",
    "        for _ in range(5):\n",
    "            frozen.tick(timedelta(hours=24))\n",
    "            time.sleep(0.1)\n",
    "            logger.info(f\"all your base are belong to us at {datetime.now()}\")\n",
    "\n",
    "if __name__ == \"__main__\":\n",
    "    main()"
   ]
  },
  {
   "cell_type": "code",
   "execution_count": 10,
   "id": "4bca97ae-33a9-428b-84fe-e665e524459c",
   "metadata": {},
   "outputs": [
    {
     "name": "stdout",
     "output_type": "stream",
     "text": [
      "all your base are belong to us at 2025-04-13 23:57:23.852247\n",
      "all your base are belong to us at 2025-04-10 23:57:23.852247\n",
      "all your base are belong to us at 2025-04-11 23:57:23.852247\n",
      "all your base are belong to us at 2025-04-12 23:57:23.852247\n"
     ]
    },
    {
     "name": "stderr",
     "output_type": "stream",
     "text": [
      "\n",
      "archived_log.log\n",
      "\n",
      "\n",
      "\n",
      "archived_log.log.2025-04-10\n",
      "\n",
      "\n",
      "\n",
      "archived_log.log.2025-04-11\n",
      "\n",
      "\n",
      "\n",
      "archived_log.log.2025-04-12\n",
      "\n",
      "\n"
     ]
    }
   ],
   "source": [
    "#!cat archived_log.log*\n",
    "#windows\n",
    "!type archived_log.log*\n"
   ]
  },
  {
   "cell_type": "code",
   "execution_count": 12,
   "id": "8fe766a6",
   "metadata": {},
   "outputs": [
    {
     "name": "stdout",
     "output_type": "stream",
     "text": [
      "c:\\Users\\dllong\\4990 Python\\Lectures\\homeworkfolder-Variphinx\\Lectures\\Lecture 17\\archived_log.log\n"
     ]
    },
    {
     "name": "stderr",
     "output_type": "stream",
     "text": [
      "The process cannot access the file because it is being used by another process.\n"
     ]
    }
   ],
   "source": [
    "#!rm archived_log.log*\n",
    "#Windows\n",
    "!del archived_log.log*"
   ]
  },
  {
   "cell_type": "markdown",
   "id": "e8846fa8",
   "metadata": {},
   "source": [
    "## Formatting  "
   ]
  },
  {
   "cell_type": "markdown",
   "id": "e8e3b718-141e-44be-b6bd-c95b1f81b5a6",
   "metadata": {},
   "source": [
    "Notice that the above log does not have the \"INFO\" tag and that is because it was not configured. \n",
    "\n",
    "\n",
    "Lets correct this by using the formater "
   ]
  },
  {
   "cell_type": "code",
   "execution_count": null,
   "id": "cd78d8d0-b7a1-4051-b435-aefbde88ce51",
   "metadata": {},
   "outputs": [],
   "source": [
    "logger = logging.getLogger()\n",
    "logger.setLevel(logging.CRITICAL) #log Level\n",
    "formatter = logging.Formatter(         ##Makes the file look much nicer=     Time |  Level  |  Message\n",
    "    fmt=(\n",
    "        \"%(asctime)s | %(levelname)s | \"\n",
    "        \"%(message)s\"\n",
    "    )\n",
    ")\n",
    "handler = logging.handlers.TimedRotatingFileHandler(\n",
    "    filename=\"formatedLog.log\",\n",
    "    when=\"D\",\n",
    "    backupCount=3,\n",
    ")\n",
    "handler.setFormatter(formatter)\n",
    "logger.addHandler(handler)"
   ]
  },
  {
   "cell_type": "markdown",
   "id": "18be700f-aa75-491b-8e52-5a2407f6dca4",
   "metadata": {},
   "source": [
    "*Formater is customizable see below:*\n",
    "\n",
    "**fmt** - This is a string formatting pattern for the output message. \n",
    "\n",
    "**datefmt** - This is a date formatting pattern for representing the message timestamp. \n",
    "\n",
    "**style** - This specifies the string formatting style used for the fmt argument. It can be either '%' (percent formatting), '{' (str.format() formatting), or '$' (string.Template formatting). It defaults to '%'.\n",
    "\n",
    "**validate** - This specifies whether to validate the fmt formatting argument against the style argument. It defaults to True."
   ]
  },
  {
   "cell_type": "code",
   "execution_count": 17,
   "id": "e9f1f6e0-3e2c-4ce1-8da7-1879653d6036",
   "metadata": {},
   "outputs": [
    {
     "name": "stderr",
     "output_type": "stream",
     "text": [
      "WARNING: all your base are belong to us\n",
      "WARNING: all your base are belong to us\n",
      "WARNING: all your base are belong to us\n",
      "WARNING: all your base are belong to us\n",
      "WARNING: all your base are belong to us\n"
     ]
    }
   ],
   "source": [
    "import time\n",
    "import logging\n",
    "import freezegun\n",
    "\n",
    "logger.setLevel(logging.WARNING) #log Level\n",
    "\n",
    "def main():\n",
    "    with freezegun.freeze_time() as frozen:\n",
    "        for _ in range(5):\n",
    "            frozen.tick(timedelta(hours=24))\n",
    "            time.sleep(0.1)\n",
    "            logger.warning(f\"all your base are belong to us\")\n",
    "if __name__ == \"__main__\":\n",
    "    main()"
   ]
  },
  {
   "cell_type": "code",
   "execution_count": 15,
   "id": "22caf799-b61e-4cc5-a5bc-320474bb37b8",
   "metadata": {},
   "outputs": [],
   "source": [
    "!type formatedLog.log"
   ]
  },
  {
   "cell_type": "markdown",
   "id": "279150b0-3c03-4144-9624-4efe6db5c5e8",
   "metadata": {},
   "source": [
    "### Costomized Logging\n",
    "in your adventures you may find that some libraries log differently then what you desire. \n",
    "\n",
    "```python\n",
    "logger = logging.getLogger(__name__) ##Name of the logger, not the file\n",
    "\n",
    "debuglog = logging.getLogger(\"my_logger\")\n",
    "```\n",
    "\\_\\_name\\_\\_\" will be the named log\n",
    "\n"
   ]
  },
  {
   "cell_type": "code",
   "execution_count": null,
   "id": "6e2b4409-5247-4733-b276-b942513ae364",
   "metadata": {},
   "outputs": [],
   "source": [
    "# silance the log\n",
    "logger.disabled = False\n",
    "#Overriding handlers\n",
    "logger.handlers.clear()\n",
    "#Changing logger verbosity\n",
    "logger.setLevel(logging.WARNING)"
   ]
  },
  {
   "cell_type": "markdown",
   "id": "01d94ebc-a163-4bba-a120-032994ef06cc",
   "metadata": {},
   "source": [
    "### Fun with ~flags~ logs \n",
    "\n",
    "Periods are an import part of logs. A period will build a hierarchy of loggers.\n",
    "\n",
    "for example  logger.lib.util\n",
    "\n",
    "The system will create/search for logger registered under logger.lib.util\n",
    "\n",
    "Then will create/search for logger regestered as logger.lib then logger. \n",
    "\n",
    "note if logger.util or logger are not found logger.lib.util will become the parrent. \n",
    "\n",
    "Best practice is to define log handlers only at the top-level root logger. Otherwise, it will be hard to track all propagation rules and make sure that every message is logged only once\n",
    "\n"
   ]
  },
  {
   "cell_type": "code",
   "execution_count": null,
   "id": "54208fdb-32f4-4185-b48a-43ac24313284",
   "metadata": {},
   "outputs": [],
   "source": [
    "parrentLog = logging.getLogger(\"my_logger\")\n",
    "parrentLog.setLevel(logging.INFO)\n",
    "#parrentLog.setLevel(logging.CRITICAL)\n",
    "childLog = logging.getLogger(\"my_logger.util\")\n",
    "childLog.setLevel(logging.CRITICAL)\n",
    "#childLog.setLevel(logging.INFO)\n",
    "formatter = logging.Formatter(\n",
    "    fmt=(\n",
    "        \"%(asctime)s | %(levelname)s | \"\n",
    "        \"%(message)s\"\n",
    "    )\n",
    ")\n",
    "handler = logging.handlers.TimedRotatingFileHandler(\n",
    "    filename=\"parent.log\",\n",
    "    when=\"D\",\n",
    "    backupCount=3,\n",
    ")\n",
    "handler2 = logging.handlers.TimedRotatingFileHandler(\n",
    "    filename=\"child.log\",\n",
    "    when=\"D\",\n",
    "    backupCount=3,\n",
    ")\n",
    "handler.setFormatter(formatter)\n",
    "parrentLog.addHandler(handler)\n",
    "#childLog.addHandler(handler2)"
   ]
  },
  {
   "cell_type": "code",
   "execution_count": null,
   "id": "ea48fce8-b0b9-4f12-9205-bd57b906251e",
   "metadata": {},
   "outputs": [],
   "source": [
    "childLog.critical(f\"all your base are belong to us\")\n",
    "childLog.info(f\"hello\")"
   ]
  },
  {
   "cell_type": "code",
   "execution_count": null,
   "id": "076fcc96-41d8-4784-959c-285c10b72d53",
   "metadata": {},
   "outputs": [],
   "source": [
    "!cat child.log\n",
    "!cat parent.log"
   ]
  }
 ],
 "metadata": {
  "kernelspec": {
   "display_name": "base",
   "language": "python",
   "name": "python3"
  },
  "language_info": {
   "codemirror_mode": {
    "name": "ipython",
    "version": 3
   },
   "file_extension": ".py",
   "mimetype": "text/x-python",
   "name": "python",
   "nbconvert_exporter": "python",
   "pygments_lexer": "ipython3",
   "version": "3.12.7"
  }
 },
 "nbformat": 4,
 "nbformat_minor": 5
}
