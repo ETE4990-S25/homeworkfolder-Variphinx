{
 "cells": [
  {
   "cell_type": "markdown",
   "id": "209eb1a3",
   "metadata": {},
   "source": [
    "# Pandas\n",
    "\n",
    "Pandas is a powerful Python library used for data manipulation and analysis. It provides two primary data structures:\n",
    "\n",
    "- **Series**: A one-dimensional array-like structure.\n",
    "- **DataFrame**: A two-dimensional tabular structure with rows and columns.\n",
    "\n",
    "Pandas is widely used in data science and machine learning and in conjnctions wiht its tools for cleaning, filtering, reshaping, and merging data it allows you to view data and perform math on large sets of data."
   ]
  },
  {
   "cell_type": "markdown",
   "id": "d212ea67",
   "metadata": {},
   "source": [
    "## setup"
   ]
  },
  {
   "cell_type": "code",
   "execution_count": 1,
   "id": "d99f04df",
   "metadata": {},
   "outputs": [
    {
     "name": "stdout",
     "output_type": "stream",
     "text": [
      "Requirement already satisfied: pandas in c:\\users\\dllong\\appdata\\local\\anaconda3\\lib\\site-packages (2.2.2)\n",
      "Requirement already satisfied: numpy>=1.26.0 in c:\\users\\dllong\\appdata\\local\\anaconda3\\lib\\site-packages (from pandas) (1.26.4)\n",
      "Requirement already satisfied: python-dateutil>=2.8.2 in c:\\users\\dllong\\appdata\\local\\anaconda3\\lib\\site-packages (from pandas) (2.9.0.post0)\n",
      "Requirement already satisfied: pytz>=2020.1 in c:\\users\\dllong\\appdata\\local\\anaconda3\\lib\\site-packages (from pandas) (2024.1)\n",
      "Requirement already satisfied: tzdata>=2022.7 in c:\\users\\dllong\\appdata\\local\\anaconda3\\lib\\site-packages (from pandas) (2023.3)\n",
      "Requirement already satisfied: six>=1.5 in c:\\users\\dllong\\appdata\\local\\anaconda3\\lib\\site-packages (from python-dateutil>=2.8.2->pandas) (1.16.0)\n"
     ]
    }
   ],
   "source": [
    "!pip install pandas"
   ]
  },
  {
   "cell_type": "code",
   "execution_count": 2,
   "id": "4adaeeeb",
   "metadata": {},
   "outputs": [],
   "source": [
    "import pandas as pd #Import the pandas library with pd alias"
   ]
  },
  {
   "cell_type": "code",
   "execution_count": 3,
   "id": "ac955e7f",
   "metadata": {},
   "outputs": [
    {
     "data": {
      "text/plain": [
       "(16598, 11)"
      ]
     },
     "execution_count": 3,
     "metadata": {},
     "output_type": "execute_result"
    }
   ],
   "source": [
    "gameData = pd.read_csv (\"vgsales.csv\") #import iris data as dataframe\n",
    "gameData.shape #print the shape of the dataframe"
   ]
  },
  {
   "cell_type": "markdown",
   "id": "588dcc96",
   "metadata": {},
   "source": [
    "read_csv (like in JSON) method,  for the .csv file, and storing it in a dataframe object. \n",
    "\n",
    "Note: A CSV is basicly an excell sheet."
   ]
  },
  {
   "cell_type": "code",
   "execution_count": 4,
   "id": "4b341680",
   "metadata": {},
   "outputs": [
    {
     "data": {
      "text/plain": [
       "Index(['Rank', 'Name', 'Platform', 'Year', 'Genre', 'Publisher', 'NA_Sales',\n",
       "       'EU_Sales', 'JP_Sales', 'Other_Sales', 'Global_Sales'],\n",
       "      dtype='object')"
      ]
     },
     "execution_count": 4,
     "metadata": {},
     "output_type": "execute_result"
    }
   ],
   "source": [
    "gameData.columns # get the column names"
   ]
  },
  {
   "cell_type": "code",
   "execution_count": 5,
   "id": "b7507eac",
   "metadata": {},
   "outputs": [
    {
     "data": {
      "text/html": [
       "<div>\n",
       "<style scoped>\n",
       "    .dataframe tbody tr th:only-of-type {\n",
       "        vertical-align: middle;\n",
       "    }\n",
       "\n",
       "    .dataframe tbody tr th {\n",
       "        vertical-align: top;\n",
       "    }\n",
       "\n",
       "    .dataframe thead th {\n",
       "        text-align: right;\n",
       "    }\n",
       "</style>\n",
       "<table border=\"1\" class=\"dataframe\">\n",
       "  <thead>\n",
       "    <tr style=\"text-align: right;\">\n",
       "      <th></th>\n",
       "      <th>Rank</th>\n",
       "      <th>Name</th>\n",
       "      <th>Platform</th>\n",
       "      <th>Year</th>\n",
       "      <th>Genre</th>\n",
       "      <th>Publisher</th>\n",
       "      <th>NA_Sales</th>\n",
       "      <th>EU_Sales</th>\n",
       "      <th>JP_Sales</th>\n",
       "      <th>Other_Sales</th>\n",
       "      <th>Global_Sales</th>\n",
       "    </tr>\n",
       "  </thead>\n",
       "  <tbody>\n",
       "    <tr>\n",
       "      <th>0</th>\n",
       "      <td>1</td>\n",
       "      <td>Wii Sports</td>\n",
       "      <td>Wii</td>\n",
       "      <td>2006.0</td>\n",
       "      <td>Sports</td>\n",
       "      <td>Nintendo</td>\n",
       "      <td>41.49</td>\n",
       "      <td>29.02</td>\n",
       "      <td>3.77</td>\n",
       "      <td>8.46</td>\n",
       "      <td>82.74</td>\n",
       "    </tr>\n",
       "    <tr>\n",
       "      <th>1</th>\n",
       "      <td>2</td>\n",
       "      <td>Super Mario Bros.</td>\n",
       "      <td>NES</td>\n",
       "      <td>1985.0</td>\n",
       "      <td>Platform</td>\n",
       "      <td>Nintendo</td>\n",
       "      <td>29.08</td>\n",
       "      <td>3.58</td>\n",
       "      <td>6.81</td>\n",
       "      <td>0.77</td>\n",
       "      <td>40.24</td>\n",
       "    </tr>\n",
       "    <tr>\n",
       "      <th>2</th>\n",
       "      <td>3</td>\n",
       "      <td>Mario Kart Wii</td>\n",
       "      <td>Wii</td>\n",
       "      <td>2008.0</td>\n",
       "      <td>Racing</td>\n",
       "      <td>Nintendo</td>\n",
       "      <td>15.85</td>\n",
       "      <td>12.88</td>\n",
       "      <td>3.79</td>\n",
       "      <td>3.31</td>\n",
       "      <td>35.82</td>\n",
       "    </tr>\n",
       "  </tbody>\n",
       "</table>\n",
       "</div>"
      ],
      "text/plain": [
       "   Rank               Name Platform    Year     Genre Publisher  NA_Sales  \\\n",
       "0     1         Wii Sports      Wii  2006.0    Sports  Nintendo     41.49   \n",
       "1     2  Super Mario Bros.      NES  1985.0  Platform  Nintendo     29.08   \n",
       "2     3     Mario Kart Wii      Wii  2008.0    Racing  Nintendo     15.85   \n",
       "\n",
       "   EU_Sales  JP_Sales  Other_Sales  Global_Sales  \n",
       "0     29.02      3.77         8.46         82.74  \n",
       "1      3.58      6.81         0.77         40.24  \n",
       "2     12.88      3.79         3.31         35.82  "
      ]
     },
     "execution_count": 5,
     "metadata": {},
     "output_type": "execute_result"
    }
   ],
   "source": [
    "gameData.head(3) # show the first 3 rows of the data"
   ]
  },
  {
   "cell_type": "code",
   "execution_count": 6,
   "id": "c67f0011",
   "metadata": {},
   "outputs": [
    {
     "data": {
      "text/plain": [
       "0           Wii Sports\n",
       "1    Super Mario Bros.\n",
       "2       Mario Kart Wii\n",
       "Name: Name, dtype: object"
      ]
     },
     "execution_count": 6,
     "metadata": {},
     "output_type": "execute_result"
    }
   ],
   "source": [
    "gameData[u'Name'].head(3) #output the first 3 rows of the Name column"
   ]
  },
  {
   "cell_type": "code",
   "execution_count": 7,
   "id": "f3e861ba",
   "metadata": {},
   "outputs": [
    {
     "data": {
      "text/html": [
       "<div>\n",
       "<style scoped>\n",
       "    .dataframe tbody tr th:only-of-type {\n",
       "        vertical-align: middle;\n",
       "    }\n",
       "\n",
       "    .dataframe tbody tr th {\n",
       "        vertical-align: top;\n",
       "    }\n",
       "\n",
       "    .dataframe thead th {\n",
       "        text-align: right;\n",
       "    }\n",
       "</style>\n",
       "<table border=\"1\" class=\"dataframe\">\n",
       "  <thead>\n",
       "    <tr style=\"text-align: right;\">\n",
       "      <th></th>\n",
       "      <th>Rank</th>\n",
       "      <th>Year</th>\n",
       "      <th>NA_Sales</th>\n",
       "      <th>EU_Sales</th>\n",
       "      <th>JP_Sales</th>\n",
       "      <th>Other_Sales</th>\n",
       "      <th>Global_Sales</th>\n",
       "    </tr>\n",
       "  </thead>\n",
       "  <tbody>\n",
       "    <tr>\n",
       "      <th>count</th>\n",
       "      <td>16598.000000</td>\n",
       "      <td>16327.000000</td>\n",
       "      <td>16598.000000</td>\n",
       "      <td>16598.000000</td>\n",
       "      <td>16598.000000</td>\n",
       "      <td>16598.000000</td>\n",
       "      <td>16598.000000</td>\n",
       "    </tr>\n",
       "    <tr>\n",
       "      <th>mean</th>\n",
       "      <td>8300.605254</td>\n",
       "      <td>2006.406443</td>\n",
       "      <td>0.264667</td>\n",
       "      <td>0.146652</td>\n",
       "      <td>0.077782</td>\n",
       "      <td>0.048063</td>\n",
       "      <td>0.537441</td>\n",
       "    </tr>\n",
       "    <tr>\n",
       "      <th>std</th>\n",
       "      <td>4791.853933</td>\n",
       "      <td>5.828981</td>\n",
       "      <td>0.816683</td>\n",
       "      <td>0.505351</td>\n",
       "      <td>0.309291</td>\n",
       "      <td>0.188588</td>\n",
       "      <td>1.555028</td>\n",
       "    </tr>\n",
       "    <tr>\n",
       "      <th>min</th>\n",
       "      <td>1.000000</td>\n",
       "      <td>1980.000000</td>\n",
       "      <td>0.000000</td>\n",
       "      <td>0.000000</td>\n",
       "      <td>0.000000</td>\n",
       "      <td>0.000000</td>\n",
       "      <td>0.010000</td>\n",
       "    </tr>\n",
       "    <tr>\n",
       "      <th>25%</th>\n",
       "      <td>4151.250000</td>\n",
       "      <td>2003.000000</td>\n",
       "      <td>0.000000</td>\n",
       "      <td>0.000000</td>\n",
       "      <td>0.000000</td>\n",
       "      <td>0.000000</td>\n",
       "      <td>0.060000</td>\n",
       "    </tr>\n",
       "    <tr>\n",
       "      <th>50%</th>\n",
       "      <td>8300.500000</td>\n",
       "      <td>2007.000000</td>\n",
       "      <td>0.080000</td>\n",
       "      <td>0.020000</td>\n",
       "      <td>0.000000</td>\n",
       "      <td>0.010000</td>\n",
       "      <td>0.170000</td>\n",
       "    </tr>\n",
       "    <tr>\n",
       "      <th>75%</th>\n",
       "      <td>12449.750000</td>\n",
       "      <td>2010.000000</td>\n",
       "      <td>0.240000</td>\n",
       "      <td>0.110000</td>\n",
       "      <td>0.040000</td>\n",
       "      <td>0.040000</td>\n",
       "      <td>0.470000</td>\n",
       "    </tr>\n",
       "    <tr>\n",
       "      <th>max</th>\n",
       "      <td>16600.000000</td>\n",
       "      <td>2020.000000</td>\n",
       "      <td>41.490000</td>\n",
       "      <td>29.020000</td>\n",
       "      <td>10.220000</td>\n",
       "      <td>10.570000</td>\n",
       "      <td>82.740000</td>\n",
       "    </tr>\n",
       "  </tbody>\n",
       "</table>\n",
       "</div>"
      ],
      "text/plain": [
       "               Rank          Year      NA_Sales      EU_Sales      JP_Sales  \\\n",
       "count  16598.000000  16327.000000  16598.000000  16598.000000  16598.000000   \n",
       "mean    8300.605254   2006.406443      0.264667      0.146652      0.077782   \n",
       "std     4791.853933      5.828981      0.816683      0.505351      0.309291   \n",
       "min        1.000000   1980.000000      0.000000      0.000000      0.000000   \n",
       "25%     4151.250000   2003.000000      0.000000      0.000000      0.000000   \n",
       "50%     8300.500000   2007.000000      0.080000      0.020000      0.000000   \n",
       "75%    12449.750000   2010.000000      0.240000      0.110000      0.040000   \n",
       "max    16600.000000   2020.000000     41.490000     29.020000     10.220000   \n",
       "\n",
       "        Other_Sales  Global_Sales  \n",
       "count  16598.000000  16598.000000  \n",
       "mean       0.048063      0.537441  \n",
       "std        0.188588      1.555028  \n",
       "min        0.000000      0.010000  \n",
       "25%        0.000000      0.060000  \n",
       "50%        0.010000      0.170000  \n",
       "75%        0.040000      0.470000  \n",
       "max       10.570000     82.740000  "
      ]
     },
     "execution_count": 7,
     "metadata": {},
     "output_type": "execute_result"
    }
   ],
   "source": [
    "gameData.describe() #output the summary statistics of the data\n",
    "#Take note of the missing data in rank and year\n",
    "#we will use that later"
   ]
  },
  {
   "cell_type": "code",
   "execution_count": 8,
   "id": "b2109970",
   "metadata": {},
   "outputs": [
    {
     "name": "stdout",
     "output_type": "stream",
     "text": [
      "<class 'pandas.core.frame.DataFrame'>\n",
      "RangeIndex: 16598 entries, 0 to 16597\n",
      "Data columns (total 11 columns):\n",
      " #   Column        Non-Null Count  Dtype  \n",
      "---  ------        --------------  -----  \n",
      " 0   Rank          16598 non-null  int64  \n",
      " 1   Name          16598 non-null  object \n",
      " 2   Platform      16598 non-null  object \n",
      " 3   Year          16327 non-null  float64\n",
      " 4   Genre         16598 non-null  object \n",
      " 5   Publisher     16540 non-null  object \n",
      " 6   NA_Sales      16598 non-null  float64\n",
      " 7   EU_Sales      16598 non-null  float64\n",
      " 8   JP_Sales      16598 non-null  float64\n",
      " 9   Other_Sales   16598 non-null  float64\n",
      " 10  Global_Sales  16598 non-null  float64\n",
      "dtypes: float64(6), int64(1), object(4)\n",
      "memory usage: 1.4+ MB\n",
      "None\n"
     ]
    }
   ],
   "source": [
    "print(gameData.info()) # get the information about the data\n",
    "#Take note of the missing data in rank and year\n",
    "#we will use that later"
   ]
  },
  {
   "cell_type": "markdown",
   "id": "cbf49bd1",
   "metadata": {},
   "source": [
    "## Analyzing the Data\n",
    "Lets swich to a smaller dataset"
   ]
  },
  {
   "cell_type": "code",
   "execution_count": 9,
   "id": "1b122bdc",
   "metadata": {},
   "outputs": [
    {
     "name": "stdout",
     "output_type": "stream",
     "text": [
      "    age  gender      genre\n",
      "0    20       1     HipHop\n",
      "1    23       1     HipHop\n",
      "2    25       1     HipHop\n",
      "3    26       1       Jazz\n",
      "4    29       1       Jazz\n",
      "5    30       1       Jazz\n",
      "6    31       1  Classical\n",
      "7    33       1  Classical\n",
      "8    37       1  Classical\n",
      "9    20       0      Dance\n",
      "10   21       0      Dance\n",
      "11   25       0      Dance\n",
      "12   26       0   Acoustic\n",
      "13   27       0   Acoustic\n",
      "14   30       0   Acoustic\n",
      "15   31       0  Classical\n",
      "16   34       0  Classical\n",
      "17   35       0  Classical\n"
     ]
    }
   ],
   "source": [
    "music_df = pd.read_csv (\"music.csv\") #import iris data as dataframe\n",
    "print(music_df) #print the shape of the dataframe DF is a dataframe\n"
   ]
  },
  {
   "cell_type": "markdown",
   "id": "5114b803",
   "metadata": {},
   "source": [
    "### Find the Distribution of Genres"
   ]
  },
  {
   "cell_type": "code",
   "execution_count": 10,
   "id": "2542cd4b",
   "metadata": {},
   "outputs": [
    {
     "name": "stdout",
     "output_type": "stream",
     "text": [
      "genre\n",
      "Classical    6\n",
      "HipHop       3\n",
      "Jazz         3\n",
      "Dance        3\n",
      "Acoustic     3\n",
      "Name: count, dtype: int64\n"
     ]
    }
   ],
   "source": [
    "genre_counts = music_df['genre'].value_counts()\n",
    "print(genre_counts)\n"
   ]
  },
  {
   "cell_type": "markdown",
   "id": "37444484",
   "metadata": {},
   "source": [
    "### Filter the data"
   ]
  },
  {
   "cell_type": "code",
   "execution_count": 11,
   "id": "2c684034",
   "metadata": {},
   "outputs": [
    {
     "name": "stdout",
     "output_type": "stream",
     "text": [
      "   age  gender   genre\n",
      "0   20       1  HipHop\n",
      "1   23       1  HipHop\n",
      "2   25       1  HipHop\n",
      "3   26       1    Jazz\n",
      "4   29       1    Jazz\n",
      "    age  gender     genre\n",
      "9    20       0     Dance\n",
      "10   21       0     Dance\n",
      "11   25       0     Dance\n",
      "12   26       0  Acoustic\n",
      "13   27       0  Acoustic\n"
     ]
    }
   ],
   "source": [
    "males = music_df[music_df['gender'] == 1]\n",
    "females = music_df[music_df['gender'] == 0]\n",
    "print(males.head())\n",
    "print(females.head())\n"
   ]
  },
  {
   "cell_type": "markdown",
   "id": "061d7f51",
   "metadata": {},
   "source": [
    "### Group Data"
   ]
  },
  {
   "cell_type": "code",
   "execution_count": 12,
   "id": "86d403a4",
   "metadata": {},
   "outputs": [
    {
     "name": "stdout",
     "output_type": "stream",
     "text": [
      "genre\n",
      "Acoustic     27.666667\n",
      "Classical    33.500000\n",
      "Dance        22.000000\n",
      "HipHop       22.666667\n",
      "Jazz         28.333333\n",
      "Name: age, dtype: float64\n"
     ]
    }
   ],
   "source": [
    "avg_age_by_genre = music_df.groupby('genre')['age'].mean() \n",
    "print(avg_age_by_genre)"
   ]
  },
  {
   "cell_type": "code",
   "execution_count": 13,
   "id": "443f9f65",
   "metadata": {},
   "outputs": [
    {
     "data": {
      "text/plain": [
       "age\n",
       "20    0.5\n",
       "21    0.0\n",
       "23    1.0\n",
       "25    0.5\n",
       "26    0.5\n",
       "27    0.0\n",
       "29    1.0\n",
       "30    0.5\n",
       "31    0.5\n",
       "33    1.0\n",
       "34    0.0\n",
       "35    0.0\n",
       "37    1.0\n",
       "Name: gender, dtype: float64"
      ]
     },
     "execution_count": 13,
     "metadata": {},
     "output_type": "execute_result"
    }
   ],
   "source": [
    "music_df.groupby('age')['gender'].mean()"
   ]
  },
  {
   "cell_type": "code",
   "execution_count": null,
   "id": "17822040",
   "metadata": {},
   "outputs": [],
   "source": [
    "music_df.groupby('genre')['gender'].mean()"
   ]
  },
  {
   "cell_type": "code",
   "execution_count": null,
   "id": "836821cd",
   "metadata": {},
   "outputs": [],
   "source": [
    "#will not work Why?\n",
    "music_df.groupby('gender')['genre'].mean()\n"
   ]
  },
  {
   "cell_type": "markdown",
   "id": "25082bc7",
   "metadata": {},
   "source": [
    "## Sort Data"
   ]
  },
  {
   "cell_type": "code",
   "execution_count": null,
   "id": "2041b1c2",
   "metadata": {},
   "outputs": [],
   "source": [
    "sorted_music = music_df.sort_values(by='age', ascending=True)\n",
    "print(sorted_music.head())"
   ]
  },
  {
   "cell_type": "markdown",
   "id": "9f9cb0dd",
   "metadata": {},
   "source": [
    "## Visualization with pandas and matplotlib "
   ]
  },
  {
   "cell_type": "code",
   "execution_count": 14,
   "id": "aa21e24d",
   "metadata": {},
   "outputs": [],
   "source": [
    "import matplotlib.pyplot as plt"
   ]
  },
  {
   "cell_type": "code",
   "execution_count": null,
   "id": "af890df1",
   "metadata": {},
   "outputs": [],
   "source": [
    "genre_counts.plot(kind='bar', title='Genre Distribution')\n",
    "plt.xlabel('Genre')\n",
    "plt.ylabel('Count')\n",
    "plt.show()"
   ]
  },
  {
   "cell_type": "code",
   "execution_count": null,
   "id": "f66d8abf",
   "metadata": {},
   "outputs": [],
   "source": [
    "avg_age_by_genre.plot(kind='bar', color='skyblue', title='Average Age by Genre')\n",
    "plt.xlabel('Genre')\n",
    "plt.ylabel('Average Age')\n",
    "plt.show()"
   ]
  },
  {
   "cell_type": "code",
   "execution_count": null,
   "id": "f4499cd6",
   "metadata": {},
   "outputs": [],
   "source": [
    "plt.scatter(males['age'], males['genre'], label='Males', color='blue', alpha=0.5)\n",
    "plt.scatter(females['age'], females['genre'], label='Females', color='pink', alpha=0.5)\n",
    "plt.title('Age vs Genre by Gender')\n",
    "plt.xlabel('Age')\n",
    "plt.ylabel('Genre')\n",
    "plt.legend()\n",
    "plt.show()\n"
   ]
  },
  {
   "cell_type": "markdown",
   "id": "21345705",
   "metadata": {},
   "source": [
    "## Predictions"
   ]
  },
  {
   "cell_type": "code",
   "execution_count": null,
   "id": "58c82729",
   "metadata": {},
   "outputs": [],
   "source": [
    "df = pd.read_csv (\"music.csv\") #import iris data as dataframe\n",
    "print(df) #print the shape of the dataframe DF is a dataframe\n"
   ]
  },
  {
   "cell_type": "code",
   "execution_count": null,
   "id": "70bfd932",
   "metadata": {},
   "outputs": [],
   "source": [
    "X = df.drop(columns=['gender']) \n",
    "#droping data does not really drop it from the table but drops it from the output talble\n",
    "#by convention a capital X represents the input set \n",
    "X"
   ]
  },
  {
   "cell_type": "code",
   "execution_count": null,
   "id": "a487ba42",
   "metadata": {},
   "outputs": [],
   "source": [
    "#create our output set\n",
    "#by convention we use y for the output set\n",
    "y = df['genre']\n",
    "y"
   ]
  },
  {
   "cell_type": "markdown",
   "id": "59acec59",
   "metadata": {},
   "source": [
    "# Disission trees"
   ]
  },
  {
   "cell_type": "code",
   "execution_count": null,
   "id": "96fc8739",
   "metadata": {},
   "outputs": [],
   "source": [
    "!pip install scikit-learn \n",
    "#Sklearn is the most used populare ML library in python\n"
   ]
  },
  {
   "cell_type": "code",
   "execution_count": null,
   "id": "7f04f92a",
   "metadata": {},
   "outputs": [],
   "source": [
    "from sklearn.tree import DecisionTreeClassifier\n"
   ]
  },
  {
   "cell_type": "code",
   "execution_count": null,
   "id": "f84a8c94",
   "metadata": {},
   "outputs": [],
   "source": [
    "df = pd.read_csv (\"music.csv\") #import iris data as dataframe\n",
    "X = df.drop(columns=['genre'])\n",
    "y = df['genre']\n",
    "model = DecisionTreeClassifier()\n",
    "X"
   ]
  },
  {
   "cell_type": "code",
   "execution_count": null,
   "id": "3e02019c",
   "metadata": {},
   "outputs": [],
   "source": [
    "model.fit(X,y)"
   ]
  },
  {
   "cell_type": "code",
   "execution_count": null,
   "id": "8ecd7574",
   "metadata": {},
   "outputs": [],
   "source": [
    "predictions = model.predict([ [21,1] ,[22,0]])\n",
    "predictions"
   ]
  },
  {
   "cell_type": "markdown",
   "id": "788ef2ed",
   "metadata": {},
   "source": [
    "Rememer you need 3 sets of data. Lets do that now."
   ]
  },
  {
   "cell_type": "code",
   "execution_count": null,
   "id": "8805a910",
   "metadata": {},
   "outputs": [],
   "source": [
    "from sklearn.model_selection import train_test_split\n",
    "from sklearn.metrics import accuracy_score"
   ]
  },
  {
   "cell_type": "code",
   "execution_count": null,
   "id": "4110121c",
   "metadata": {},
   "outputs": [],
   "source": [
    "X_train, X_test, y_train, y_test = train_test_split(X,y,test_size=0.2)\n",
    "model.fit(X_train,y_train)\n",
    "prediction = model.predict(X_test)\n",
    "score = accuracy_score(y_test,prediction)\n",
    "score"
   ]
  },
  {
   "cell_type": "code",
   "execution_count": null,
   "id": "571223d8-6261-4cd2-8c66-115c75c6c27a",
   "metadata": {},
   "outputs": [],
   "source": [
    "df"
   ]
  },
  {
   "cell_type": "code",
   "execution_count": null,
   "id": "0d2a260d",
   "metadata": {},
   "outputs": [],
   "source": [
    "X_test"
   ]
  },
  {
   "cell_type": "code",
   "execution_count": null,
   "id": "7187eece",
   "metadata": {},
   "outputs": [],
   "source": [
    "X_train, X_test, y_train, y_test = train_test_split(X,y,test_size=0.8) # what do you think will be the results\n",
    "model.fit(X_train,y_train)\n",
    "prediction = model.predict(X_test)\n",
    "score = accuracy_score(y_test,prediction)\n",
    "score"
   ]
  },
  {
   "cell_type": "markdown",
   "id": "ebcc85ba",
   "metadata": {},
   "source": [
    "# Model persistance"
   ]
  },
  {
   "cell_type": "code",
   "execution_count": null,
   "id": "fade6f33",
   "metadata": {},
   "outputs": [],
   "source": [
    "import pandas as pd\n",
    "from sklearn.tree import DecisionTreeClassifier\n",
    "import joblib #this is a way to save the models \n",
    "\n",
    "df = pd.read_csv (\"music.csv\") #import iris data as dataframe\n",
    "\n",
    "X = df.drop(columns=['genre'])\n",
    "y = df['genre']\n",
    "model = DecisionTreeClassifier()\n",
    "model.fit(X,y)\n",
    "joblib.dump(model, 'musik-recomender.joblib')\n",
    "\n",
    "\n"
   ]
  },
  {
   "cell_type": "code",
   "execution_count": null,
   "id": "fa54b5c8",
   "metadata": {},
   "outputs": [],
   "source": [
    "model = joblib.load('musik-recomender.joblib')\n",
    "predictions = model.predict([ [21,1]])\n",
    "predictions"
   ]
  },
  {
   "cell_type": "code",
   "execution_count": null,
   "id": "a6148bc4",
   "metadata": {},
   "outputs": [],
   "source": []
  }
 ],
 "metadata": {
  "kernelspec": {
   "display_name": "base",
   "language": "python",
   "name": "python3"
  },
  "language_info": {
   "codemirror_mode": {
    "name": "ipython",
    "version": 3
   },
   "file_extension": ".py",
   "mimetype": "text/x-python",
   "name": "python",
   "nbconvert_exporter": "python",
   "pygments_lexer": "ipython3",
   "version": "3.12.7"
  }
 },
 "nbformat": 4,
 "nbformat_minor": 5
}
