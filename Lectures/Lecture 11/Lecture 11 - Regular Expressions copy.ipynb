{
 "cells": [
  {
   "cell_type": "markdown",
   "metadata": {},
   "source": [
    "# Regular Expressions\n",
    " A Regular Expression is a sequence of characters that defines a search pattern. It is used to match a specific pattern of text in a larger body of text\n",
    " \n",
    " \n",
    " “Knowing Regular Expression can mean the difference between solving a problem in 3 steps and solving it in 3,000 steps. When you’re a nerd, you forget that the problems you solve with a couple keystrokes can take other people days of tedious, error-prone work to slog through.” - Cory Doctorow"
   ]
  },
  {
   "cell_type": "code",
   "execution_count": null,
   "metadata": {},
   "outputs": [],
   "source": [
    "import re"
   ]
  },
  {
   "cell_type": "markdown",
   "metadata": {},
   "source": [
    "use the re.compile() method, which takes a string as its argument. This string represents the pattern you want to match in a text.\n",
    "\n",
    "```python\n",
    "re.compile()\n",
    "\n",
    "```"
   ]
  },
  {
   "cell_type": "code",
   "execution_count": null,
   "metadata": {},
   "outputs": [],
   "source": [
    "phoneNum = re.compile(r'\\d\\d\\d-\\d\\d\\d-\\d\\d\\d\\d')"
   ]
  },
  {
   "cell_type": "code",
   "execution_count": null,
   "metadata": {},
   "outputs": [
    {
     "data": {
      "text/plain": [
       "re.Pattern"
      ]
     },
     "metadata": {},
     "output_type": "display_data"
    }
   ],
   "source": [
    "type(phoneNum)"
   ]
  },
  {
   "cell_type": "code",
   "execution_count": null,
   "metadata": {},
   "outputs": [],
   "source": [
    "foundNum = phoneNum.search('bla bla bla 123-123-1234 133-133-1234 bla bla bla ') #4"
   ]
  },
  {
   "cell_type": "markdown",
   "metadata": {},
   "source": [
    "The search() method will return None if the regex pattern is not found in the string"
   ]
  },
  {
   "cell_type": "code",
   "execution_count": null,
   "metadata": {},
   "outputs": [
    {
     "name": "stdout",
     "output_type": "stream",
     "text": [
      "<re.Match object; span=(12, 24), match='123-123-1234'>\n",
      "123-123-1234\n"
     ]
    }
   ],
   "source": [
    "print(foundNum)\n",
    "print(foundNum.group())"
   ]
  },
  {
   "cell_type": "markdown",
   "metadata": {},
   "source": [
    "the 'match' objects have a group() method that will return the actual matched text from the searched string."
   ]
  },
  {
   "cell_type": "markdown",
   "metadata": {},
   "source": [
    "- Import the regex module\n",
    "- Create a Regex object with the re.compile() function. \n",
    "    - (Remember to use a raw string.)\n",
    "- Pass the string you want to search into the Regex object’s search() method. \n",
    "    - This returns a Match object.\n",
    "- group() method \n",
    "    - returns a string of the actual matched text."
   ]
  },
  {
   "cell_type": "markdown",
   "metadata": {},
   "source": [
    "# Grouping"
   ]
  },
  {
   "cell_type": "code",
   "execution_count": null,
   "metadata": {},
   "outputs": [],
   "source": [
    "phoneNum = re.compile(r'(\\d\\d\\d)-(\\d\\d\\d)-(\\d\\d\\d\\d)')\n",
    "foundNum = phoneNum.search('bla bla bla 123-456-7890 098-765-5434 bla bla bla ') #4"
   ]
  },
  {
   "cell_type": "code",
   "execution_count": null,
   "metadata": {},
   "outputs": [
    {
     "name": "stdout",
     "output_type": "stream",
     "text": [
      "group0 123-456-7890\n",
      "group1 123\n",
      "group2 456\n",
      "group3 7890\n",
      "123-456-7890\n"
     ]
    },
    {
     "data": {
      "text/plain": [
       "('123', '456', '7890')"
      ]
     },
     "metadata": {},
     "output_type": "display_data"
    }
   ],
   "source": [
    "for i in range(len(foundNum.groups())+1):\n",
    "    print('group'+ str(i)+' '+foundNum.group(i)) #returns each match object \n",
    "print(foundNum.group()) # this returns the entire matched text\n",
    "foundNum.groups()# this returns all the groups of matched text"
   ]
  },
  {
   "cell_type": "code",
   "execution_count": null,
   "metadata": {},
   "outputs": [
    {
     "name": "stdout",
     "output_type": "stream",
     "text": [
      "foundNum is a: <class 'tuple'>\n",
      "(123)\n",
      "<class 'str'>\n",
      "456-7890\n"
     ]
    }
   ],
   "source": [
    "phoneNum = re.compile(r'(\\(\\d\\d\\d\\))-(\\d\\d\\d-\\d\\d\\d\\d)')\n",
    "foundNum = phoneNum.search('bla bla bla (123)-456-7890 bla bla bla ') #4\n",
    "\n",
    "print('foundNum is a: '+ str(type(foundNum.groups())))\n",
    "\n",
    "areaCode, mainNumber = foundNum.groups()\n",
    "print(areaCode)\n",
    "print(type(areaCode))\n",
    "print(mainNumber)"
   ]
  },
  {
   "cell_type": "markdown",
   "metadata": {},
   "source": [
    "## Pipe\n",
    "    | character is called a pipe <shift> '\\'\n",
    "\n",
    "NOTE: The | for RE works differently from linux | in linix runs one input into another with RE it is used as an 'OR'\n",
    "\n",
    "happy or sad => happy|sad\n",
    "\n",
    "When both happy and sad occur in the searched string, the first occurrence of matching text will be returned as the Match object."
   ]
  },
  {
   "cell_type": "code",
   "execution_count": null,
   "metadata": {},
   "outputs": [
    {
     "name": "stdout",
     "output_type": "stream",
     "text": [
      "Batman\n"
     ]
    }
   ],
   "source": [
    "import json\n",
    "with open('superheros.json') as f:\n",
    "    superheros = json.load(f)\n",
    "findWord = re.compile(r'DC Comics|Batman')\n",
    "foundWord = findWord.search(json.dumps(superheros)) #4\n",
    "print(foundWord.group())"
   ]
  },
  {
   "cell_type": "code",
   "execution_count": null,
   "metadata": {},
   "outputs": [
    {
     "name": "stdout",
     "output_type": "stream",
     "text": [
      "batwoman\n",
      "batman\n"
     ]
    }
   ],
   "source": [
    "bats = re.compile(r'bat(wo)?man')\n",
    "foundWord = bats.search('the adventures of batwoman')\n",
    "print(foundWord.group())\n",
    "foundWord = bats.search('the adventures of batman')\n",
    "print(foundWord.group())"
   ]
  },
  {
   "cell_type": "markdown",
   "metadata": {},
   "source": [
    "# Other options\n",
    "\n",
    "    The *  means \"match zero or more\"\n",
    "    The +  means \"match one or more\"\n",
    "    The {} means \"repeat a specific number of times\" \n",
    "    la{3} = (la)(la)(la) \n",
    "    la{3,5} = (la)(la)(la)|(la)(la)(la)(la)|(la)(la)(la)(la)(la)\n",
    "    \n",
    "    \\d Any numeric digit from 0 to 9.\n",
    "    \\D Any character that is not a numeric digit from 0 to 9.\n",
    "    \\w Any letter, numeric digit, or the underscore character.\n",
    "    \\W Any character that is not a letter, numeric digit, or the underscore character.\n",
    "    \\s Any space, tab, or newline character.\n",
    "    \\S Any character that is not a space, tab, or newline.\n",
    "    [] match any of the characters in brackets\n",
    "    [^] do not match any of the characters in brackets\n",
    "    \n",
    "    $ Match must occur at the end of the searched text\n",
    "    ^ Match must occur at the beginning of the searched text\n",
    "    . WildCard and will match any character except newline\n",
    "    .* Match everything \n",
    "    "
   ]
  },
  {
   "cell_type": "code",
   "execution_count": null,
   "metadata": {},
   "outputs": [],
   "source": [
    "phoneNumRegex = re.compile(r'\\d\\d\\d-\\d\\d\\d-\\d\\d\\d\\d') # has no groups\n",
    "phoneNumRegex.findall('Cell: 415-555-9999 Work: 212-555-0000')\n",
    "\n"
   ]
  },
  {
   "cell_type": "code",
   "execution_count": null,
   "metadata": {},
   "outputs": [
    {
     "name": "stdout",
     "output_type": "stream",
     "text": [
      "['Batman']\n"
     ]
    }
   ],
   "source": [
    "findWord = re.compile(r'Batman')#(\\w{16})')\n",
    "foundWord = findWord.findall(json.dumps(superheros))\n",
    "print(foundWord)\n",
    "#findWord = re.compile(r'[aeiou]')\n",
    "#foundWord = findWord.findall(json.dumps(superheros))\n",
    "#print(foundWord)"
   ]
  },
  {
   "cell_type": "code",
   "execution_count": null,
   "metadata": {},
   "outputs": [
    {
     "name": "stdout",
     "output_type": "stream",
     "text": [
      "[]\n"
     ]
    }
   ],
   "source": [
    "findWord = re.compile(r'man^123') #\n",
    "foundWord = findWord.findall('man123 batman is an amazing man')# man\n",
    "print(foundWord)"
   ]
  },
  {
   "cell_type": "code",
   "execution_count": null,
   "metadata": {},
   "outputs": [
    {
     "name": "stdout",
     "output_type": "stream",
     "text": [
      "['Ironman', 'Batman', 'Superman', 'Superman']\n"
     ]
    }
   ],
   "source": [
    "findWord = re.compile(r'[\\w.*?]+[mM]+an')#\n",
    "foundWord = findWord.findall(\"Ironman and Batman fought Superman. Superman beat the bat. Man that was a good fight\")# man\n",
    "print(foundWord)"
   ]
  }
 ],
 "metadata": {
  "kernelspec": {
   "display_name": "Python 3",
   "language": "python",
   "name": "python3"
  },
  "language_info": {
   "codemirror_mode": {
    "name": "ipython",
    "version": 3
   },
   "file_extension": ".py",
   "mimetype": "text/x-python",
   "name": "python",
   "nbconvert_exporter": "python",
   "pygments_lexer": "ipython3",
   "version": "3.12.3"
  }
 },
 "nbformat": 4,
 "nbformat_minor": 2
}
