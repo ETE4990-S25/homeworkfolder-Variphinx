{
    "cells": [
        {
            "cell_type": "markdown",
            "metadata": {},
            "source": [
                "# Python Review Lesson\n",
                " Generators, iterators, comprehensions, recursion, functional programming, lambda functions, matplotlib, NumPy, regular expressions (RE), threading, asynchronous programming, and multicore programming.\n"
            ]
        },
        {
            "cell_type": "markdown",
            "metadata": {},
            "source": [
                "## 1. Generators Functions\n",
                "Generators are like the magical trashcan produce values only when needed and only one at a time, allowing you to traverse through a sequence without storing the entire sequence in memory."
            ]
        },
        {
            "cell_type": "code",
            "execution_count": 4,
            "metadata": {},
            "outputs": [
                {
                    "name": "stdout",
                    "output_type": "stream",
                    "text": [
                        "3\n",
                        "5\n",
                        "Spell Slot Level 1\n",
                        "Spell Slot Level 2\n",
                        "Entrance\n",
                        "Hallway\n"
                    ]
                }
            ],
            "source": [
                "# Example 1: A generator for rolling a D20\n",
                "def roll_d20():\n",
                "    import random\n",
                "    while True:\n",
                "        yield random.randint(1, 20) ## Yield is what makes it a generator, it says do this and wait for next call\n",
                "\n",
                "# Example 2: A generator for generating infinite spell slots\n",
                "def spell_slots():\n",
                "    level = 1\n",
                "    while True:\n",
                "        yield f\"Spell Slot Level {level}\"\n",
                "        level += 1\n",
                "\n",
                "# Example 3: A generator for traversing a dungeon\n",
                "def dungeon_rooms():\n",
                "    rooms = [\"Entrance\", \"Hallway\", \"Treasure Room\", \"Boss Room\"]\n",
                "    for room in rooms:\n",
                "        yield room\n",
                "\n",
                "# Testing the generators\n",
                "d20 = roll_d20()\n",
                "print(next(d20))\n",
                "print(next(d20))\n",
                "\n",
                "slots = spell_slots()\n",
                "print(next(slots))\n",
                "print(next(slots))\n",
                "\n",
                "rooms = dungeon_rooms()\n",
                "print(next(rooms))\n",
                "print(next(rooms))"
            ]
        },
        {
            "cell_type": "markdown",
            "metadata": {},
            "source": [
                "## 2. Iterators\n",
                "Iterators allow you to traverse through a collection of elements.\n",
                "\n",
                "- Iterators are objects that can be iterated upon, meaning you can traverse through all the values.\n",
                "- They implement the iterator protocol which consists of the methods `__iter__()` and `__next__()`.\n",
                "The iter() is used to create an object that will iterate one element at a time.\n",
                "next() will give you the next value in the iterator \n",
                "\n",
                "```python\n",
                "    iter(collection)\n",
                "```"
            ]
        },
        {
            "cell_type": "code",
            "execution_count": 5,
            "metadata": {},
            "outputs": [
                {
                    "name": "stdout",
                    "output_type": "stream",
                    "text": [
                        "Wizard\n",
                        "Warrior\n",
                        "Rogue\n"
                    ]
                }
            ],
            "source": [
                "# Example 1: Iterating through a list of characters\n",
                "characters = [\"Wizard\", \"Warrior\", \"Rogue\"]\n",
                "character_iterator = iter(characters)\n",
                "for character in character_iterator:\n",
                "    print(character)"
            ]
        },
        {
            "cell_type": "code",
            "execution_count": 8,
            "metadata": {},
            "outputs": [
                {
                    "name": "stdout",
                    "output_type": "stream",
                    "text": [
                        "Fireball: Level 3\n",
                        "Magic Missile: Level 1\n",
                        "Heal: Level 2\n"
                    ]
                }
            ],
            "source": [
                "# Example 2: Iterating through a spell book\n",
                "spell_book = {\"Fireball\": \"Level 3\", \"Magic Missile\": \"Level 1\", \"Heal\": \"Level 2\"}\n",
                "spell_iterator = iter(spell_book.items())\n",
                "for spell, level in spell_iterator:\n",
                "    print(f\"{spell}: {level}\")"
            ]
        },
        {
            "cell_type": "code",
            "execution_count": null,
            "metadata": {},
            "outputs": [
                {
                    "name": "stdout",
                    "output_type": "stream",
                    "text": [
                        "Find the lost sword\n",
                        "Defeat the dragon\n",
                        "Rescue the princess\n"
                    ]
                }
            ],
            "source": [
                "# Example 3: Iterating through a quest log using next in a loop\n",
                "quest_log = [\"Find the lost sword\", \"Defeat the dragon\", \"Rescue the princess\"]\n",
                "quest_iterator = iter(quest_log)\n",
                "\n",
                "# Using a loop to call next on the iterator\n",
                "while True:\n",
                "    try:\n",
                "        print(next(quest_iterator))\n",
                "    except StopIteration: ## Stops iterating once its empty\n",
                "        break"
            ]
        },
        {
            "cell_type": "markdown",
            "metadata": {},
            "source": [
                "## 3. Comprehension\n",
                "Comprehensions are like powerful spells that allow you to create new collections in a concise way.\n",
                "\n",
                "- List comprehensions provide a concise way to create lists.\n",
                "- Dictionary comprehensions provide a concise way to create dictionaries.\n",
                "- Set comprehensions provide a concise way to create sets.\n",
                "\n",
                "```python\n",
                "    [expression for item in iterable]\n",
                "    {key: value for item in iterable}\n",
                "    {expression for item in iterable}\n",
                "    ((a,b) for item-b in iterable for item-a in iterable)\n",
                "```"
            ]
        },
        {
            "cell_type": "code",
            "execution_count": null,
            "metadata": {},
            "outputs": [],
            "source": [
                "# Example 1: List comprehension for generating a list of monster names\n",
                "monsters = [f\"Monster {i}\" for i in range(1, 11)]\n",
                "print(monsters)"
            ]
        },
        {
            "cell_type": "code",
            "execution_count": null,
            "metadata": {},
            "outputs": [],
            "source": [
                "# Example 2: Dictionary comprehension for creating a spell dictionary\n",
                "spells = {f\"Spell {i}\": f\"Level {i}\" for i in range(1, 6)}\n",
                "print(spells)"
            ]
        },
        {
            "cell_type": "code",
            "execution_count": null,
            "metadata": {},
            "outputs": [],
            "source": [
                "# Example 3: Set comprehension for creating a set of unique items\n",
                "items = {f\"Item {i}\" for i in range(1, 6)}\n",
                "print(items)"
            ]
        },
        {
            "cell_type": "code",
            "execution_count": 7,
            "metadata": {},
            "outputs": [
                {
                    "name": "stdout",
                    "output_type": "stream",
                    "text": [
                        "('Wizard', 'Find the lost sword')\n",
                        "('Wizard', 'Defeat the dragon')\n",
                        "('Wizard', 'Rescue the princess')\n",
                        "('Warrior', 'Find the lost sword')\n",
                        "('Warrior', 'Defeat the dragon')\n",
                        "('Warrior', 'Rescue the princess')\n",
                        "('Rogue', 'Find the lost sword')\n",
                        "('Rogue', 'Defeat the dragon')\n",
                        "('Rogue', 'Rescue the princess')\n"
                    ]
                }
            ],
            "source": [
                "# Example4 comprehension to generate pairs (character, quest)\n",
                "characters = [\"Wizard\", \"Warrior\", \"Rogue\"]\n",
                "quests = [\"Find the lost sword\", \"Defeat the dragon\", \"Rescue the princess\"]\n",
                "\n",
                "character_quests = [(character, quest) for character in characters for quest in quests]\n",
                "for pair in character_quests:\n",
                "    print(pair)"
            ]
        },
        {
            "cell_type": "markdown",
            "metadata": {},
            "source": [
                "## 4. Recursion\n",
                "Recursion is like a wizard's spell that calls itself to solve a problem.\n",
                "\n",
                "- A recursive function is a function that calls itself in order to solve a problem.\n",
                "- It usually has a base case to stop the recursion.\n",
                "- Recursion can be used to solve problems that can be broken down into smaller, repetitive problems.\n",
                "\n",
                "```python\n",
                "    def recursive_function(parameters):\n",
                "        if base_case_condition:\n",
                "            return base_case_value\n",
                "        return recursive_function(modified_parameters)\n",
                "```"
            ]
        },
        {
            "cell_type": "code",
            "execution_count": null,
            "metadata": {},
            "outputs": [],
            "source": [
                "# Example 1: Recursive function to calculate factorial (for spell power)\n",
                "def factorial(n):\n",
                "    if n == 0:\n",
                "        return 1\n",
                "    return n * factorial(n - 1)\n",
                "\n",
                "print(factorial(5))"
            ]
        },
        {
            "cell_type": "code",
            "execution_count": null,
            "metadata": {},
            "outputs": [],
            "source": [
                "# Example 2: Recursive function to traverse a dungeon\n",
                "def traverse_dungeon(rooms, index=0):\n",
                "    if index >= len(rooms):\n",
                "        return\n",
                "    print(f\"Entering {rooms[index]}\")\n",
                "    traverse_dungeon(rooms, index + 1)\n",
                "\n",
                "rooms = [\"Entrance\", \"Hallway\", \"Treasure Room\", \"Boss Room\"]\n",
                "traverse_dungeon(rooms)"
            ]
        },
        {
            "cell_type": "code",
            "execution_count": null,
            "metadata": {},
            "outputs": [],
            "source": [
                "# Example 3: Recursive function to calculate Fibonacci sequence (for mana regeneration)\n",
                "def fibonacci(n):\n",
                "    if n <= 1:\n",
                "        return n\n",
                "    return fibonacci(n - 1) + fibonacci(n - 2)\n",
                "\n",
                "print(fibonacci(10))"
            ]
        },
        {
            "cell_type": "markdown",
            "metadata": {},
            "source": [
                "### 5. Pure Functions\n",
                "\n",
                "Pure functions always produce the same result given the same inputs, without causing any side effects. They are a fundamental concept in functional programming and are highly predictable and testable.\n",
                "\n",
                "- A pure function's output depends only on its input parameters.\n",
                "- It does not modify any external state or variables.\n",
                "- It does not produce any side effects, such as modifying global variables or performing I/O operations.\n"
            ]
        },
        {
            "cell_type": "code",
            "execution_count": null,
            "metadata": {},
            "outputs": [],
            "source": [
                "# Example 1: Calculating spell damage\n",
                "def calculate_spell_damage(base_damage, modifier):\n",
                "    return base_damage + modifier\n",
                "\n",
                "print(calculate_spell_damage(10, 5))"
            ]
        },
        {
            "cell_type": "code",
            "execution_count": 9,
            "metadata": {},
            "outputs": [
                {
                    "name": "stdout",
                    "output_type": "stream",
                    "text": [
                        "4\n"
                    ]
                }
            ],
            "source": [
                "# Example 2: Determining character level\n",
                "def determine_character_level(experience_points):\n",
                "    return experience_points // 1000 #remember // is floor\n",
                "\n",
                "print(determine_character_level(4501)) "
            ]
        },
        {
            "cell_type": "code",
            "execution_count": null,
            "metadata": {},
            "outputs": [],
            "source": [
                "# Example 3: Calculating health points\n",
                "def calculate_health_points(base_health, level):\n",
                "    return base_health + (level * 10)\n",
                "\n",
                "print(calculate_health_points(50, 3)) "
            ]
        },
        {
            "cell_type": "markdown",
            "metadata": {},
            "source": [
                "## 6. Functional Programming\n",
                "Functional programming is where programs are constructed by applying and composing functions in line.\n",
                "\n",
                "- Functional programming uses functions to transform data.\n",
                "- Functions like `map`, `filter`, and `reduce` are commonly used in functional programming.\n",
                "- It emphasizes the use of pure functions and avoids changing state or mutable data.\n",
                "\n",
                "```python\n",
                "    map(function, iterable)\n",
                "    filter(function, iterable)\n",
                "    reduce(function, iterable)\n",
                "```"
            ]
        },
        {
            "cell_type": "code",
            "execution_count": null,
            "metadata": {},
            "outputs": [],
            "source": [
                "# Example 1: Using map to apply a spell to each character\n",
                "def enchant_character(character):\n",
                "    return f\"Enchanted {character}\"\n",
                "\n",
                "characters = [\"Wizard\", \"Warrior\", \"Rogue\"]\n",
                "enchanted_characters = list(map(enchant_character, characters))\n",
                "print(enchanted_characters) "
            ]
        },
        {
            "cell_type": "code",
            "execution_count": null,
            "metadata": {},
            "outputs": [],
            "source": [
                "#Example 2: Using filter to find high-level spells\n",
                "def is_high_level_spell(spell):\n",
                "    return spells[spell] > 2\n",
                "\n",
                "spells = {\"Fireball\": 3, \"Magic Missile\": 1, \"Heal\": 2}\n",
                "high_level_spells = list(filter(is_high_level_spell, spells))\n",
                "print(high_level_spells) "
            ]
        },
        {
            "cell_type": "code",
            "execution_count": null,
            "metadata": {},
            "outputs": [],
            "source": [
                "# Example 3: Using reduce to calculate total spell power\n",
                "from functools import reduce\n",
                "\n",
                "def add_spell_power(total, power):\n",
                "    return total + power\n",
                "\n",
                "spell_powers = [3, 1, 2]\n",
                "total_power = reduce(add_spell_power, spell_powers)\n",
                "print(total_power)"
            ]
        },
        {
            "cell_type": "markdown",
            "metadata": {},
            "source": [
                "## 7. Lambda Functions\n",
                "Lambda functions are like quick incantations that perform a task.\n",
                "\n",
                "- Lambda expressions are small functions that take in a number of parameters and an expression combination.\n",
                "- A lambda expression is a secret function that is only used once.\n",
                "\n",
                "```python\n",
                "    lambda param: function(param)\n",
                "```"
            ]
        },
        {
            "cell_type": "code",
            "execution_count": null,
            "metadata": {},
            "outputs": [],
            "source": [
                "import random\n",
                "\n",
                "# Example 1: Lambda function for rolling a D20\n",
                "roll_d20 = lambda: random.randint(1, 20)\n",
                "print(roll_d20())\n",
                "\n"
            ]
        },
        {
            "cell_type": "code",
            "execution_count": null,
            "metadata": {},
            "outputs": [],
            "source": [
                "# Example 2: Lambda function for calculating spell damage\n",
                "calculate_damage = lambda base, modifier: base + modifier\n",
                "print(calculate_damage(10, 5))\n",
                "\n"
            ]
        },
        {
            "cell_type": "code",
            "execution_count": null,
            "metadata": {},
            "outputs": [],
            "source": [
                "# Example 3: Lambda function for determining if a character is high level\n",
                "is_high_level = lambda level: level > 10\n",
                "print(is_high_level(15))"
            ]
        },
        {
            "cell_type": "markdown",
            "metadata": {},
            "source": [
                "## 8. Matplotlib\n",
                "Matplotlib is like a magical scroll that allows you to visualize data.\n",
                "\n",
                "- Matplotlib is a plotting library for the Python programming language.\n",
                "- It provides an object-oriented API for embedding plots into applications.\n",
                "- It can be used to create static, interactive, and animated visualizations.\n",
                "\n",
                "```python\n",
                "    import matplotlib.pyplot as plt\n",
                "    plt.plot(data)\n",
                "    plt.show()\n",
                "```"
            ]
        },
        {
            "cell_type": "code",
            "execution_count": null,
            "metadata": {},
            "outputs": [],
            "source": [
                "import matplotlib.pyplot as plt\n",
                "\n",
                "# Example 1: Plotting character levels\n",
                "levels = [1, 5, 10, 15, 20]\n",
                "plt.plot(levels)\n",
                "plt.title(\"Character Levels\")\n",
                "plt.show()\n",
                "\n"
            ]
        },
        {
            "cell_type": "code",
            "execution_count": null,
            "metadata": {},
            "outputs": [],
            "source": [
                "# Example 2: Plotting spell power\n",
                "spell_power = [10, 20, 30, 40, 50]\n",
                "plt.bar(range(len(spell_power)), spell_power)\n",
                "plt.title(\"Spell Power\")\n",
                "plt.show()\n",
                "\n"
            ]
        },
        {
            "cell_type": "code",
            "execution_count": null,
            "metadata": {},
            "outputs": [],
            "source": [
                "# Example 3: Plotting monster encounters\n",
                "encounters = [3, 5, 2, 8, 6]\n",
                "plt.pie(encounters, labels=[\"Goblin\", \"Orc\", \"Dragon\", \"Troll\", \"Elf\"])\n",
                "plt.title(\"Monster Encounters\")\n",
                "plt.show()"
            ]
        },
        {
            "cell_type": "markdown",
            "metadata": {},
            "source": [
                "## 9. NumPy\n",
                "NumPy is like a powerful artifact that allows you to perform numerical operations.\n",
                "\n",
                "- NumPy is a library for the Python programming language, adding support for large, multi-dimensional arrays and matrices.\n",
                "- It provides a large collection of high-level mathematical functions to operate on these arrays.\n",
                "- It is widely used in scientific computing and data analysis.\n",
                "\n",
                "```python\n",
                "    import numpy as np\n",
                "    array = np.array([1, 2, 3])\n",
                "```"
            ]
        },
        {
            "cell_type": "code",
            "execution_count": null,
            "metadata": {},
            "outputs": [],
            "source": [
                "import numpy as np\n",
                "\n",
                "# Example 1: Creating an array of character levels\n",
                "levels = np.array([1, 5, 10, 15, 20])\n",
                "\n"
            ]
        },
        {
            "cell_type": "code",
            "execution_count": null,
            "metadata": {},
            "outputs": [],
            "source": [
                "# Example 2: Performing element-wise operations on spell power\n",
                "spell_power = np.array([10, 20, 30, 40, 50])\n",
                "enhanced_power = spell_power * 1.5\n",
                "\n"
            ]
        },
        {
            "cell_type": "code",
            "execution_count": null,
            "metadata": {},
            "outputs": [],
            "source": [
                "# Example 3: Calculating the mean spell power\n",
                "mean_power = np.mean(spell_power)"
            ]
        },
        {
            "cell_type": "markdown",
            "metadata": {},
            "source": [
                "## 10. Regular Expressions (RE)\n",
                "Regular expressions are like magical runes that allow you to search and manipulate text.\n",
                "\n",
                "- Regular expressions are sequences of characters that define a search pattern.\n",
                "- They can be used for string matching and manipulation.\n",
                "- The `re` module in Python provides support for working with regular expressions.\n",
                "\n",
                "```python\n",
                "    import re\n",
                "    re.search(pattern, string)\n",
                "```"
            ]
        },
        {
            "cell_type": "code",
            "execution_count": null,
            "metadata": {},
            "outputs": [],
            "source": [
                "import re\n",
                "\n",
                "# Example 1: Finding all spell names in a text\n",
                "text = \"Fireball, Magic Missile, Heal\"\n",
                "spells = re.findall(r'\\b\\w+\\b', text)\n",
                "\n"
            ]
        },
        {
            "cell_type": "code",
            "execution_count": null,
            "metadata": {},
            "outputs": [],
            "source": [
                "# Example 2: Validating character names\n",
                "character_name = \"Wizard123\"\n",
                "is_valid = re.match(r'^[A-Za-z]+$', character_name)\n",
                "\n"
            ]
        },
        {
            "cell_type": "code",
            "execution_count": null,
            "metadata": {},
            "outputs": [],
            "source": [
                "# Example 3: Replacing monster names in a text\n",
                "text = \"Goblin, Orc, Dragon\"\n",
                "new_text = re.sub(r'Goblin', 'Elf', text)\n"
            ]
        },
        {
            "cell_type": "markdown",
            "metadata": {},
            "source": [
                "## 11. Threading\n",
                "Threading is like summoning multiple characters to perform tasks simultaneously.\n",
                "\n",
                "- Threading allows multiple threads to run concurrently.\n",
                "- It is used to perform multiple operations at the same time.\n",
                "- The `threading` module in Python provides support for working with threads.\n",
                "\n",
                "```python\n",
                "    import threading\n",
                "    thread = threading.Thread(target=function)\n",
                "    thread.start()\n",
                "```"
            ]
        },
        {
            "cell_type": "code",
            "execution_count": null,
            "metadata": {},
            "outputs": [],
            "source": [
                "import threading\n",
                "\n",
                "# Example 1: Creating a thread for rolling a D20\n",
                "def roll_d20():\n",
                "    print(random.randint(1, 20))\n",
                "\n",
                "thread = threading.Thread(target=roll_d20)\n",
                "thread.start()\n",
                "\n"
            ]
        },
        {
            "cell_type": "code",
            "execution_count": null,
            "metadata": {},
            "outputs": [],
            "source": [
                "# Example 2: Creating a thread for casting a spell\n",
                "def cast_spell(spell):\n",
                "    print(f\"Casting {spell}\")\n",
                "\n",
                "thread = threading.Thread(target=cast_spell, args=(\"Fireball\",))\n",
                "thread.start()"
            ]
        },
        {
            "cell_type": "code",
            "execution_count": null,
            "metadata": {},
            "outputs": [],
            "source": [
                "# Example 3: Creating a thread for traversing a dungeon\n",
                "def traverse_dungeon():\n",
                "    rooms = [\"Entrance\", \"Hallway\", \"Treasure Room\", \"Boss Room\"]\n",
                "    for room in rooms:\n",
                "        print(f\"Entering {room}\")\n",
                "\n",
                "thread = threading.Thread(target=traverse_dungeon)\n",
                "thread.start()"
            ]
        },
        {
            "cell_type": "markdown",
            "metadata": {},
            "source": [
                "## 12. Asynchronous Programming\n",
                "Asynchronous programming is like casting spells that can be performed independently.\n",
                "\n",
                "- Asynchronous programming allows tasks to run independently of the main program flow.\n",
                "- It is used to perform non-blocking operations.\n",
                "- The `asyncio` module in Python provides support for asynchronous programming.\n",
                "\n",
                "```python\n",
                "    import asyncio\n",
                "    async def async_function():\n",
                "        await asyncio.sleep(1)\n",
                "```"
            ]
        },
        {
            "cell_type": "code",
            "execution_count": null,
            "metadata": {},
            "outputs": [],
            "source": [
                "import asyncio\n",
                "\n",
                "# Example 1: Asynchronous function for rolling a D20\n",
                "async def roll_d20():\n",
                "    await asyncio.sleep(1)\n",
                "    print(random.randint(1, 20))\n"
            ]
        },
        {
            "cell_type": "code",
            "execution_count": null,
            "metadata": {},
            "outputs": [],
            "source": [
                "# Example 2: Asynchronous function for casting a spell\n",
                "async def cast_spell(spell):\n",
                "    await asyncio.sleep(1)\n",
                "    print(f\"Casting {spell}\")\n"
            ]
        },
        {
            "cell_type": "code",
            "execution_count": null,
            "metadata": {},
            "outputs": [],
            "source": [
                "# Example 3: Asynchronous function for traversing a dungeon\n",
                "async def traverse_dungeon():\n",
                "    rooms = [\"Entrance\", \"Hallway\", \"Treasure Room\", \"Boss Room\"]\n",
                "    for room in rooms:\n",
                "        await asyncio.sleep(1)\n",
                "        print(f\"Entering {room}\")\n",
                "\n",
                "async def main():\n",
                "    await asyncio.gather(roll_d20(), cast_spell(\"Fireball\"), traverse_dungeon())\n",
                "\n",
                "asyncio.run(main())\n"
            ]
        },
        {
            "cell_type": "markdown",
            "metadata": {},
            "source": [
                "## 13. Multicore Programming\n",
                "Multicore programming is like summoning multiple characters to perform tasks on different cores.\n",
                "\n",
                "- Multicore programming allows tasks to run on multiple CPU cores simultaneously.\n",
                "- It is used to perform parallel processing.\n",
                "- The `multiprocessing` module in Python provides support for multicore programming.\n",
                "\n",
                "```python\n",
                "    import multiprocessing\n",
                "    process = multiprocessing.Process(target=function)\n",
                "    process.start()\n",
                "```"
            ]
        },
        {
            "cell_type": "code",
            "execution_count": null,
            "metadata": {},
            "outputs": [],
            "source": [
                "\n",
                "import multiprocessing\n",
                "\n",
                "# Example 1: Creating a process for rolling a D20\n",
                "def roll_d20():\n",
                "    print(random.randint(1, 20))\n",
                "\n",
                "process = multiprocessing.Process(target=roll_d20)\n",
                "process.start()\n"
            ]
        },
        {
            "cell_type": "code",
            "execution_count": null,
            "metadata": {},
            "outputs": [],
            "source": [
                "\n",
                "# Example 2: Creating a process for casting a spell\n",
                "def cast_spell(spell):\n",
                "    print(f\"Casting {spell}\")\n",
                "\n",
                "process = multiprocessing.Process(target=cast_spell, args=(\"Fireball\",))\n",
                "process.start()"
            ]
        },
        {
            "cell_type": "code",
            "execution_count": null,
            "metadata": {},
            "outputs": [],
            "source": [
                "\n",
                "# Example 3: Creating a process for traversing a dungeon\n",
                "def traverse_dungeon():\n",
                "    rooms = [\"Entrance\", \"Hallway\", \"Treasure Room\", \"Boss Room\"]\n",
                "    for room in rooms:\n",
                "        print(f\"Entering {room}\")\n",
                "\n",
                "process = multiprocessing.Process(target=traverse_dungeon)\n",
                "process.start()\n"
            ]
        }
    ],
    "metadata": {
        "kernelspec": {
            "display_name": "base",
            "language": "python",
            "name": "python3"
        },
        "language_info": {
            "codemirror_mode": {
                "name": "ipython",
                "version": 3
            },
            "file_extension": ".py",
            "mimetype": "text/x-python",
            "name": "python",
            "nbconvert_exporter": "python",
            "pygments_lexer": "ipython3",
            "version": "3.12.7"
        }
    },
    "nbformat": 4,
    "nbformat_minor": 2
}
