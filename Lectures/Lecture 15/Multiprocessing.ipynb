{
    "cells": [
        {
            "cell_type": "markdown",
            "metadata": {},
            "source": [
                "# Multiprocessing in Python\n",
                "\n",
                "Multiprocessing allows Python to run CPU-intensive tasks side by side. This is done by launching multiple and independent copies of the Python runtime."
            ]
        },
        {
            "cell_type": "markdown",
            "metadata": {},
            "source": [
                "## Advantages\n",
                "- **True multitasking** by giving each Python process its own CPU core\n",
                "    - Ideal for CPU-intensive tasks\n",
                "- **Better resource utilization**\n",
                "- **Isolation of processes**:\n",
                "    - Each process runs in its own memory space, reducing the risk of data corruption and making debugging simpler.\n",
                "- **Simplified resource management**:\n",
                "    - Compared to threading, multiprocessing in Python is often easier to implement and manage, with fewer concerns about thread safety and synchronization.\n",
                "- Easier code **implementation** compared to threading\n",
                "    - No need for thread pools\n",
                "    - No need for queues\n",
                "    - No exceptions handling complexities\n",
                "    - No rate limitations\n",
                "\n",
                "In other words, a lot less work!"
            ]
        },
        {
            "cell_type": "markdown",
            "metadata": {},
            "source": [
                "## Disadvantages\n",
                "- **Additional overhead on the CPU**\n",
                "    - Creating and managing multiple processes introduces overhead, which can impact overall performance.\n",
                "- **Memory consumption**: Each subprocess needs to have a copy of the data\n",
                "    - This increases the resources needed ie each process requires its own memory space\n",
                "    - Need to pass resources between tasks"
            ]
        },
        {
            "cell_type": "markdown",
            "metadata": {},
            "source": [
                "# A simple example"
            ]
        },
        {
            "cell_type": "code",
            "execution_count": 1,
            "metadata": {},
            "outputs": [
                {
                    "name": "stdout",
                    "output_type": "stream",
                    "text": [
                        "Square: 100\n"
                    ]
                }
            ],
            "source": [
                "from multiprocessing import Process\n",
                "\n",
                "def print_square(num):\n",
                "    print(f'Square: {num * num}')\n",
                "\n",
                "if __name__ == \"__main__\":\n",
                "    p = Process(target=print_square, args=(10,))\n",
                "    p.start()\n",
                "    p.join()"
            ]
        },
        {
            "cell_type": "markdown",
            "metadata": {},
            "source": [
                "## ok maybe that was to simple"
            ]
        },
        {
            "cell_type": "code",
            "execution_count": 2,
            "metadata": {},
            "outputs": [
                {
                    "name": "stdout",
                    "output_type": "stream",
                    "text": [
                        "Square of 1: 1\n",
                        "Square of 2: 4\n",
                        "Square of 3: 9\n",
                        "Square of 4: 16\n",
                        "Square of 5: 25\n",
                        "Square of 6: 36\n",
                        "Square of 7: 49\n",
                        "Square of 8: 64\n",
                        "Square of 9: 81\n",
                        "Square of 10: 100\n"
                    ]
                }
            ],
            "source": [
                "from multiprocessing import Process\n",
                "\n",
                "def print_square(num):\n",
                "    print(f'Square of {num}: {num * num}')\n",
                "\n",
                "if __name__ == \"__main__\":\n",
                "    processes = []\n",
                "    for i in range(1, 11):\n",
                "        p = Process(target=print_square, args=(i,))\n",
                "        processes.append(p)\n",
                "        p.start()\n",
                "\n",
                "    for p in processes: #wait for everything to finish\n",
                "        p.join()"
            ]
        },
        {
            "cell_type": "markdown",
            "metadata": {},
            "source": [
                "Notice that it looks very similar to threading."
            ]
        },
        {
            "cell_type": "markdown",
            "metadata": {},
            "source": [
                "# The old way - Forking - Linux, macOS, Unix\n",
                "\n",
                "**PID (Process Identifier)**: A number used by kernel-based OS to uniquely identify an active process.\n",
                "\n",
                "On POSIX-compliant systems (such as Linux, macOS, and Unix), the fork system call is used to create a new process. When a process forks, it creates a child process that is an exact copy of the parent process. Both processes then continue executing independently from the point where the fork occurred.\n",
                "\n",
                "In Python, the os.fork() function allows you to create a child process. After forking, the parent and child processes have separate memory spaces, enabling parallel execution without interference.\n",
                "\n",
                "os.fork() may not work in windows so it is recommended to use WSL2"
            ]
        },
        {
            "cell_type": "code",
            "execution_count": null,
            "metadata": {},
            "outputs": [
                {
                    "name": "stdout",
                    "output_type": "stream",
                    "text": [
                        "\n",
                        "PRNT: Child pid: 57415\n",
                        "PRNT: pids are [57287, 57287]\n",
                        "PRNT: TMP value is: 2 \n",
                        "CHLD: TMP value is: 1 "
                    ]
                },
                {
                    "name": "stderr",
                    "output_type": "stream",
                    "text": [
                        "/tmp/ipykernel_57287/2590550894.py:7: DeprecationWarning: This process (pid=57287) is multi-threaded, use of fork() may lead to deadlocks in the child.\n",
                        "  child_pid = os.fork()  # Create 1 fork\n"
                    ]
                },
                {
                    "name": "stdout",
                    "output_type": "stream",
                    "text": [
                        "\n",
                        "CHLD: pids are [57287, 57415]"
                    ]
                },
                {
                    "name": "stdout",
                    "output_type": "stream",
                    "text": [
                        "\n"
                    ]
                }
            ],
            "source": [
                "import os  # OS manages the CPU tasks\n",
                "\n",
                "pid_list = []  # List to store the CPU PIDs\n",
                "\n",
                "tmp = 1  # Setup a variable to track the PID\n",
                "pid_list.append(os.getpid())\n",
                "child_pid = os.fork()  # Create 1 fork\n",
                "\n",
                "if child_pid == 0:\n",
                "    pid_list.append(os.getpid())\n",
                "    print(\"CHLD: TMP value is: %d \" % tmp)\n",
                "    print(\"CHLD: pids are %s\" % pid_list)\n",
                "else:\n",
                "    pid_list.append(os.getpid())\n",
                "    tmp += 1\n",
                "    print()\n",
                "    print(\"PRNT: Child pid: %d\" % child_pid)\n",
                "    print(\"PRNT: pids are %s\" % pid_list)\n",
                "    print(\"PRNT: TMP value is: %d \" % tmp)"
            ]
        },
        {
            "cell_type": "markdown",
            "metadata": {},
            "source": [
                "## Forking Example Compatible with Windows and Linux\n",
                "\n",
                "Since `os.fork()` is not available on Windows, we can use the `multiprocessing` module to achieve similar functionality:"
            ]
        },
        {
            "cell_type": "code",
            "execution_count": 36,
            "metadata": {},
            "outputs": [
                {
                    "name": "stdout",
                    "output_type": "stream",
                    "text": [
                        "PRNT: PID is 47776\n",
                        "CHLD: PID is 50489, Parent PID is 47776\n"
                    ]
                }
            ],
            "source": [
                "from multiprocessing import Process, current_process\n",
                "import os\n",
                "\n",
                "def child_process():\n",
                "    print(f\"CHLD: PID is {os.getpid()}, Parent PID is {os.getppid()}\")\n",
                "\n",
                "\n",
                "print(f\"PRNT: PID is {os.getpid()}\")\n",
                "child = Process(target=child_process)\n",
                "child.start()\n",
                "child.join()\n",
                "\n"
            ]
        },
        {
            "cell_type": "markdown",
            "metadata": {},
            "source": [
                "### Notes:\n",
                "- The `os.fork()` function is specific to Unix-like systems (Linux, macOS). For cross-platform compatibility, we use the `multiprocessing` module.\n",
                "- Ensure you run this code in a terminal or an IDE that supports multiprocessing, as some environments like Jupyter Notebooks may not handle multiprocessing well."
            ]
        },
        {
            "cell_type": "markdown",
            "metadata": {},
            "source": [
                "## Another Example\n",
                "\n",
                "Here's an example showing how to create new processes with the `multiprocessing` module:"
            ]
        },
        {
            "cell_type": "code",
            "execution_count": 4,
            "metadata": {},
            "outputs": [
                {
                    "name": "stdout",
                    "output_type": "stream",
                    "text": [
                        "Process 0, pid: 57470\n",
                        "Process 1, pid: 57473\n",
                        "Process 2, pid: 57478\n",
                        "Process 3, pid: 57483\n",
                        "Process 4, pid: 57488\n"
                    ]
                }
            ],
            "source": [
                "from multiprocessing import Process\n",
                "import os\n",
                "\n",
                "def work(identifier):\n",
                "    print('Process {}, pid: {}'.format(identifier, os.getpid()))\n",
                "\n",
                "\n",
                "processes = [Process(target=work, args=(number,)) for number in range(5)]\n",
                "for process in processes:# Start all the processes \n",
                "    process.start()\n",
                "\n",
                "for process in processes:# wait for them all to be done\n",
                "    process.join()\n"
            ]
        },
        {
            "cell_type": "markdown",
            "metadata": {},
            "source": [
                "## Large Caclulation to show CPU Utilization\n",
                "ON windows open up you command prompt and click CPU\n",
                "\n",
                "On Macos open Activity Monitor, navigate to the \"CPU\" tab\n",
                "\n",
                "On Linux systems type mpstat -P ALL 1 100\n"
            ]
        },
        {
            "cell_type": "code",
            "execution_count": 11,
            "metadata": {},
            "outputs": [
                {
                    "name": "stdout",
                    "output_type": "stream",
                    "text": [
                        "Large calculation result for 3: 149999985000000\n",
                        "Large calculation result for 7: 349999965000000\n",
                        "Large calculation result for 1: 49999995000000\n",
                        "Large calculation result for 5: 249999975000000\n",
                        "Large calculation result for 9: 449999955000000\n",
                        "Large calculation result for 6: 299999970000000\n",
                        "Large calculation result for 2: 99999990000000\n",
                        "Large calculation result for 8: 399999960000000\n",
                        "Large calculation result for 10: 499999950000000\n",
                        "Large calculation result for 4: 199999980000000\n",
                        "Total execution time: 3.8376574516296387 seconds\n"
                    ]
                }
            ],
            "source": [
                "import multiprocessing\n",
                "import time\n",
                "\n",
                "def large_calculation(num):\n",
                "    result = 0\n",
                "    for i in range(1, 10000000):\n",
                "        result += i * num\n",
                "    print(f'Large calculation result for {num}: {result}')\n",
                "\n",
                "\n",
                "start_time = time.time()\n",
                "\n",
                "processes = []\n",
                "for i in range(1, 11):\n",
                "    p = multiprocessing.Process(target=large_calculation, args=(i,))\n",
                "    processes.append(p)\n",
                "    p.start()\n",
                "\n",
                "for p in processes:\n",
                "    p.join()\n",
                "\n",
                "end_time = time.time()\n",
                "print(f\"Total execution time: {end_time - start_time} seconds\")"
            ]
        },
        {
            "cell_type": "code",
            "execution_count": 10,
            "metadata": {},
            "outputs": [
                {
                    "name": "stdout",
                    "output_type": "stream",
                    "text": [
                        "Large calculation result for 1: 49999995000000\n",
                        "Large calculation result for 2: 99999990000000\n",
                        "Large calculation result for 3: 149999985000000\n",
                        "Large calculation result for 4: 199999980000000\n",
                        "Large calculation result for 5: 249999975000000\n",
                        "Large calculation result for 6: 299999970000000\n",
                        "Large calculation result for 7: 349999965000000\n",
                        "Large calculation result for 8: 399999960000000\n",
                        "Large calculation result for 9: 449999955000000\n",
                        "Large calculation result for 10: 499999950000000\n",
                        "Total execution time: 7.893022298812866 seconds\n"
                    ]
                }
            ],
            "source": [
                "#the old way for fun\n",
                "import time\n",
                "\n",
                "def large_calculation(num):\n",
                "    result = 0\n",
                "    for i in range(1, 10000000):\n",
                "        result += i * num\n",
                "    print(f'Large calculation result for {num}: {result}')\n",
                "\n",
                "\n",
                "start_time = time.time()\n",
                "\n",
                "for i in range(1, 11):\n",
                "    large_calculation(i)\n",
                "\n",
                "end_time = time.time()\n",
                "print(f\"Total execution time: {end_time - start_time} seconds\")"
            ]
        },
        {
            "cell_type": "markdown",
            "metadata": {},
            "source": [
                "## Pools"
            ]
        },
        {
            "cell_type": "code",
            "execution_count": 12,
            "metadata": {},
            "outputs": [
                {
                    "name": "stdout",
                    "output_type": "stream",
                    "text": [
                        "[1, 4, 9, 16, 25]\n"
                    ]
                }
            ],
            "source": [
                "from multiprocessing import Pool\n",
                "\n",
                "def square(num):\n",
                "    return num * num\n",
                "\n",
                "with Pool(4) as p:\n",
                "    result = p.map(square, [1, 2, 3, 4, 5])\n",
                "    print(result)\n"
            ]
        },
        {
            "cell_type": "code",
            "execution_count": 14,
            "metadata": {},
            "outputs": [
                {
                    "name": "stdout",
                    "output_type": "stream",
                    "text": [
                        "Large calculation result for 2: 99999990000000\n",
                        "Large calculation result for 4: 199999980000000\n",
                        "Large calculation result for 3: 149999985000000\n",
                        "Large calculation result for 1: 49999995000000\n",
                        "Large calculation result for 5: 249999975000000\n",
                        "Large calculation result for 8: 399999960000000\n",
                        "Large calculation result for 6: 299999970000000\n",
                        "Large calculation result for 7: 349999965000000\n",
                        "Large calculation result for 9: 449999955000000\n",
                        "Large calculation result for 10: 499999950000000\n",
                        "Total execution time: 3.673798084259033 seconds\n"
                    ]
                }
            ],
            "source": [
                "from multiprocessing import Pool\n",
                "import time\n",
                "\n",
                "def large_calculation(num):\n",
                "    result = 0\n",
                "    for i in range(1, 10000000):\n",
                "        result += i * num\n",
                "    print(f'Large calculation result for {num}: {result}')\n",
                "\n",
                "\n",
                "start_time = time.time()\n",
                "\n",
                "with Pool(4) as p:\n",
                "    p.map(large_calculation, range(1, 11))\n",
                "\n",
                "end_time = time.time()\n",
                "print(f\"Total execution time: {end_time - start_time} seconds\")"
            ]
        },
        {
            "cell_type": "markdown",
            "metadata": {},
            "source": [
                "## Communication Between Processes\n",
                "\n"
            ]
        },
        {
            "cell_type": "markdown",
            "metadata": {},
            "source": [
                "### Using `multiprocessing.Value` to communicate between processes:\n",
                "\n",
                "Value is used for sharing simple things like int and doubles\n"
            ]
        },
        {
            "cell_type": "code",
            "execution_count": 41,
            "metadata": {},
            "outputs": [
                {
                    "name": "stdout",
                    "output_type": "stream",
                    "text": [
                        "10\n"
                    ]
                }
            ],
            "source": [
                "from multiprocessing import Value, Process\n",
                "\n",
                "def increment(shared_num):\n",
                "    shared_num.value += 1\n",
                "\n",
                "\n",
                "shared_num = Value('i', 0) #i for int\n",
                "processes = [Process(target=increment, args=(shared_num,)) \n",
                "             for _ in range(10)] #group them all\n",
                "\n",
                "for p in processes:\n",
                "    p.start()\n",
                "for p in processes:\n",
                "    p.join()\n",
                "\n",
                "print(shared_num.value)"
            ]
        },
        {
            "cell_type": "markdown",
            "metadata": {},
            "source": [
                "#### The important lock"
            ]
        },
        {
            "cell_type": "code",
            "execution_count": null,
            "metadata": {},
            "outputs": [],
            "source": [
                "from multiprocessing import Value, Process\n",
                "\n",
                "def sum_of_squares(shared_sum, start, end):\n",
                "    for i in range(start, end):\n",
                "        shared_sum.value += i * i\n",
                "\n",
                "\n",
                "shared_sum = Value('i', 0)  # 'i' for int\n",
                "num_processes = 4\n",
                "range_per_process = 100 // num_processes\n",
                "\n",
                "processes = [\n",
                "    Process(target=sum_of_squares, \n",
                "            args=(shared_sum, i * range_per_process, (i + 1) * range_per_process))\n",
                "           for i in range(num_processes)]\n",
                "\n",
                "for p in processes:\n",
                "    p.start()\n",
                "for p in processes:\n",
                "    p.join()\n",
                "\n",
                "print(shared_sum.value)"
            ]
        },
        {
            "cell_type": "code",
            "execution_count": 1,
            "metadata": {},
            "outputs": [
                {
                    "name": "stdout",
                    "output_type": "stream",
                    "text": [
                        "338350\n"
                    ]
                }
            ],
            "source": [
                "from multiprocessing import Process, Value, Lock\n",
                "\n",
                "def sum_of_squares(start, end, shared_result, lock):\n",
                "    for i in range(start, end):\n",
                "        with lock:\n",
                "            shared_result.value += i*i\n",
                "\n",
                "if __name__ == \"__main__\":\n",
                "    num_processes = 4\n",
                "    range_per_process = 100 // num_processes\n",
                "    shared_result = Value('i', 0) \n",
                "    lock = Lock()\n",
                "\n",
                "    processes = [\n",
                "        Process(target=sum_of_squares, args=(i * range_per_process + 1, (i + 1) * range_per_process + 1, shared_result, lock))\n",
                "        for i in range(num_processes)\n",
                "    ]\n",
                "\n",
                "    for p in processes:\n",
                "        p.start()\n",
                "    for p in processes:\n",
                "        p.join()\n",
                "\n",
                "    print(shared_result.value)"
            ]
        },
        {
            "cell_type": "markdown",
            "metadata": {},
            "source": [
                "    Ok so whats the big deal there the same?"
            ]
        },
        {
            "cell_type": "code",
            "execution_count": null,
            "metadata": {},
            "outputs": [
                {
                    "name": "stdout",
                    "output_type": "stream",
                    "text": [
                        "inf\n"
                    ]
                }
            ],
            "source": [
                "from multiprocessing import Process, Value\n",
                "\n",
                "def factorial_part(start, end, shared_result):\n",
                "    result = 1\n",
                "    for i in range(start, end):\n",
                "        result *= i\n",
                "        shared_result.value *= result\n",
                "\n",
                "if __name__ == \"__main__\":\n",
                "    num_processes = 4\n",
                "    n = 100  # Large number for factorial calculation\n",
                "    range_per_process = n // num_processes\n",
                "    shared_result = Value('d', 1.0)  # 'd' for double to handle large numbers\n",
                "\n",
                "    processes = [\n",
                "        Process(\n",
                "            target=factorial_part, \n",
                "            args=(i * range_per_process + 1, (i + 1) * range_per_process + 1, shared_result))\n",
                "            for i in range(num_processes)\n",
                "    ]\n",
                "\n",
                "    for p in processes:\n",
                "        p.start()\n",
                "    for p in processes:\n",
                "        p.join()\n",
                "\n",
                "    print(shared_result.value)"
            ]
        },
        {
            "cell_type": "code",
            "execution_count": null,
            "metadata": {},
            "outputs": [
                {
                    "name": "stdout",
                    "output_type": "stream",
                    "text": [
                        "9.332621544394416e+157\n"
                    ]
                }
            ],
            "source": [
                "from multiprocessing import Process, Value, Lock\n",
                "\n",
                "def factorial_part(start, end, shared_result, lock):\n",
                "    result = 1\n",
                "    for i in range(start, end):\n",
                "        result *= i\n",
                "    with lock:\n",
                "        shared_result.value *= result\n",
                "\n",
                "if __name__ == \"__main__\":\n",
                "    num_processes = 4\n",
                "    n = 100  # Large number for factorial calculation\n",
                "    range_per_process = n // num_processes\n",
                "    shared_result = Value('d', 1.0)  # 'd' for double to handle large numbers\n",
                "    lock = Lock()\n",
                "\n",
                "    processes = [\n",
                "        Process(\n",
                "            target=factorial_part, \n",
                "            args=(i * range_per_process + 1, (i + 1) * range_per_process + 1, shared_result, lock))\n",
                "            for i in range(num_processes)\n",
                "    ]\n",
                "\n",
                "    for p in processes:\n",
                "        p.start()\n",
                "    for p in processes:\n",
                "        p.join()\n",
                "\n",
                "    print(shared_result.value)"
            ]
        },
        {
            "cell_type": "markdown",
            "metadata": {},
            "source": [
                "### Using 'Multiprocessing.Manager' to communicate \n",
                "\n",
                "Value is only useful for simple things tasks Manager is used for  sharing lists or dictionaries between processes"
            ]
        },
        {
            "cell_type": "markdown",
            "metadata": {},
            "source": [
                "#### Lists"
            ]
        },
        {
            "cell_type": "code",
            "execution_count": null,
            "metadata": {},
            "outputs": [
                {
                    "name": "stdout",
                    "output_type": "stream",
                    "text": [
                        "[0, 1, 2, 3, 4, 0, 1, 2, 3, 4, 0, 1, 2, 3, 4, 0, 1, 2, 3, 4]\n"
                    ]
                }
            ],
            "source": [
                "from multiprocessing import Process, Manager\n",
                "\n",
                "def append_to_list(shared_list):\n",
                "    for i in range(5):\n",
                "        shared_list.append(i)\n",
                "\n",
                "\n",
                "manager = Manager()\n",
                "shared_list = manager.list()\n",
                "\n",
                "processes = [\n",
                "    Process(target=append_to_list, args=(shared_list,)) \n",
                "    for _ in range(4)]\n",
                "\n",
                "for p in processes:\n",
                "    p.start()\n",
                "for p in processes:\n",
                "    p.join()\n",
                "\n",
                "print(shared_list)"
            ]
        },
        {
            "cell_type": "markdown",
            "metadata": {},
            "source": [
                "#### Dictionaries "
            ]
        },
        {
            "cell_type": "code",
            "execution_count": null,
            "metadata": {},
            "outputs": [
                {
                    "name": "stdout",
                    "output_type": "stream",
                    "text": [
                        "{0: 0, 1: 1, 2: 4, 3: 9, 4: 16}\n"
                    ]
                }
            ],
            "source": [
                "from multiprocessing import Process, Manager\n",
                "\n",
                "def update_dict(shared_dict):\n",
                "    for i in range(5):\n",
                "        shared_dict[i] = i * i\n",
                "\n",
                "\n",
                "manager = Manager()\n",
                "shared_dict = manager.dict()\n",
                "\n",
                "processes = [Process(target=update_dict, args=(shared_dict,)) \n",
                "             for _ in range(4)]\n",
                "\n",
                "for p in processes:\n",
                "    p.start()\n",
                "for p in processes:\n",
                "    p.join()\n",
                "\n",
                "print(shared_dict)"
            ]
        },
        {
            "cell_type": "markdown",
            "metadata": {},
            "source": [
                "#### Dictionary with a lock"
            ]
        },
        {
            "cell_type": "code",
            "execution_count": null,
            "metadata": {},
            "outputs": [
                {
                    "name": "stdout",
                    "output_type": "stream",
                    "text": [
                        "{'0': 0, '1': 1, '2': 4, '3': 9, '4': 16}\n"
                    ]
                }
            ],
            "source": [
                "from multiprocessing import Process, Manager, Lock\n",
                "\n",
                "def update_dict(shared_dict, lock, key, value):\n",
                "    with lock:\n",
                "        shared_dict[key] = value\n",
                "\n",
                "\n",
                "manager = Manager()\n",
                "shared_dict = manager.dict()\n",
                "lock = Lock()\n",
                "\n",
                "processes = [\n",
                "    Process(target=update_dict, args=(shared_dict, lock, f'{i}', i * i))\n",
                "    for i in range(5)\n",
                "]\n",
                "\n",
                "for p in processes: \n",
                "    p.start()\n",
                "for p in processes:\n",
                "    p.join()\n",
                "\n",
                "print(shared_dict)"
            ]
        },
        {
            "cell_type": "markdown",
            "metadata": {},
            "source": [
                "### Using `multiprocessing.Pipe` to communicate between processes\n",
                "\n",
                "- Pipe allows for \n",
                "    - Bidirectional Communication: You need two-way communication between processes. Pipe allows both ends to send and receive messages.\n",
                "    - Complex Data: You need to send complex data structures (e.g., lists, dictionaries, objects) between processes. Pipe can handle these types of data.\n",
                "\n",
                "But note it is a lot more confusing to understand"
            ]
        },
        {
            "cell_type": "code",
            "execution_count": 27,
            "metadata": {},
            "outputs": [
                {
                    "name": "stdout",
                    "output_type": "stream",
                    "text": [
                        "Hello from the child process!\n"
                    ]
                }
            ],
            "source": [
                "from multiprocessing import Process, Pipe\n",
                "\n",
                "def send_message(conn):\n",
                "    conn.send(\"Hello from the child process!\")\n",
                "    conn.close()\n",
                "\n",
                "\n",
                "parent_conn, child_conn = Pipe()\n",
                "\n",
                "p = Process(target=send_message, args=(child_conn,))\n",
                "p.start()\n",
                "p.join()\n",
                "\n",
                "message = parent_conn.recv()\n",
                "print(message)"
            ]
        },
        {
            "cell_type": "markdown",
            "metadata": {},
            "source": [
                "### A little more complex \n",
                "\n",
                "this code send an int, string, dictionary, class, and none"
            ]
        },
        {
            "cell_type": "code",
            "execution_count": 28,
            "metadata": {},
            "outputs": [
                {
                    "name": "stdout",
                    "output_type": "stream",
                    "text": [
                        "PRNT: send: 42\n",
                        "PRNT: send: some string\n",
                        "PRNT: send: {'one': 1}\n",
                        "PRNT: send: <__main__.CustomClass object at 0x72f89f3a63f0>\n",
                        "PRNT: send: None\n",
                        "CHLD: recv: 42\n",
                        "CHLD: recv: some string\n",
                        "CHLD: recv: {'one': 1}\n",
                        "CHLD: recv: <__main__.CustomClass object at 0x72f89f9754c0>\n"
                    ]
                }
            ],
            "source": [
                "from multiprocessing import Process, Pipe\n",
                "\n",
                "class CustomClass:\n",
                "    pass\n",
                "\n",
                "def work(connection):\n",
                "    while True:\n",
                "        instance = connection.recv()\n",
                "        if instance:\n",
                "            print(\"CHLD: recv: {}\".format(instance))\n",
                "        else:\n",
                "            return\n",
                "\n",
                "\n",
                "parent_conn, child_conn = Pipe()\n",
                "child = Process(target=work, args=(child_conn,))\n",
                "\n",
                "for item in (42, 'some string', {'one': 1}, CustomClass(), None):\n",
                "    print(\"PRNT: send: {}\".format(item))\n",
                "    parent_conn.send(item)\n",
                "\n",
                "child.start()\n",
                "child.join()\n",
                "\n"
            ]
        },
        {
            "cell_type": "markdown",
            "metadata": {},
            "source": [
                "#### AND A LITTLE BIT MORE\n",
                "\n",
                "Does your mind hurt yet."
            ]
        },
        {
            "cell_type": "code",
            "execution_count": null,
            "metadata": {},
            "outputs": [
                {
                    "ename": "OverflowError",
                    "evalue": "int too large to convert to float",
                    "output_type": "error",
                    "traceback": [
                        "\u001b[0;31m---------------------------------------------------------------------------\u001b[0m",
                        "\u001b[0;31mOverflowError\u001b[0m                             Traceback (most recent call last)",
                        "Cell \u001b[0;32mIn[32], line 38\u001b[0m\n\u001b[1;32m     35\u001b[0m \u001b[38;5;28;01mfor\u001b[39;00m conn \u001b[38;5;129;01min\u001b[39;00m parent_conns:\n\u001b[1;32m     36\u001b[0m     factorial_result \u001b[38;5;241m*\u001b[39m\u001b[38;5;241m=\u001b[39m conn\u001b[38;5;241m.\u001b[39mrecv()\n\u001b[0;32m---> 38\u001b[0m \u001b[38;5;28mprint\u001b[39m(\u001b[38;5;124mf\u001b[39m\u001b[38;5;124m\"\u001b[39m\u001b[38;5;132;43;01m{\u001b[39;49;00m\u001b[43mfactorial_result\u001b[49m\u001b[38;5;132;43;01m:\u001b[39;49;00m\u001b[38;5;124;43m.15e\u001b[39;49m\u001b[38;5;132;43;01m}\u001b[39;49;00m\u001b[38;5;124m\"\u001b[39m)\n",
                        "\u001b[0;31mOverflowError\u001b[0m: int too large to convert to float"
                    ]
                }
            ],
            "source": [
                "from multiprocessing import Process, Pipe\n",
                "\n",
                "def factorial_part(start, end, conn):\n",
                "    # Calculate the factorial for a segment of the range\n",
                "    result = 1\n",
                "    for i in range(start, end):\n",
                "        result *= i\n",
                "    # Send the result through the Pipe\n",
                "    conn.send(result)\n",
                "    conn.close()\n",
                "\n",
                "range_per_process = 100 // 4\n",
                "\n",
                "# Create Pipes for communication between parent and child processes\n",
                "parent_conns, child_conns = zip(*[Pipe() for _ in range(num_processes)]) #using zip to order them all\n",
                "\n",
                "processes = [\n",
                "    Process(target=factorial_part, args=(i * range_per_process + 1, (i + 1) * range_per_process + 1, child_conns[i]))\n",
                "    for i in range(num_processes)\n",
                "]\n",
                "\n",
                "\n",
                "for p in processes:\n",
                "    p.start()\n",
                "for p in processes:\n",
                "    p.join()\n",
                "\n",
                "factorial_result = 1\n",
                "for conn in parent_conns:\n",
                "    factorial_result *= conn.recv()\n",
                "\n",
                "print(f\"{factorial_result:.15e}\")\n"
            ]
        },
        {
            "cell_type": "markdown",
            "metadata": {},
            "source": [
                "Using fetch_rates and Manager"
            ]
        },
        {
            "cell_type": "code",
            "execution_count": null,
            "metadata": {},
            "outputs": [
                {
                    "name": "stdout",
                    "output_type": "stream",
                    "text": [
                        "Completed pid: 52354\n",
                        "Time Elapsed on CPU:  0.44s\n",
                        "\n",
                        "Completed pid: 52358\n",
                        "Time Elapsed on CPU:  0.47s\n",
                        "\n",
                        "Completed pid: 52362\n",
                        "Time Elapsed on CPU:  0.48s\n",
                        "\n",
                        "Total Time with processes Elapsed:  0.50s\n",
                        "Shared Dictionary: {'usd': {'eur': 0.91516746053894, 'jpy': 149.70470594683, 'usd': 1}, 'eur': {'eur': 1, 'jpy': 163.58176224782, 'usd': 1.0926961929034}, 'jpy': {'eur': 0.0061131509176739, 'jpy': 1, 'usd': 0.0066798167343864}}\n"
                    ]
                }
            ],
            "source": [
                "from multiprocessing import Process, Manager\n",
                "import requests\n",
                "import os\n",
                "import time\n",
                "\n",
                "def fetch_rate(bases, symbols=['eur', 'jpy', 'usd'], timing=False, shared_dict=None):\n",
                "    \"\"\"\n",
                "    A function to fetch the conversion rate of a given input.Takes in the desired base currency and outputs \n",
                "    the given conversion rate to supplied symbols.\n",
                "    \"\"\"\n",
                "    # Setup time for demonstration\n",
                "    if timing:\n",
                "        a = time.time()        \n",
                "\n",
                "    # Run the main part of the function to get the rates\n",
                "    web = \"http://www.floatrates.com/daily/\" + str(bases) + \".json\"\n",
                "    response = requests.get(web)\n",
                "    rate = response.json()\n",
                "    rate[bases] = {'rate': 1}\n",
                "\n",
                "    # Update the shared dictionary with the rates\n",
                "    shared_dict[bases] = {symbol: rate[symbol]['rate'] for symbol in symbols}\n",
                "\n",
                "    if timing:\n",
                "        print(\"Completed pid: \" + str(os.getpid()))\n",
                "        print(\"Time Elapsed on CPU:  {:.02f}s\\n\".format((time.time() - a)))\n",
                "\n",
                "\n",
                "\n",
                "def multicore(debug=False):\n",
                "    manager = Manager()\n",
                "    shared_dict = manager.dict()\n",
                "    bases = ['usd', 'eur', 'jpy']  # Example base currencies\n",
                "\n",
                "    processes = [\n",
                "        Process(target=fetch_rate, args=(base, ['eur', 'jpy', 'usd'], debug, shared_dict))\n",
                "        for base in bases\n",
                "    ]\n",
                "\n",
                "    a = time.time()\n",
                "    for p in processes:\n",
                "        p.start()\n",
                "    for p in processes:\n",
                "        p.join()\n",
                "\n",
                "    print(\"Total Time with processes Elapsed:  {:.02f}s\".format(time.time() - a))\n",
                "    print(\"Shared Dictionary:\", shared_dict)\n",
                "\n",
                "# Run the multicore function\n",
                "multicore(True)\n"
            ]
        },
        {
            "cell_type": "code",
            "execution_count": null,
            "metadata": {},
            "outputs": [],
            "source": []
        }
    ],
    "metadata": {
        "kernelspec": {
            "display_name": "Python 3",
            "language": "python",
            "name": "python3"
        },
        "language_info": {
            "codemirror_mode": {
                "name": "ipython",
                "version": 3
            },
            "file_extension": ".py",
            "mimetype": "text/x-python",
            "name": "python",
            "nbconvert_exporter": "python",
            "pygments_lexer": "ipython3",
            "version": "3.12.3"
        }
    },
    "nbformat": 4,
    "nbformat_minor": 4
}
