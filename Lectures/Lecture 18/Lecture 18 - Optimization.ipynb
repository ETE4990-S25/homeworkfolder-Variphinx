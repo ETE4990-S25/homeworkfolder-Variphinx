{
 "cells": [
  {
   "cell_type": "markdown",
   "id": "06128186-1e14-4d40-a476-807d9399ac99",
   "metadata": {},
   "source": [
    "# Code Optimization\n",
    "\n",
    "Code optimization is the process of making an application work more efficiently, usually without modifying its functionality and accuracy. Code optimization is usually concerned with the speed of processing, but can also be used to minimize the usage of different resources, such as memory, disk space, or network bandwidth.\n",
    "\n",
    "Jaworski , Michal and Tarek Ziadé. Expert Python Programming. Packt Publishing, 2019.\n"
   ]
  },
  {
   "cell_type": "markdown",
   "id": "2995bf7b-e125-4861-bf2a-3bceb42e753f",
   "metadata": {},
   "source": [
    "Even the best logging, metrics, and tracing systems will give you only a rough overview of the performance problem. If you decide to fix it, you will have to perform a careful profiling process that will uncover detailed resource usage patterns\n",
    "\n",
    "What are the main performance killers?\n",
    "- Excessive complexity\n",
    "- Excessive resource allocation and resource leaks\n",
    "- Excessive I/O and blocking operations\n"
   ]
  },
  {
   "cell_type": "markdown",
   "id": "bc4d68e2-bf26-44e4-9cce-0982434f531d",
   "metadata": {},
   "source": [
    "## Code complexity\n",
    "The two most popular ways to define application complexity are as follows:\n",
    "\n",
    "**Cyclomatic complexity** - which is very often correlated with application performance.\n",
    "\n",
    "**The Landau notation** - also known as big O notation, is an algorithm classification method that is useful in objectively judging code performance.\n",
    "\n",
    "## Cyclomatic complexity\n",
    "Short and sweet higher complexity = lower performance\n",
    "\n",
    "| | | \n",
    "|:---|:---|\n",
    "|Cyclomatic complexity value|Complexity class|\n",
    "|1 to 10|Not complex|\n",
    "|11 to 20|Moderately complex|\n",
    "|21 to 50|Really complex|\n",
    "|Above 50|Too complex|\n",
    "\n",
    "## The big O notation\n",
    "Defines how an algorithm is affected by the size of the input\n",
    "To measure the big O notation, all constants and low-order terms are removed in order to focus on the portion that really matters when the size of the input data grows very large.\n",
    "\n",
    "\n",
    "This is commonly expressed using **Big O notation**.\n",
    "\n",
    "| Big O        | Name                | Example                |\n",
    "|--------------|---------------------|------------------------|\n",
    "| O(1)         | Constant time        | Accessing an array element |\n",
    "| O(log n)     | Logarithmic time     | Binary search           |\n",
    "| O(n)         | Linear time          | Iterating over a list   |\n",
    "| O(n log n)   | Linearithmic time    | Efficient sorting (e.g., mergesort) |\n",
    "| O(n²)        | Quadratic time       | Nested loops over data  |\n",
    "| O(2ⁿ), O(n!) | Exponential / factorial | Recursive combinatorics |\n",
    "\n",
    "### Example\n",
    "```python\n",
    "def function(n):\n",
    "    for i in range(n):\n",
    "        print(i)\n",
    "\n",
    "```\n",
    "\n",
    "the print() function will be executed n times therefor O(n)"
   ]
  },
  {
   "cell_type": "markdown",
   "id": "5762af17-13e2-4b0e-b086-7b20f4775f1b",
   "metadata": {},
   "source": [
    "## Profiling CPU usage\n",
    "\n",
    "There are two ways to profile the code:\n",
    "\n",
    "**Macro-profiling** - This profiles the whole program while it is being used and generates statistics.\n",
    "\n",
    "**Micro-profiling** - This measures a precise part of the program by instrumenting it manually.\n",
    "\n",
    "\n"
   ]
  },
  {
   "cell_type": "markdown",
   "id": "0cb08217-e197-4e2d-9489-3e1e2633369a",
   "metadata": {},
   "source": [
    "## Macro-profiling\n",
    "You can do different tools tow of the available to you in Python:\n",
    "\n",
    "- `profile`: A pure-Python profiler suitable for teaching or light use.\n",
    "- `cProfile`: A C-optimized profiler, more efficient and widely used in practice."
   ]
  },
  {
   "cell_type": "code",
   "execution_count": null,
   "id": "01605d49-6ffb-467a-8076-773ce1783d78",
   "metadata": {},
   "outputs": [],
   "source": [
    "import time\n",
    "class runIT(object):\n",
    "    def __init__(self):\n",
    "        for i in range(5): \n",
    "            self.heavy() \n",
    "\n",
    "    def medium(self): \n",
    "        time.sleep(0.01) \n",
    "     \n",
    "    def light(self): \n",
    "        time.sleep(0.001) \n",
    "     \n",
    "    def heavy(self): \n",
    "        for i in range(100): \n",
    "            self.light() \n",
    "            self.medium() \n",
    "            self.medium() \n",
    "        time.sleep(2) "
   ]
  },
  {
   "cell_type": "code",
   "execution_count": null,
   "id": "b468ee68",
   "metadata": {},
   "outputs": [],
   "source": [
    "%%prun -s cumulative -q -l 10 -T prun0\n",
    "runs = runIT()"
   ]
  },
  {
   "cell_type": "code",
   "execution_count": null,
   "id": "32e0a9fc-abcf-4323-b6a2-b903f62e06a9",
   "metadata": {},
   "outputs": [],
   "source": [
    "print(open('prun0', 'r').read())"
   ]
  },
  {
   "cell_type": "markdown",
   "id": "ce0e6af0-cf82-4b5c-bd7e-551d3a0d38c7",
   "metadata": {},
   "source": [
    "The meaning of each column is as follows:\n",
    "\n",
    "\n",
    "| Column        | Description                                                                 |\n",
    "|---------------|-----------------------------------------------------------------------------|\n",
    "| `ncalls`      | Total number of calls to the function                                        |\n",
    "| `tottime`     | Total time spent in the function (excluding subcalls)                        |\n",
    "| `percall`     | `tottime` divided by `ncalls` (avg time per direct call)                    |\n",
    "| `cumtime`     | Cumulative time including all subcalls                                      |\n",
    "| `percall`     | `cumtime` divided by `ncalls` (avg time including subcalls)                 |\n"
   ]
  },
  {
   "cell_type": "code",
   "execution_count": null,
   "id": "389d538c-70c4-4b73-a90b-aa8e41f52f86",
   "metadata": {},
   "outputs": [],
   "source": [
    "import cProfile\n",
    "profiler = cProfile.Profile()\n",
    "profiler.runcall(runIT)\n",
    "profiler.print_stats()"
   ]
  },
  {
   "cell_type": "markdown",
   "id": "85a738f6-558d-4de5-a67c-673a967753a3",
   "metadata": {},
   "source": [
    "## Profiling your code line-by-line with line_profiler\n",
    "\n",
    "Sometimes we need an even more detailed analysis of code performance \n",
    "\n",
    "This is particularly useful when optimizing algorithms, loops, or numerically intensive routines.\n",
    "\n",
    "To profile code line-by-line, we need an external Python module named `line_profiler`."
   ]
  },
  {
   "cell_type": "markdown",
   "id": "b0c3496b-6bdc-4234-85a5-dc9cb3f06ce5",
   "metadata": {},
   "source": [
    "\n",
    "```bash\n",
    "pip install line_profiler\n",
    "```\n"
   ]
  },
  {
   "cell_type": "code",
   "execution_count": null,
   "id": "0414ca43-414f-4e7c-9b34-6586f5da4c6a",
   "metadata": {},
   "outputs": [],
   "source": [
    "%%writefile runIT.py \n",
    "import time\n",
    "def medium(): \n",
    "    time.sleep(0.01) \n",
    " \n",
    "def light(): \n",
    "    time.sleep(0.001) \n",
    " \n",
    "def heavy(): \n",
    "    for i in range(100): \n",
    "        light() \n",
    "        medium() \n",
    "        medium() \n",
    "    time.sleep(2) \n",
    " \n",
    "def runit(n): \n",
    "    for i in range(n): \n",
    "        heavy()"
   ]
  },
  {
   "cell_type": "code",
   "execution_count": null,
   "id": "dc3f4a58-7072-4c27-9797-1408afe63d86",
   "metadata": {},
   "outputs": [],
   "source": [
    "from runIT import runit"
   ]
  },
  {
   "cell_type": "code",
   "execution_count": null,
   "id": "39f3541f-0f20-4016-a8dc-be8e3a9abe33",
   "metadata": {},
   "outputs": [],
   "source": [
    "import numpy as np\n",
    "%load_ext line_profiler"
   ]
  },
  {
   "cell_type": "markdown",
   "id": "84a8b5ef",
   "metadata": {},
   "source": [
    "The `line_profiler` package integrates with IPython via the `%lprun`"
   ]
  },
  {
   "cell_type": "code",
   "execution_count": null,
   "id": "745d5f15-1a59-4a9d-9fc1-a15f9b2cdbbf",
   "metadata": {},
   "outputs": [],
   "source": [
    "#%lprun -T lprof0 -f simulate simulate(50)\n",
    "%lprun -T lprof0 -f runit runit(5)"
   ]
  },
  {
   "cell_type": "code",
   "execution_count": null,
   "id": "c18d336a-056d-4204-bedf-4569030efb6d",
   "metadata": {},
   "outputs": [],
   "source": [
    "print(open('lprof0', 'r').read())"
   ]
  },
  {
   "cell_type": "code",
   "execution_count": null,
   "id": "c841bc2b-8421-4015-9c41-9518e1c419f4",
   "metadata": {},
   "outputs": [],
   "source": [
    "#%%writefile rates.py\n",
    "#from condenced from Lecture 11\n",
    "import threading\n",
    "import requests\n",
    "import json\n",
    "def fetch_rate(bases, symbols =['eur','jpy','usd'] ):\n",
    "    for base in bases:\n",
    "        web = \"http://www.floatrates.com/daily/\"+str(base)+\".json\"\n",
    "        response = requests.get(web)\n",
    "        rate = response.json()\n",
    "        rate[base]= {'rate':1}\n",
    "        \n",
    "        #create a line to output the rate\n",
    "        rates_line = \", \".join(\n",
    "            [f\"{symbol}{float(rate[symbol]['rate']):10.04}\" \n",
    "             for symbol in symbols]\n",
    "        )\n",
    "        print(f\"{base} = {rates_line}\")"
   ]
  },
  {
   "cell_type": "code",
   "execution_count": null,
   "id": "3ee7b1c6-a505-45ce-bf4d-220eea9ca771",
   "metadata": {},
   "outputs": [],
   "source": [
    "%lprun -T lprof1 -f fetch_rate fetch_rate(['eur','jpy','usd','rub','cad'])"
   ]
  },
  {
   "cell_type": "code",
   "execution_count": null,
   "id": "f62a78cd-ec0c-4b1a-9ba4-83f4eb9fc76c",
   "metadata": {},
   "outputs": [],
   "source": [
    "#to profile multiple function within the code you can do the following\n",
    "\n",
    "from line_profiler import LineProfiler\n",
    "lp = LineProfiler()\n",
    "lp.add_function(light)\n",
    "lp.add_function(medium)\n",
    "lp.add_function(heavy)\n",
    "lpp = lp(runit)\n",
    "lpp(1)\n",
    "\n",
    "\n",
    "lp.print_stats()\n"
   ]
  },
  {
   "cell_type": "code",
   "execution_count": null,
   "id": "73684764-3da3-4c7d-bdc6-51b70ce00cc5",
   "metadata": {},
   "outputs": [],
   "source": [
    "print(open('lprof2', 'r').read())"
   ]
  },
  {
   "cell_type": "markdown",
   "id": "bab56397-9238-4a61-98ed-118b5ce08a2b",
   "metadata": {},
   "source": [
    "# Profiling the Memory Usage\n",
    "\n",
    "Memory profiling helps identify unnecessary allocations that can degrade long-running systems.\n",
    "\n",
    "Writing memory-efficient code is critical for performance, especially in high-throughput or data-intensive applications (e.g., when working with large NumPy arrays or data frames).\n",
    "\n",
    "\n",
    "The `memory_profiler` package integrates with IPython via the `%memit` magic command, allowing you to measure the memory usage of individual lines or functions.\n"
   ]
  },
  {
   "cell_type": "markdown",
   "id": "0e45d7a5-dacc-4802-bfa0-d88efefc5e29",
   "metadata": {},
   "source": [
    "``` bash\n",
    "!pip install memory_profiler\n",
    "````"
   ]
  },
  {
   "cell_type": "code",
   "execution_count": null,
   "id": "d9b46514-9b81-4353-bc08-2d56d445896d",
   "metadata": {},
   "outputs": [],
   "source": [
    "%load_ext memory_profiler\n",
    "from rates import fetch_rate"
   ]
  },
  {
   "cell_type": "code",
   "execution_count": null,
   "id": "308a3ae1-734e-4148-b64a-be0a5d82f39e",
   "metadata": {},
   "outputs": [],
   "source": [
    "%mprun -T mprof0 -f fetch_rate fetch_rate(['eur','jpy','usd','rub','cad'])"
   ]
  },
  {
   "cell_type": "code",
   "execution_count": null,
   "id": "08c66c43-4972-477e-955a-5f1be15c0216",
   "metadata": {},
   "outputs": [],
   "source": [
    "%mprun -T mprof1 -f runit runit(5)"
   ]
  },
  {
   "cell_type": "code",
   "execution_count": null,
   "id": "8cb9ef4f-a037-48e1-88c4-36bd739b92d8",
   "metadata": {},
   "outputs": [],
   "source": [
    "%mprun -T mprof2 -f my_func my_func()"
   ]
  },
  {
   "cell_type": "markdown",
   "id": "cbbe1400-1525-4303-b218-6c70aa9a4b89",
   "metadata": {},
   "source": [
    "the memory_profiler IPython extension also comes with a %memit magic command that lets us benchmark the memory used by a single Python statement"
   ]
  },
  {
   "cell_type": "code",
   "execution_count": null,
   "id": "e01af965-c90a-49d8-8e8e-a9c267f5225c",
   "metadata": {},
   "outputs": [],
   "source": [
    "%%memit \n",
    "with open('ItemData.json') as f:\n",
    "    items = json.load(f)\n"
   ]
  },
  {
   "cell_type": "markdown",
   "id": "d3bc11b2-93c6-484f-a58d-94a3ca03f44d",
   "metadata": {},
   "source": [
    "# Practical Speed Improvements"
   ]
  },
  {
   "cell_type": "code",
   "execution_count": null,
   "id": "853c4db7-058e-401a-9e89-cec46fea035e",
   "metadata": {},
   "outputs": [],
   "source": [
    "import random\n",
    "l = [random.normalvariate(0,1) for i in range(100000)]\n",
    "print(type(l))"
   ]
  },
  {
   "cell_type": "code",
   "execution_count": null,
   "id": "9af639e6-9f5b-4031-9486-5786e357891f",
   "metadata": {},
   "outputs": [],
   "source": [
    "#function that computes the sum of all numbers in that list\n",
    "def sum1():\n",
    "    res = 0\n",
    "    for i in range(len(l)):\n",
    "        res = res + l[i]\n",
    "    return res\n",
    "a = %timeit sum1()"
   ]
  },
  {
   "cell_type": "code",
   "execution_count": null,
   "id": "657a58d7-28ae-4000-a3a0-0f95f1bc5b87",
   "metadata": {},
   "outputs": [],
   "source": [
    "#same function but using the fact that python can enumerate \n",
    "#the elements of a list using for x in l instead of iterating with an index\n",
    "def sum2():\n",
    "    res = 0\n",
    "    for x in l:\n",
    "        res = res + x\n",
    "    return res\n",
    "b = %timeit sum2()"
   ]
  },
  {
   "cell_type": "code",
   "execution_count": null,
   "id": "ebf5bdb5-30b5-4d75-ba06-e696f65eb137",
   "metadata": {},
   "outputs": [],
   "source": [
    "#using pythongs built-in function to \n",
    "#compute the sum of all elements in a list\n",
    "def sum3():\n",
    "    return sum(l)\n",
    "c = %timeit sum3()"
   ]
  },
  {
   "cell_type": "markdown",
   "id": "e2a3a39d-318b-410a-8b37-ecd5eb63e73d",
   "metadata": {},
   "source": [
    "Strings"
   ]
  },
  {
   "cell_type": "code",
   "execution_count": null,
   "id": "7e7ea7a8-0fce-40b1-aa0f-fa58c19fb077",
   "metadata": {},
   "outputs": [],
   "source": [
    "strings = ['%.3f' % x for x in l]"
   ]
  },
  {
   "cell_type": "code",
   "execution_count": null,
   "id": "c8406481-6c26-488e-a1cd-c662842a7114",
   "metadata": {},
   "outputs": [],
   "source": [
    "#A function concatenating all strings in that list\n",
    "def concat1():\n",
    "    cat = strings[0]\n",
    "    for s in strings[1:]:\n",
    "        cat = cat + ', ' + s\n",
    "    return cat\n",
    "%timeit concat1()"
   ]
  },
  {
   "cell_type": "code",
   "execution_count": null,
   "id": "b9661609-cd62-452b-aac3-01af36e114a8",
   "metadata": {},
   "outputs": [],
   "source": [
    "#A function using pythongs built in string concatinator\n",
    "def concat2():\n",
    "    return ', '.join(strings)\n",
    "\n",
    "%timeit concat2()"
   ]
  },
  {
   "cell_type": "code",
   "execution_count": null,
   "id": "d84f5e79-51fc-4068-a9e1-6342dd17c2ea",
   "metadata": {},
   "outputs": [],
   "source": [
    "print(concat1()[:24])\n",
    "print(concat2()[:24])"
   ]
  },
  {
   "cell_type": "code",
   "execution_count": null,
   "id": "0841adb1-f1e4-4890-82eb-d4ef963c260b",
   "metadata": {},
   "outputs": [],
   "source": [
    "print(strings[:3])\n",
    "print(l[:3])"
   ]
  },
  {
   "cell_type": "markdown",
   "id": "9bc56dd7-eb46-47fd-bac9-92436df1f4d3",
   "metadata": {},
   "source": [
    "I hope this shows you the power of generators and functional programs. "
   ]
  },
  {
   "cell_type": "markdown",
   "id": "55707516-3c2c-49f3-a504-e3406024a5a0",
   "metadata": {},
   "source": [
    "# OMG ITS SO FAST\n",
    "\n",
    "[Numba](https://numba.pydata.org/) is a Just-in-Time (JIT) compiler that translates a subset of Python (primarily numerical code) into optimized machine code using LLVM.\n",
    "\n",
    "\n",
    "Performance speedups when compared to pure Python code can reach several orders of magnitude (10x to 1000x) and may even outmatch manually-vectorized NumPy code.\n",
    "\n",
    "In this section, we will show you how to accelerate pure Python code generating a Mandelbrot fractal.\n"
   ]
  },
  {
   "cell_type": "code",
   "execution_count": null,
   "id": "b2fa65e8-21f4-487a-ae00-6a3a27d8afc0",
   "metadata": {},
   "outputs": [],
   "source": [
    "import numpy as np\n",
    "import matplotlib.pyplot as plt\n",
    "%matplotlib inline"
   ]
  },
  {
   "cell_type": "code",
   "execution_count": null,
   "id": "c638a5a3-57ea-499d-b7a4-cc9e83d4a397",
   "metadata": {},
   "outputs": [],
   "source": [
    "size = 400\n",
    "iterations = 100"
   ]
  },
  {
   "cell_type": "markdown",
   "id": "42c6ba89",
   "metadata": {},
   "source": [
    "To enable JIT acceleration, decorate your functions with:\n",
    "\n",
    "```python\n",
    "from numba import jit\n",
    "\n",
    "@jit\n",
    "def compute(...):\n",
    "    #code goes here\n",
    "```\n"
   ]
  },
  {
   "cell_type": "code",
   "execution_count": null,
   "id": "bc9244a7-6b37-489c-a30d-0168c6e13cb6",
   "metadata": {},
   "outputs": [],
   "source": [
    "@jit\n",
    "def mandelbrot_python(size, iterations):\n",
    "    m = np.zeros((size, size))\n",
    "    for i in range(size):\n",
    "        for j in range(size):\n",
    "            c = (-2 + 3. / size * j +\n",
    "                 1j * (1.5 - 3. / size * i))\n",
    "            z = 0\n",
    "            for n in range(iterations):\n",
    "                if np.abs(z) <= 10:\n",
    "                    z = z * z + c\n",
    "                    m[i, j] = n\n",
    "                else:\n",
    "                    break\n",
    "    return m"
   ]
  },
  {
   "cell_type": "code",
   "execution_count": null,
   "id": "072d0083-2f2f-4548-87c1-863162956b5f",
   "metadata": {},
   "outputs": [],
   "source": [
    "m = mandelbrot_python(size, iterations)\n",
    "fig, ax = plt.subplots(1, 1, figsize=(10, 10))\n",
    "ax.imshow(np.log(m), cmap=plt.cm.hot)\n",
    "ax.set_axis_off()"
   ]
  },
  {
   "cell_type": "code",
   "execution_count": null,
   "id": "30ba83b0-72db-4adc-8c9c-8c057916ddee",
   "metadata": {},
   "outputs": [],
   "source": [
    "%timeit mandelbrot_python(size, iterations)"
   ]
  },
  {
   "cell_type": "code",
   "execution_count": null,
   "id": "527e1647-0fff-41b9-8a67-bec87309c115",
   "metadata": {},
   "outputs": [],
   "source": [
    "#!pip install numba\n",
    "from numba import jit"
   ]
  },
  {
   "cell_type": "code",
   "execution_count": null,
   "id": "7d07c326-90d3-4852-8d9e-4d8d10061028",
   "metadata": {},
   "outputs": [],
   "source": [
    "%timeit mandelbrot_python(size, iterations) #do it again with numba"
   ]
  },
  {
   "cell_type": "markdown",
   "id": "6bbe0251-3d7f-431e-ada5-de2e5878f864",
   "metadata": {},
   "source": [
    "## NOTE on JIT Compilation: \n",
    "Python bytecode is normally interpreted at runtime by the Python interpreter (most often, CPython). \n",
    "\n",
    "Numba functions are parsed and translated directly to machine code ahead of execution, using a powerful compiler architecture named Low Level Virtual Machine (LLVM).\n",
    "\n",
    "Numba generally gives the most impressive speedups on functions that involve tight loops on NumPy arrays.\n",
    "\n",
    "\n",
    "\n",
    "The @jit can only compile code that is also decorated with @jit or there is a known replacement inside Numba.\n",
    "\n",
    "Please see http://numba.pydata.org/numba-doc/latest/user/5minguide.html#will-numba-work-for-my-code for a quick description of what Numba support."
   ]
  },
  {
   "cell_type": "code",
   "execution_count": null,
   "id": "a9149a1a-e5db-4e4e-81fb-bcef00de0ce0",
   "metadata": {},
   "outputs": [],
   "source": []
  }
 ],
 "metadata": {
  "kernelspec": {
   "display_name": "base",
   "language": "python",
   "name": "python3"
  },
  "language_info": {
   "codemirror_mode": {
    "name": "ipython",
    "version": 3
   },
   "file_extension": ".py",
   "mimetype": "text/x-python",
   "name": "python",
   "nbconvert_exporter": "python",
   "pygments_lexer": "ipython3",
   "version": "3.12.7"
  }
 },
 "nbformat": 4,
 "nbformat_minor": 5
}
