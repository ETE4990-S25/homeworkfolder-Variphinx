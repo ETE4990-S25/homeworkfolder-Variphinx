{
 "cells": [
  {
   "cell_type": "markdown",
   "id": "021ec0b5",
   "metadata": {},
   "source": [
    "# Asynchronous Programing\n",
    "\n",
    "The Async keyword when used before a def statment defined a new coroutine.\n",
    "\n",
    "A coroutine can be suspended or exicuted at predefined circumstances.\n",
    "\n",
    "Asynchronous tasks do not all run at the same time but insted when idle will allow for another process to run also\n",
    "\n",
    "This is called cooperative.\n",
    "\n",
    "Cooperative multitasking is on the application level and does not deal with threads or processes that need to release control.\n",
    "\n"
   ]
  },
  {
   "cell_type": "code",
   "execution_count": null,
   "id": "6c9c1b85",
   "metadata": {},
   "outputs": [],
   "source": [
    "import asyncio \n",
    "import nest_asyncio # this will fix the iPython unable to perform Asynchronous tasks\n",
    "nest_asyncio.apply()\n",
    "async def async_hello():\n",
    "    print(\"hello, world\")\n"
   ]
  },
  {
   "cell_type": "code",
   "execution_count": null,
   "id": "becadad3",
   "metadata": {},
   "outputs": [],
   "source": [
    "async_hello()"
   ]
  },
  {
   "cell_type": "markdown",
   "id": "d5ec9d7d",
   "metadata": {},
   "source": [
    "As you can see an async gives an output like a generator/functional program. As you can guess it also does not do anything untill execution is scheduled. \n",
    "\n",
    "The event loop is the core of every asyncio application. Event loops run asynchronous tasks and callbacks, perform network IO operations, and run subprocesses.\n",
    "\n",
    "Application developers should typically use the high-level asyncio functions, such as asyncio.run(), and should rarely need to reference the loop object or call its methods. This section is intended mostly for authors of lower-level code, libraries, and frameworks, who need finer control over the event loop behavior."
   ]
  },
  {
   "cell_type": "code",
   "execution_count": null,
   "id": "ebe70ec2",
   "metadata": {},
   "outputs": [],
   "source": [
    "loop = asyncio.get_event_loop()\n",
    "loop.run_until_complete(async_hello())"
   ]
  },
  {
   "cell_type": "markdown",
   "id": "d84ecfcd",
   "metadata": {},
   "source": [
    "Lets make it a little more complecated to observe closer on what is going on."
   ]
  },
  {
   "cell_type": "code",
   "execution_count": null,
   "id": "034ea135",
   "metadata": {},
   "outputs": [],
   "source": [
    "import asyncio\n",
    "\n",
    "async def print_number(number):\n",
    "    print(number)\n",
    "\n",
    "loop = asyncio.get_event_loop() #setup a loop\n",
    "\n",
    "loop.run_until_complete( # run the loop\n",
    "    await asyncio.wait(\n",
    "        print_number(number)\n",
    "        for number in range(10)\n",
    "    )\n",
    ")\n",
    "loop.close() #needed when not using nest_asyncio"
   ]
  },
  {
   "cell_type": "markdown",
   "id": "7717c318",
   "metadata": {},
   "source": [
    "asyncio.wait() is a function that accepts a list of coroutine objects and returns immediately. \n",
    "asyncio.wait() results are a generator and in this case is called futures\n",
    "\n"
   ]
  },
  {
   "cell_type": "code",
   "execution_count": null,
   "id": "8c1d133b",
   "metadata": {},
   "outputs": [],
   "source": [
    "import time\n",
    "async def waits(name): \n",
    "    for i in range(4):\n",
    "        print(\"waited in \",i,\" \",name)\n",
    "        #time.sleep(1)\n",
    "        await asyncio.sleep(2)\n",
    "        #print(\"{} waited\"\"\".format(name))\n",
    "\n",
    "async def worker():\n",
    "        #await asyncio.wait([waits(\"first\"),waits(\"second\")]) #Old way\n",
    "        await asyncio.wait([ #this is the correct way to call asyncio as of 3.8\n",
    "            asyncio.create_task(waits(\"first\")),\n",
    "            asyncio.create_task(waits(\"second\")),\n",
    "            asyncio.create_task(waits(\"third\")),\n",
    "            asyncio.create_task(waits(\"forth\")),\n",
    "            asyncio.create_task(waits(\"fith\")),\n",
    "\n",
    "        ])\n",
    "loop = asyncio.get_event_loop()\n",
    "a = time.time()\n",
    "loop.run_until_complete(worker())\n",
    "print(time.time()-a)\n",
    "#loop.close()"
   ]
  },
  {
   "cell_type": "code",
   "execution_count": null,
   "id": "1846b2f7",
   "metadata": {},
   "outputs": [],
   "source": [
    "pip install aiohttp"
   ]
  },
  {
   "cell_type": "code",
   "execution_count": null,
   "id": "b381ef7a",
   "metadata": {},
   "outputs": [],
   "source": [
    "import asyncio\n",
    "\n",
    "async def print_numbers():\n",
    "    for i in range(1, 5):\n",
    "        print(i)\n",
    "        time.sleep(1)\n",
    "        #await asyncio.sleep(1)\n",
    "\n",
    "async def main():\n",
    "    task1 = asyncio.create_task(print_numbers())\n",
    "    task2 = asyncio.create_task(print_numbers())\n",
    "    await task1\n",
    "    await task2\n",
    "\n",
    "asyncio.run(main())"
   ]
  },
  {
   "cell_type": "code",
   "execution_count": null,
   "id": "5d828392",
   "metadata": {},
   "outputs": [
    {
     "name": "stdout",
     "output_type": "stream",
     "text": [
      "1\n",
      "1\n",
      "2\n",
      "2\n",
      "3\n",
      "3\n",
      "4\n",
      "4\n",
      "5\n",
      "5\n",
      "6\n",
      "6\n",
      "7\n",
      "7\n",
      "8\n",
      "8\n",
      "9\n",
      "9\n",
      "10\n",
      "10\n"
     ]
    }
   ],
   "source": [
    "import asyncio\n",
    "\n",
    "async def print_numbers():\n",
    "    for i in range(1, 11):\n",
    "        print(i)\n",
    "        await asyncio.sleep(1)\n",
    "        #time.sleep(1)\n",
    "\n",
    "async def main():\n",
    "    task1 = asyncio.create_task(print_numbers())\n",
    "    task2 = asyncio.create_task(print_numbers())\n",
    "\n",
    "asyncio.run(main())"
   ]
  },
  {
   "cell_type": "code",
   "execution_count": null,
   "id": "23bf11e4",
   "metadata": {},
   "outputs": [],
   "source": [
    "import asyncio\n",
    "import aiohttp\n",
    "\n",
    "rates = ['eur','jpy','usd','rub','cad']\n",
    "bases = ['eur','jpy','usd','rub','cad']\n",
    "\n",
    "async def fetch_data(bases):           \n",
    "    web = \"http://www.floatrates.com/daily/\"+str(bases)+\".json\"\n",
    "    print(web)\n",
    "    async with aiohttp.ClientSession() as session:\n",
    "        async with session.get(web) as response:\n",
    "            data = await response.json()          \n",
    "            data[bases]= {'rate':1}\n",
    "            return data\n",
    "    \n",
    "async def main():\n",
    "    a = time.time()\n",
    "    data = [await fetch_data(base) for base in bases]\n",
    "    print(time.time()-a)\n",
    "    datas = data[0]\n",
    "    for rate in rates:\n",
    "        print(str(rate) +' '+ str(datas[rate]['rate']))\n",
    "\n",
    "asyncio.run(main())"
   ]
  },
  {
   "cell_type": "code",
   "execution_count": null,
   "id": "babb66cf-fd76-4891-9660-d86885bde5cc",
   "metadata": {},
   "outputs": [],
   "source": []
  },
  {
   "cell_type": "markdown",
   "id": "0e76db5c",
   "metadata": {},
   "source": [
    "## Project # 2\n",
    "\n",
    "Create a Multiprocessing, Threaded and Asynchronous application that will calculate the highest prime number in 3 min.\n",
    "\n",
    "You must start a 0\n",
    "\n",
    "After you have created these programs analyze  the performance of each. IE: How long did it take to find prime number? Compare each prime and why each found that prime number. \n",
    "\n",
    "If you wish you can calculate any other non dependent item and them perform analyses.\n",
    "\n",
    "For code consistancy use the following is_prime function.\n",
    "```python\n",
    "def is_prime(n):\n",
    "    if n <= 1:\n",
    "        return False\n",
    "    for i in range(2, int(n ** 0.5) + 1):\n",
    "        if n % i == 0:\n",
    "            return False\n",
    "    return True\n",
    "```\n",
    "    async       13,386,001\n",
    "    threaded(2) 10,747,921\n",
    "    "
   ]
  },
  {
   "cell_type": "code",
   "execution_count": 5,
   "id": "2f6f7366",
   "metadata": {},
   "outputs": [],
   "source": [
    "def getStuff (Lists):\n",
    "    list1 = []\n",
    "    for List in Lists:\n",
    "        if (Lists[0] == 4):\n",
    "            list1.append(List);\n",
    "    return list1;\n"
   ]
  },
  {
   "cell_type": "code",
   "execution_count": null,
   "id": "967a1a3c",
   "metadata": {},
   "outputs": [],
   "source": [
    "getStuff([1,2,3,4,5])"
   ]
  },
  {
   "cell_type": "code",
   "execution_count": null,
   "id": "ab9e34fc",
   "metadata": {},
   "outputs": [],
   "source": [
    "a = 1\n",
    "for i in range(a,4):\n",
    "    print(i)\n",
    "\n",
    "    print(i)"
   ]
  },
  {
   "cell_type": "code",
   "execution_count": null,
   "id": "135f9993",
   "metadata": {},
   "outputs": [],
   "source": []
  }
 ],
 "metadata": {
  "kernelspec": {
   "display_name": "base",
   "language": "python",
   "name": "python3"
  },
  "language_info": {
   "codemirror_mode": {
    "name": "ipython",
    "version": 3
   },
   "file_extension": ".py",
   "mimetype": "text/x-python",
   "name": "python",
   "nbconvert_exporter": "python",
   "pygments_lexer": "ipython3",
   "version": "3.12.7"
  }
 },
 "nbformat": 4,
 "nbformat_minor": 5
}
