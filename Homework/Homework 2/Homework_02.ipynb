{
 "cells": [
  {
   "cell_type": "markdown",
   "id": "21c6150b-c2f3-4659-9561-af7f65d461b1",
   "metadata": {},
   "source": [
    "# Homework #2\n",
    "\n",
    "Create a Farm\n",
    "\n",
    "Old McDonald needs help on his farm please help him catigorize all of his animals \n",
    "\n",
    "Create classes for all of his diferent types of animals \n",
    "You should have at least 5 animals on the farm ie. cows, pigs, dogs, goats \n",
    "\n",
    "VERY Poorly writen exsample \n",
    "\n",
    "```python\n",
    "class Animals (self):\n",
    "    self.name = name\n",
    "    self.age = age\n",
    "\n",
    "class Pets(Animals):\n",
    "    self.friend = True\n",
    "    self.eat = False\n",
    "\n",
    "class Dog(Pets)\n",
    "    self.good_boy = True\n",
    "    self.type = \"type of dog\"\n",
    "listOfAnimals = [Dog()]\n",
    "```\n",
    "\n",
    "\n",
    "Your program should have an input and output allowing the user to add and remove animals. \n",
    "\n",
    "Love you !"
   ]
  },
  {
   "cell_type": "code",
   "execution_count": 106,
   "id": "bee751a0",
   "metadata": {},
   "outputs": [],
   "source": [
    "class Animals(object):\n",
    "    def __init__(self,name,age,health):\n",
    "        self.name = name \n",
    "        self.age = age\n",
    "        self._health = health\n",
    "    def get_health(self):\n",
    "        return self._health\n",
    "    \n",
    "\n",
    "class Production(Animals):\n",
    "    def __init__(self,name,age,health,product):\n",
    "        super().__init__(name,age,health)\n",
    "        self.product = product \n",
    "    def Make(self):\n",
    "        return print(f\"{self.name} made {self.product}!\")\n",
    "\n",
    "class Helping(Animals):\n",
    "    def __init__(self,name,age,health,role,damage):\n",
    "        super().__init__(name,age,health)\n",
    "        self.role = role\n",
    "        self.damage = damage ## To fend off wild animals\n",
    "    def DefendFarm(self, attacker):\n",
    "        attacker._health = attacker._health - self.damage\n",
    "        if attacker._health > 0:\n",
    "            return print(f\"{attacker.name} took {self.damage} damage from {self.name} and now has {attacker.get_health()} health\")\n",
    "        else:\n",
    "            return print(f\"{attacker.name} died and {self.name} saved the farm\")\n",
    "        \n",
    "        \n",
    "class Wild(Animals):\n",
    "    def __init__(self,name,age,health,damage):\n",
    "        super().__init__(name,age,health)\n",
    "        self.damage = damage  ## Animals do damage to farm? 1-100\n",
    "\n",
    "    def AttackFarm(self, Prey):\n",
    "        Prey._health = Prey._health - self.damage\n",
    "        if Prey._health > 0:\n",
    "            return print(f\"{Prey.name} took {self.damage} damage from {self.name} {Prey.name} and now has {Prey.get_health()} health \")\n",
    "        else:\n",
    "            return print(f\"{Prey.name} died at the hands of {self.name}\")"
   ]
  },
  {
   "cell_type": "code",
   "execution_count": 118,
   "id": "06091950",
   "metadata": {},
   "outputs": [],
   "source": [
    "\n",
    "cow = Production(\"Ol'Bessie\",20, 60, \"Steak\")\n",
    "\n",
    "sheep = Production(\"Lamby\", 6, 50, \"Wool\")\n",
    "\n",
    "chicken = Production(\"Chuck\", 4, 20, \"Eggs\")\n",
    "\n",
    "hawk = Wild(\"Toby\", 5, 45, 30)\n",
    "\n",
    "wolf = Wild(\"Big Bad Wolf\", 13, 80, 65)\n",
    "\n",
    "scarecrow = Helping(\"Bonooru\", 38, 10, \"Scare Crows\", 0)\n",
    "\n",
    "watch_dog = Helping(\"Bingo\", 7, 140, \"Guard\", 75)"
   ]
  },
  {
   "cell_type": "code",
   "execution_count": 114,
   "id": "a9547ba5",
   "metadata": {},
   "outputs": [
    {
     "name": "stdout",
     "output_type": "stream",
     "text": [
      "Lamby died at the hands of Big Bad Wolf\n",
      "Big Bad Wolf took 75 damage from Bingo and now has 5 health\n"
     ]
    }
   ],
   "source": [
    "wolf.AttackFarm(sheep)\n",
    "watch_dog.DefendFarm(wolf)"
   ]
  },
  {
   "cell_type": "code",
   "execution_count": 115,
   "id": "c8182cfc",
   "metadata": {},
   "outputs": [
    {
     "name": "stdout",
     "output_type": "stream",
     "text": [
      "Chuck died at the hands of Toby\n"
     ]
    }
   ],
   "source": [
    "hawk.AttackFarm(chicken)"
   ]
  },
  {
   "cell_type": "code",
   "execution_count": 119,
   "id": "f9249884",
   "metadata": {},
   "outputs": [
    {
     "name": "stdout",
     "output_type": "stream",
     "text": [
      "Lamby made Wool!\n",
      "Ol'Bessie made Steak!\n",
      "Chuck made Eggs!\n"
     ]
    }
   ],
   "source": [
    "sheep.Make()\n",
    "cow.Make()\n",
    "chicken.Make()"
   ]
  },
  {
   "cell_type": "code",
   "execution_count": null,
   "id": "77eca9cb",
   "metadata": {},
   "outputs": [],
   "source": []
  }
 ],
 "metadata": {
  "kernelspec": {
   "display_name": "base",
   "language": "python",
   "name": "python3"
  },
  "language_info": {
   "codemirror_mode": {
    "name": "ipython",
    "version": 3
   },
   "file_extension": ".py",
   "mimetype": "text/x-python",
   "name": "python",
   "nbconvert_exporter": "python",
   "pygments_lexer": "ipython3",
   "version": "3.12.7"
  }
 },
 "nbformat": 4,
 "nbformat_minor": 5
}
