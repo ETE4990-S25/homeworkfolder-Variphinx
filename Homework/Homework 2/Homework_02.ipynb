{
 "cells": [
  {
   "cell_type": "markdown",
   "id": "21c6150b-c2f3-4659-9561-af7f65d461b1",
   "metadata": {},
   "source": [
    "# Homework #2\n",
    "\n",
    "Create a Farm\n",
    "\n",
    "Old McDonald needs help on his farm please help him catigorize all of his animals \n",
    "\n",
    "Create classes for all of his diferent types of animals \n",
    "You should have at least 5 animals on the farm ie. cows, pigs, dogs, goats \n",
    "\n",
    "VERY Poorly writen exsample \n",
    "\n",
    "```python\n",
    "class Animals (self):\n",
    "    self.name = name\n",
    "    self.age = age\n",
    "\n",
    "class Pets(Animals):\n",
    "    self.friend = True\n",
    "    self.eat = False\n",
    "\n",
    "class Dog(Pets)\n",
    "    self.good_boy = True\n",
    "    self.type = \"type of dog\"\n",
    "listOfAnimals = [Dog()]\n",
    "```\n",
    "\n",
    "\n",
    "Your program should have an input and output allowing the user to add and remove animals. \n",
    "\n",
    "Love you !"
   ]
  },
  {
   "cell_type": "code",
   "execution_count": null,
   "id": "bee751a0",
   "metadata": {},
   "outputs": [],
   "source": [
    "## David Long\n",
    "\n",
    "class Animals(object):\n",
    "\n",
    "    def __init__(self,name,age,health):\n",
    "        self.name = name \n",
    "        self.age = age\n",
    "        self._health = health\n",
    "\n",
    "    def get_health(self):\n",
    "        return self._health\n",
    "\n",
    "\n",
    "Products = {}\n",
    "\n",
    "class Production(Animals):\n",
    "\n",
    "    def __init__(self,name,age,health,product):\n",
    "        super().__init__(name,age,health)\n",
    "        self.product = product \n",
    "\n",
    "    def Make(self):\n",
    "        if self.product in Products:\n",
    "            Products[self.product] += 1\n",
    "        else:\n",
    "            Products[self.product] = 1\n",
    "        return print(f\"{self.name} made {self.product}!\")\n",
    "\n",
    "\n",
    "class Helping(Animals):\n",
    "\n",
    "    def __init__(self,name,age,health,role,damage):\n",
    "        super().__init__(name,age,health)\n",
    "        self.role = role\n",
    "        self.damage = damage ## To fend off wild animals\n",
    "\n",
    "    def WhatRole(self):\n",
    "        return print(f\"{self.name} helps {self.role} on the farm\")\n",
    "\n",
    "    def DefendFarm(self, attacker):\n",
    "        attacker._health = attacker._health - self.damage\n",
    "\n",
    "        if attacker._health > 0:\n",
    "            return print(f\"{attacker.name} took {self.damage} damage from {self.name} and now has {attacker.get_health()} health\")\n",
    "        else:\n",
    "            if attacker.__class__ == Dead:\n",
    "                return print(f\"{attacker.name} is already dead\")\n",
    "            else:\n",
    "                attacker.__class__ = Dead  # Changes the object's class\n",
    "                attacker.__init__(attacker.name, attacker.age)  # Reinitialize with Dead class constructor    ##Chatgpt was used to figure this out\n",
    "                return print(f\"{attacker.name} died and {self.name} saved the farm\")\n",
    "        \n",
    "        \n",
    "class Wild(Animals):\n",
    "\n",
    "    def __init__(self,name,age,health,damage):\n",
    "        super().__init__(name,age,health)\n",
    "        self.damage = damage  ## Animals do damage to farm? 1-100\n",
    "\n",
    "    def AttackFarm(self, Prey):\n",
    "        Prey._health = Prey._health - self.damage\n",
    "\n",
    "        if Prey._health > 0:\n",
    "            return print(f\"{Prey.name} took {self.damage} damage from {self.name} and now has {Prey.get_health()} health \")\n",
    "        else:\n",
    "            if Prey.__class__ == Dead:\n",
    "                return print(f\"{Prey.name} is already dead\")\n",
    "            else:\n",
    "                Prey.__class__ = Dead  # Changes the object's class\n",
    "                Prey.__init__(Prey.name, Prey.age)  # Reinitialize with Dead class constructor    ##Chatgpt was used to figure this out\n",
    "                return print(f\"{Prey.name} died at the hands of {self.name}\")\n",
    "        \n",
    "\n",
    "class Dead(Animals):\n",
    "\n",
    "    def __init__(self, name, age, product=None):\n",
    "        super().__init__(name, age, 0)\n",
    "\n",
    "    def DefendFarm(self, attacker):          ##Override functions so dead animals cannot do certain things\n",
    "        return print(f\"{self.name} has died at the age of {self.age} and can no longer defend the farm\")\n",
    "    \n",
    "    def AttackFarm(self, Prey):\n",
    "        return print(f\"{self.name} was already killed at the age of {self.age} and can't attack the farm\")\n",
    "        \n",
    "    def Make(self):\n",
    "        return print(f\"{self.name} has died at the age of {self.age} and can't make any more {self.product}\")\n",
    "    \n",
    "\n",
    "\n"
   ]
  },
  {
   "cell_type": "code",
   "execution_count": 2,
   "id": "06091950",
   "metadata": {},
   "outputs": [],
   "source": [
    "\n",
    "cow = Production(\"Ol'Bessie\",20, 60, \"Milk\")\n",
    "\n",
    "sheep = Production(\"Lamby\", 6, 50, \"Wool\")\n",
    "\n",
    "chicken = Production(\"Chuck\", 4, 20, \"Eggs\")\n",
    "\n",
    "goat = Production(\"Steven\", 4, 45, \"Goat Milk\")\n",
    "\n",
    "coyote = Wild(\"Coyote\", 8, 50, 20)\n",
    "\n",
    "hawk = Wild(\"The hawk\", 5, 30, 30)\n",
    "\n",
    "wolf = Wild(\"The wolf\", 13, 80, 65)\n",
    "\n",
    "horse = Helping(\"Buster\", 6, 100, \"transport supplies\", 30)\n",
    "\n",
    "scarecrow = Helping(\"Bonooru\", 38, 10, \"scare crows\", 0)\n",
    "\n",
    "watch_dog = Helping(\"Bingo\", 7, 140, \"defend others\", 75)"
   ]
  },
  {
   "cell_type": "code",
   "execution_count": 3,
   "id": "f9249884",
   "metadata": {},
   "outputs": [
    {
     "name": "stdout",
     "output_type": "stream",
     "text": [
      "Lamby made Wool!\n",
      "Ol'Bessie made Milk!\n",
      "Chuck made Eggs!\n",
      "Steven made Goat Milk!\n",
      "{'Wool': 1, 'Milk': 1, 'Eggs': 1, 'Goat Milk': 1}\n"
     ]
    }
   ],
   "source": [
    "sheep.Make()\n",
    "cow.Make()\n",
    "chicken.Make()\n",
    "goat.Make()\n",
    "print(Products)"
   ]
  },
  {
   "cell_type": "code",
   "execution_count": 4,
   "id": "ee4233d5",
   "metadata": {},
   "outputs": [
    {
     "name": "stdout",
     "output_type": "stream",
     "text": [
      "Buster helps transport supplies on the farm\n",
      "Bingo helps defend others on the farm\n",
      "Bonooru helps scare crows on the farm\n"
     ]
    }
   ],
   "source": [
    "horse.WhatRole()\n",
    "watch_dog.WhatRole()\n",
    "scarecrow.WhatRole()"
   ]
  },
  {
   "cell_type": "code",
   "execution_count": 5,
   "id": "77eca9cb",
   "metadata": {},
   "outputs": [
    {
     "name": "stdout",
     "output_type": "stream",
     "text": [
      "The wolf took 75 damage from Bingo and now has 5 health\n",
      "Chuck died at the hands of The wolf\n"
     ]
    }
   ],
   "source": [
    "watch_dog.DefendFarm(wolf) \n",
    "wolf.AttackFarm(chicken)"
   ]
  },
  {
   "cell_type": "code",
   "execution_count": 6,
   "id": "fbc24231",
   "metadata": {},
   "outputs": [
    {
     "name": "stdout",
     "output_type": "stream",
     "text": [
      "Bingo took 65 damage from The wolf and now has 75 health \n",
      "Chuck is already dead\n",
      "The wolf died and Bingo saved the farm\n"
     ]
    }
   ],
   "source": [
    "wolf.AttackFarm(watch_dog)\n",
    "hawk.AttackFarm(chicken)\n",
    "watch_dog.DefendFarm(wolf)"
   ]
  },
  {
   "cell_type": "code",
   "execution_count": 7,
   "id": "e8ade3a3",
   "metadata": {},
   "outputs": [
    {
     "name": "stdout",
     "output_type": "stream",
     "text": [
      "The wolf was already killed at the age of 13 and can't attack the farm\n",
      "Bonooru died at the hands of The hawk\n",
      "Watch dogs health: 75\n",
      "Wolfs health: 0\n"
     ]
    }
   ],
   "source": [
    "wolf.AttackFarm(watch_dog)\n",
    "hawk.AttackFarm(scarecrow)\n",
    "print(f\"Watch dogs health: {watch_dog.get_health()}\")\n",
    "print(f\"Wolfs health: {wolf.get_health()}\")"
   ]
  },
  {
   "cell_type": "code",
   "execution_count": 8,
   "id": "bf7012b8",
   "metadata": {},
   "outputs": [
    {
     "name": "stdout",
     "output_type": "stream",
     "text": [
      "Chuck has died at the age of 4 and can't make any more Eggs\n",
      "Bonooru has died at the age of 38 and can no longer defend the farm\n",
      "The hawk died and Buster saved the farm\n"
     ]
    }
   ],
   "source": [
    "chicken.Make()\n",
    "scarecrow.DefendFarm(hawk)\n",
    "horse.DefendFarm(hawk)"
   ]
  },
  {
   "cell_type": "markdown",
   "id": "2dc3eecc",
   "metadata": {},
   "source": [
    "I'm not sure if you can tell but i had a lot of fun with this :)"
   ]
  }
 ],
 "metadata": {
  "kernelspec": {
   "display_name": "Python 3",
   "language": "python",
   "name": "python3"
  },
  "language_info": {
   "codemirror_mode": {
    "name": "ipython",
    "version": 3
   },
   "file_extension": ".py",
   "mimetype": "text/x-python",
   "name": "python",
   "nbconvert_exporter": "python",
   "pygments_lexer": "ipython3",
   "version": "3.13.1"
  }
 },
 "nbformat": 4,
 "nbformat_minor": 5
}
