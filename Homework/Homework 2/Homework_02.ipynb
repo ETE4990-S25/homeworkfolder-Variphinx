{
 "cells": [
  {
   "cell_type": "markdown",
   "id": "21c6150b-c2f3-4659-9561-af7f65d461b1",
   "metadata": {},
   "source": [
    "# Homework #2\n",
    "\n",
    "Create a Farm\n",
    "\n",
    "Old McDonald needs help on his farm please help him catigorize all of his animals \n",
    "\n",
    "Create classes for all of his diferent types of animals \n",
    "You should have at least 5 animals on the farm ie. cows, pigs, dogs, goats \n",
    "\n",
    "VERY Poorly writen exsample \n",
    "\n",
    "```python\n",
    "class Animals (self):\n",
    "    self.name = name\n",
    "    self.age = age\n",
    "\n",
    "class Pets(Animals):\n",
    "    self.friend = True\n",
    "    self.eat = False\n",
    "\n",
    "class Dog(Pets)\n",
    "    self.good_boy = True\n",
    "    self.type = \"type of dog\"\n",
    "listOfAnimals = [Dog()]\n",
    "```\n",
    "\n",
    "\n",
    "Your program should have an input and output allowing the user to add and remove animals. \n",
    "\n",
    "Love you !"
   ]
  },
  {
   "cell_type": "code",
   "execution_count": null,
   "id": "bee751a0",
   "metadata": {},
   "outputs": [],
   "source": []
  }
 ],
 "metadata": {
  "kernelspec": {
   "display_name": "3.9.16",
   "language": "python",
   "name": "python3"
  },
  "language_info": {
   "codemirror_mode": {
    "name": "ipython",
    "version": 3
   },
   "file_extension": ".py",
   "mimetype": "text/x-python",
   "name": "python",
   "nbconvert_exporter": "python",
   "pygments_lexer": "ipython3",
   "version": "3.9.16"
  }
 },
 "nbformat": 4,
 "nbformat_minor": 5
}
