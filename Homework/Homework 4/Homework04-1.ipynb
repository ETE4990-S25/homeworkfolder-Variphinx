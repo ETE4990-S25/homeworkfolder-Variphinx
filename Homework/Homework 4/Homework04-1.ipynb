{
 "cells": [
  {
   "cell_type": "markdown",
   "id": "94336058-4ebc-4a98-9a56-de67b67d5ce5",
   "metadata": {},
   "source": [
    "# Homework #4\n",
    "\n",
    "Develop a function named decode(message_file). \n",
    "\n",
    "This function should read an encoded message from a .txt file and return its decoded version as a string.\n",
    "\n",
    "Your function must be able to process an input file with the following format:\n",
    "\n",
    "```\n",
    "3 love\n",
    "6 computers\n",
    "2 dogs\n",
    "4 cats\n",
    "1 I\n",
    "5 you\n",
    "```\n",
    "\n",
    "In this file, each line contains a number followed by a word. The task is to decode a hidden message based on the arrangement of these numbers into a \"pyramid\" structure. The numbers are placed into the pyramid in ascending order, with each line of the pyramid having one more number than the line above it. The smallest number is 1, and the numbers increase consecutively, like so:\n",
    "\n",
    "```\n",
    "   1\n",
    "  2 3\n",
    " 4 5 6\n",
    "7 8 9 10\n",
    "```\n",
    "\n",
    "The key to decoding the message is to use the words corresponding to the numbers at the end of each pyramid line (in this example, 1, 3, and 6). You should ignore all the other words. So for the example input file above, the message words are:\n",
    "\n",
    "```\n",
    "1: I\n",
    "3: love\n",
    "6: computers\n",
    "```\n",
    "and your function should return the string \"I love computers\".\n",
    "\n"
   ]
  },
  {
   "cell_type": "code",
   "execution_count": 20,
   "id": "2532f781-eb6b-4dcc-aad7-b1463a8f51a6",
   "metadata": {},
   "outputs": [],
   "source": [
    "def decode(File):\n",
    "    word_map = {}\n",
    "    with open (File, 'r') as f:\n",
    "        for line in f:\n",
    "            num = \"\"\n",
    "            word = \"\"\n",
    "            flag =0\n",
    "            for char in line:     ## Formatted to find number first then after space find the word\n",
    "                if char == \" \":\n",
    "                    flag = 1\n",
    "                elif flag == 0:\n",
    "                    num += char\n",
    "                else:\n",
    "                    word += char\n",
    "            word_map[num] = word.strip()\n",
    "    print(word_map)\n",
    "\n"
   ]
  },
  {
   "cell_type": "code",
   "execution_count": 21,
   "id": "63c43c22",
   "metadata": {},
   "outputs": [
    {
     "name": "stdout",
     "output_type": "stream",
     "text": [
      "{'3': 'love', '6': 'computers', '2': 'dogs', '4': 'cats', '1': 'I', '5': 'you'}\n"
     ]
    }
   ],
   "source": [
    "decode('Message.txt')"
   ]
  },
  {
   "cell_type": "code",
   "execution_count": null,
   "id": "a62aecf9",
   "metadata": {},
   "outputs": [],
   "source": []
  }
 ],
 "metadata": {
  "kernelspec": {
   "display_name": "Python 3",
   "language": "python",
   "name": "python3"
  },
  "language_info": {
   "codemirror_mode": {
    "name": "ipython",
    "version": 3
   },
   "file_extension": ".py",
   "mimetype": "text/x-python",
   "name": "python",
   "nbconvert_exporter": "python",
   "pygments_lexer": "ipython3",
   "version": "3.13.1"
  }
 },
 "nbformat": 4,
 "nbformat_minor": 5
}
