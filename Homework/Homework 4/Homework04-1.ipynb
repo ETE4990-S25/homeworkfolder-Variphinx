{
 "cells": [
  {
   "cell_type": "markdown",
   "id": "94336058-4ebc-4a98-9a56-de67b67d5ce5",
   "metadata": {},
   "source": [
    "# Homework #4\n",
    "\n",
    "Develop a function named decode(message_file). \n",
    "\n",
    "This function should read an encoded message from a .txt file and return its decoded version as a string.\n",
    "\n",
    "Your function must be able to process an input file with the following format:\n",
    "\n",
    "```\n",
    "3 love\n",
    "6 computers\n",
    "2 dogs\n",
    "4 cats\n",
    "1 I\n",
    "5 you\n",
    "```\n",
    "\n",
    "In this file, each line contains a number followed by a word. The task is to decode a hidden message based on the arrangement of these numbers into a \"pyramid\" structure. The numbers are placed into the pyramid in ascending order, with each line of the pyramid having one more number than the line above it. The smallest number is 1, and the numbers increase consecutively, like so:\n",
    "\n",
    "```\n",
    "   1\n",
    "  2 3\n",
    " 4 5 6\n",
    "7 8 9 10\n",
    "```\n",
    "\n",
    "The key to decoding the message is to use the words corresponding to the numbers at the end of each pyramid line (in this example, 1, 3, and 6). You should ignore all the other words. So for the example input file above, the message words are:\n",
    "\n",
    "```\n",
    "1: I\n",
    "3: love\n",
    "6: computers\n",
    "```\n",
    "and your function should return the string \"I love computers\".\n",
    "\n"
   ]
  },
  {
   "cell_type": "code",
   "execution_count": 24,
   "id": "2532f781-eb6b-4dcc-aad7-b1463a8f51a6",
   "metadata": {},
   "outputs": [],
   "source": [
    "def decode(File):\n",
    "    word_map = {}\n",
    "    with open (File, 'r') as f:\n",
    "        for line in f:\n",
    "            num = \"\"\n",
    "            word = \"\"\n",
    "            flag =0\n",
    "            for char in line:     ## Formatted to find number first then after space find the word\n",
    "                if char == \" \":\n",
    "                    flag = 1\n",
    "                elif flag == 0:\n",
    "                    num += char\n",
    "                else:\n",
    "                    word += char\n",
    "            word_map[int(num)] = word.strip()\n",
    "    print(f\"The file reads: {sorted(word_map.items())}\")\n",
    "\n",
    "    flag = True\n",
    "    message_list = []\n",
    "    n = 2  ##add to search, incriment each time\n",
    "    search = 1\n",
    "    while flag == True:\n",
    "        if search not in word_map:\n",
    "            break\n",
    "        message_list.append(word_map[search])\n",
    "        search = search + n\n",
    "        n += 1\n",
    "    \n",
    "    message = \"\"\n",
    "    for i in message_list:\n",
    "        message += i + \" \"\n",
    "    print(f\"Decoded, the file reads: \\n{message}\")\n"
   ]
  },
  {
   "cell_type": "code",
   "execution_count": 25,
   "id": "63c43c22",
   "metadata": {},
   "outputs": [
    {
     "name": "stdout",
     "output_type": "stream",
     "text": [
      "The file reads: [(1, 'design'), (2, 'of'), (3, 'all'), (4, 'power'), (5, 'excite'), (6, 'your'), (7, 'dog'), (8, 'opposite'), (9, 'oxygen'), (10, 'life'), (11, 'done'), (12, 'prove'), (13, 'corn'), (14, 'prepare'), (15, 'so'), (16, 'too'), (17, 'nine'), (18, 'men'), (19, 'touch'), (20, 'discuss'), (21, 'that'), (22, 'case'), (23, 'middle'), (24, 'touch'), (25, 'speed'), (26, 'dont'), (27, 'gun'), (28, 'with'), (29, 'cook'), (30, 'present'), (31, 'chick'), (32, 'chick'), (33, 'hit'), (34, 'live'), (35, 'group'), (36, 'all'), (37, 'sugar'), (38, 'cent'), (39, 'put'), (40, 'hill'), (41, 'drink'), (42, 'he'), (43, 'produce'), (44, 'ocean'), (45, 'the'), (46, 'sand'), (47, 'bit'), (48, 'song'), (49, 'cost'), (50, 'platter'), (51, 'select'), (52, 'with'), (53, 'less'), (54, 'ease'), (55, 'problems'), (56, 'big'), (57, 'compare'), (58, 'town'), (59, 'any'), (60, 'close'), (61, 'people'), (62, 'rain'), (63, 'it'), (64, 'open'), (65, 'dry'), (66, 'in'), (67, 'buy'), (68, 'brown'), (69, 'company'), (70, 'force'), (71, 'band'), (72, 'yard'), (73, 'example'), (74, 'enough'), (75, 'above'), (76, 'fire'), (77, 'produce'), (78, 'a'), (79, 'state'), (80, 'general'), (81, 'material'), (82, 'his'), (83, 'moment'), (84, 'glass'), (85, 'about'), (86, 'hold'), (87, 'we'), (88, 'thus'), (89, 'company'), (90, 'milk'), (91, 'day'), (92, 'counter'), (93, 'office'), (94, 'section'), (95, 'against'), (96, 'capital'), (97, 'blood'), (98, 'print'), (99, 'chart'), (100, 'money'), (101, 'hurry'), (102, 'possible'), (103, 'copy'), (104, 'am'), (105, 'can'), (106, 'protect'), (107, 'finger'), (108, 'meant'), (109, 'are'), (110, 'together'), (111, 'hole'), (112, 'include'), (113, 'organ'), (114, 'first'), (115, 'back'), (116, 'neighbor'), (117, 'machine'), (118, 'play'), (119, 'beat'), (120, 'be'), (121, 'her'), (122, 'possible'), (123, 'skin'), (124, 'prepare'), (125, 'coast'), (126, 'sat'), (127, 'make'), (128, 'temperature'), (129, 'band'), (130, 'noun'), (131, 'us'), (132, 'fire'), (133, 'stead'), (134, 'does'), (135, 'complete'), (136, 'solved'), (137, 'kind'), (138, 'indicate'), (139, 'discuss'), (140, 'necessary'), (141, 'nor'), (142, 'better'), (143, 'work'), (144, 'mile'), (145, 'object'), (146, 'ease'), (147, 'paragraph'), (148, 'term'), (149, 'stop'), (150, 'best'), (151, 'winter'), (152, 'column'), (153, 'by'), (154, 'each'), (155, 'wild'), (156, 'fair'), (157, 'repeat'), (158, 'duck'), (159, 'speak'), (160, 'jump'), (161, 'object'), (162, 'remember'), (163, 'past'), (164, 'though'), (165, 'show'), (166, 'crease'), (167, 'experiment'), (168, 'triangle'), (169, 'young'), (170, 'center'), (171, 'a'), (172, 'come'), (173, 'farm'), (174, 'written'), (175, 'class'), (176, 'happen'), (177, 'ball'), (178, 'tone'), (179, 'east'), (180, 'require'), (181, 'indicate'), (182, 'over'), (183, 'like'), (184, 'brown'), (185, 'dry'), (186, 'friend'), (187, 'prepare'), (188, 'felt'), (189, 'fact'), (190, 'system'), (191, 'instant'), (192, 'the'), (193, 'land'), (194, 'suit'), (195, 'select'), (196, 'organ'), (197, 'out'), (198, 'wrote'), (199, 'answer'), (200, 'low'), (201, 'where'), (202, 'student'), (203, 'especially'), (204, 'over'), (205, 'poem'), (206, 'single'), (207, 'fire'), (208, 'modern'), (209, 'are'), (210, 'you'), (211, 'bird'), (212, 'colony'), (213, 'cool'), (214, 'kind'), (215, 'ready'), (216, 'third'), (217, 'sister'), (218, 'fire'), (219, 'seat'), (220, 'trade'), (221, 'thus'), (222, 'oil'), (223, 'quotient'), (224, 'straight'), (225, 'happen'), (226, 'element'), (227, 'true'), (228, 'pitch'), (229, 'offer'), (230, 'strong'), (231, 'have'), (232, 'begin'), (233, 'clock'), (234, 'ball'), (235, 'grand'), (236, 'produce'), (237, 'got'), (238, 'come'), (239, 'idea'), (240, 'clothe'), (241, 'dad'), (242, 'to'), (243, 'field'), (244, 'like'), (245, 'observe'), (246, 'think'), (247, 'area'), (248, 'feel'), (249, 'man'), (250, 'good'), (251, 'insect'), (252, 'stop'), (253, 'in'), (254, 'history'), (255, 'compare'), (256, 'cold'), (257, 'down'), (258, 'solve'), (259, 'lady'), (260, 'remember'), (261, 'wait'), (262, 'bought'), (263, 'morning'), (264, 'skills'), (265, 'plain'), (266, 'they'), (267, 'probable'), (268, 'field'), (269, 'stay'), (270, 'share'), (271, 'glad'), (272, 'child'), (273, 'heavy'), (274, 'felt'), (275, 'would'), (276, 'place'), (277, 'am'), (278, 'speech'), (279, 'toward'), (280, 'touch'), (281, 'post'), (282, 'major'), (283, 'silver'), (284, 'sun'), (285, 'level'), (286, 'such'), (287, 'major'), (288, 'blow'), (289, 'time'), (290, 'modern'), (291, 'bread'), (292, 'cause'), (293, 'or'), (294, 'in'), (295, 'possible'), (296, 'reach'), (297, 'guide'), (298, 'always'), (299, 'happen'), (300, 'today')]\n",
      "Decoded, the file reads: \n",
      "design all your life so that with all the problems in a day can be solved by a system you have in place today \n"
     ]
    }
   ],
   "source": [
    "decode('SecretMessage.txt')"
   ]
  },
  {
   "cell_type": "code",
   "execution_count": null,
   "id": "a62aecf9",
   "metadata": {},
   "outputs": [],
   "source": []
  }
 ],
 "metadata": {
  "kernelspec": {
   "display_name": "Python 3",
   "language": "python",
   "name": "python3"
  },
  "language_info": {
   "codemirror_mode": {
    "name": "ipython",
    "version": 3
   },
   "file_extension": ".py",
   "mimetype": "text/x-python",
   "name": "python",
   "nbconvert_exporter": "python",
   "pygments_lexer": "ipython3",
   "version": "3.11.9"
  }
 },
 "nbformat": 4,
 "nbformat_minor": 5
}
