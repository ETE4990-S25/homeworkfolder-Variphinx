{
 "cells": [
  {
   "cell_type": "markdown",
   "metadata": {},
   "source": [
    "Your name goes here Pleaese"
   ]
  },
  {
   "cell_type": "markdown",
   "metadata": {},
   "source": [
    "## Objective:\n",
    "The objective of this assignment is to practice using Functional Programing.\n",
    "\n",
    "## Instructions:\n",
    "\n",
    "Using everything we learned to day about Functional Programing, lambda and itters create one of each of the following:\n",
    "-  Basic Lambda Function\n",
    "    - Create a lambda function that takes one arguments and returns even or odd.\n",
    "- Advanced lambda Function\n",
    "    - Create a lambda function that takes a list and returns their sum \n",
    "- Sorting with Lambda\n",
    "- Filtering with Lambda - `filter()` \n",
    "- Mapping with Lambda - `map()`\n",
    "- Reducing with Lambda -  `reduce()` \n",
    "- Enumerate with or without Lambda - `enumerate()`\n",
    "- zip with or without lambda (may combine enumerate like in class) - `zip()`\n",
    "\n",
    "Submit the file as a .py \n",
    "\n",
    "\n"
   ]
  },
  {
   "cell_type": "markdown",
   "metadata": {},
   "source": []
  },
  {
   "cell_type": "code",
   "execution_count": null,
   "metadata": {},
   "outputs": [
    {
     "name": "stdout",
     "output_type": "stream",
     "text": [
      "\n",
      "Basic Even or Odd function:\n",
      "Odd\n",
      "Even\n",
      "\n",
      "Sum lambda function:\n",
      "list: [1, 2, 3, 4, 5, 6, 7, 8, 9, 10]\n",
      "Sum of list: 55\n",
      "\n",
      "Sorted list:\n",
      "[1, 2, 3, 4, 5, 6, 7, 8, 9, 10]\n",
      "\n",
      "Filtered lambda function:\n",
      "[2, 4, 6, 8, 10]\n",
      "\n",
      "mapping lambda function:\n",
      "[1, 4, 9, 16, 25, 36, 49, 64, 81, 100]\n",
      "\n",
      "Reduce lambda function to find max value:\n",
      "10\n",
      "\n",
      "Enumerate lambda function:\n",
      "[(1, 'Mon'), (2, 'Tue'), (3, 'Wed'), (4, 'Thr'), (5, 'Fri'), (6, 'Sat'), (7, 'Sun')]\n",
      "\n",
      "Every day of the month starting with Mon the 1st using zip and cycle:\n",
      "[(1, 'Mon'), (2, 'Tue'), (3, 'Wed'), (4, 'Thr'), (5, 'Fri'), (6, 'Sat'), (7, 'Sun'), (8, 'Mon'), (9, 'Tue'), (10, 'Wed'), (11, 'Thr'), (12, 'Fri'), (13, 'Sat'), (14, 'Sun'), (15, 'Mon'), (16, 'Tue'), (17, 'Wed'), (18, 'Thr'), (19, 'Fri'), (20, 'Sat'), (21, 'Sun'), (22, 'Mon'), (23, 'Tue'), (24, 'Wed'), (25, 'Thr'), (26, 'Fri'), (27, 'Sat'), (28, 'Sun'), (29, 'Mon'), (30, 'Tue'), (31, 'Wed')]\n"
     ]
    }
   ],
   "source": [
    "import importlib  ## Chatgpt to import py file\n",
    "import Hw6\n",
    "importlib.reload(Hw6)\n",
    "Hw6.Run()"
   ]
  },
  {
   "cell_type": "code",
   "execution_count": null,
   "metadata": {},
   "outputs": [],
   "source": []
  }
 ],
 "metadata": {
  "kernelspec": {
   "display_name": "Python 3",
   "language": "python",
   "name": "python3"
  },
  "language_info": {
   "codemirror_mode": {
    "name": "ipython",
    "version": 3
   },
   "file_extension": ".py",
   "mimetype": "text/x-python",
   "name": "python",
   "nbconvert_exporter": "python",
   "pygments_lexer": "ipython3",
   "version": "3.11.9"
  }
 },
 "nbformat": 4,
 "nbformat_minor": 2
}
